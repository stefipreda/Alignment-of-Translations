{
  "nbformat": 4,
  "nbformat_minor": 0,
  "metadata": {
    "colab": {
      "provenance": [],
      "collapsed_sections": []
    },
    "kernelspec": {
      "name": "python3",
      "display_name": "Python 3"
    },
    "language_info": {
      "name": "python"
    }
  },
  "cells": [
    {
      "cell_type": "code",
      "execution_count": null,
      "metadata": {
        "colab": {
          "base_uri": "https://localhost:8080/"
        },
        "id": "ZZJ-8A1NY2g-",
        "outputId": "88a39e0d-8e6b-4bdb-bab0-ff9f3e2dcdb0"
      },
      "outputs": [
        {
          "output_type": "stream",
          "name": "stdout",
          "text": [
            "Looking in indexes: https://pypi.org/simple, https://us-python.pkg.dev/colab-wheels/public/simple/\n",
            "Collecting lang2vec\n",
            "  Downloading lang2vec-1.1.2-py3-none-any.whl (10.2 MB)\n",
            "\u001b[K     |████████████████████████████████| 10.2 MB 3.1 MB/s \n",
            "\u001b[?25hRequirement already satisfied: setuptools in /usr/local/lib/python3.7/dist-packages (from lang2vec) (57.4.0)\n",
            "Requirement already satisfied: numpy in /usr/local/lib/python3.7/dist-packages (from lang2vec) (1.21.6)\n",
            "Installing collected packages: lang2vec\n",
            "Successfully installed lang2vec-1.1.2\n"
          ]
        }
      ],
      "source": [
        "!pip3 install lang2vec"
      ]
    },
    {
      "cell_type": "code",
      "source": [
        "import numpy as np\n",
        "from numpy.linalg import norm\n",
        "import seaborn as sns"
      ],
      "metadata": {
        "id": "wyH_uJlMWTH3"
      },
      "execution_count": null,
      "outputs": []
    },
    {
      "cell_type": "code",
      "source": [
        "from operator import itemgetter"
      ],
      "metadata": {
        "id": "jkcV69uSzOIx"
      },
      "execution_count": null,
      "outputs": []
    },
    {
      "cell_type": "code",
      "source": [
        "import lang2vec.lang2vec as l2v"
      ],
      "metadata": {
        "id": "SrJLbh7xai1H"
      },
      "execution_count": null,
      "outputs": []
    },
    {
      "cell_type": "code",
      "source": [
        "def cos_sim(a, b):\n",
        "  return np.dot(a, b)/ (norm(a) * norm(b))"
      ],
      "metadata": {
        "id": "U-ZJ4F7f3AAG"
      },
      "execution_count": null,
      "outputs": []
    },
    {
      "cell_type": "code",
      "source": [
        "l2v.FEATURE_SETS"
      ],
      "metadata": {
        "id": "xCWM__2FZqGr"
      },
      "execution_count": null,
      "outputs": []
    },
    {
      "cell_type": "code",
      "source": [
        "len(l2v.LANGUAGES) "
      ],
      "metadata": {
        "colab": {
          "base_uri": "https://localhost:8080/"
        },
        "id": "yopM1LKOwqsb",
        "outputId": "20417e50-a793-425b-cd7a-66d047a21deb"
      },
      "execution_count": null,
      "outputs": [
        {
          "output_type": "execute_result",
          "data": {
            "text/plain": [
              "4005"
            ]
          },
          "metadata": {},
          "execution_count": 8
        }
      ]
    },
    {
      "cell_type": "code",
      "source": [
        "languages = ['eng', 'fr', 'it', 'es', 'ro', 'de', 'nl', 'fin', 'hun', 'rus', 'tr', 'kor', 'pol']"
      ],
      "metadata": {
        "id": "vqxLkNFDgumt"
      },
      "execution_count": null,
      "outputs": []
    },
    {
      "cell_type": "code",
      "source": [
        "languages = list(l2v.LANGUAGES)"
      ],
      "metadata": {
        "id": "cyLxK484w510"
      },
      "execution_count": null,
      "outputs": []
    },
    {
      "cell_type": "markdown",
      "source": [
        "### Get features for the listed languages. (family, syntax, phonological)"
      ],
      "metadata": {
        "id": "GMpitzMC1e7T"
      }
    },
    {
      "cell_type": "code",
      "source": [
        "fam_features = l2v.get_features(languages, 'fam', header=True)"
      ],
      "metadata": {
        "id": "X7itaCU-kxVO"
      },
      "execution_count": null,
      "outputs": []
    },
    {
      "cell_type": "code",
      "source": [
        "syntax_features = l2v.get_features(languages, 'syntax_knn', header=True)"
      ],
      "metadata": {
        "id": "pYjwYJnsi2E8"
      },
      "execution_count": null,
      "outputs": []
    },
    {
      "cell_type": "code",
      "source": [
        "phonology_features = l2v.get_features(languages, 'phonology_knn', header=True)"
      ],
      "metadata": {
        "id": "NcDv8sxMi7Zt"
      },
      "execution_count": null,
      "outputs": []
    },
    {
      "cell_type": "markdown",
      "source": [
        "### Get distances from English"
      ],
      "metadata": {
        "id": "CnPMFhDW2ICF"
      }
    },
    {
      "cell_type": "code",
      "source": [
        "fam_distances_to_en = [(lang, np.dot(fam_features['eng'], fam_features[lang])) for lang in languages]"
      ],
      "metadata": {
        "id": "ELA5XNqlyN92"
      },
      "execution_count": null,
      "outputs": []
    },
    {
      "cell_type": "code",
      "source": [
        "sorted(fam_distances_to_en, key=itemgetter(1), reverse=True)"
      ],
      "metadata": {
        "colab": {
          "base_uri": "https://localhost:8080/"
        },
        "id": "QtTPk8FszIhI",
        "outputId": "8a5f9ce6-de75-430b-f691-506465fa5617"
      },
      "execution_count": null,
      "outputs": [
        {
          "output_type": "execute_result",
          "data": {
            "text/plain": [
              "[('eng', 9.0),\n",
              " ('de', 4.0),\n",
              " ('nl', 4.0),\n",
              " ('fr', 1.0),\n",
              " ('it', 1.0),\n",
              " ('es', 1.0),\n",
              " ('ro', 1.0),\n",
              " ('rus', 1.0),\n",
              " ('pol', 1.0),\n",
              " ('fin', 0.0),\n",
              " ('hun', 0.0),\n",
              " ('tr', 0.0),\n",
              " ('kor', 0.0)]"
            ]
          },
          "metadata": {},
          "execution_count": 13
        }
      ]
    },
    {
      "cell_type": "code",
      "source": [
        "syntax_distances_to_en = [(lang, cos_sim(syntax_features['eng'], syntax_features[lang])) for lang in languages]"
      ],
      "metadata": {
        "id": "_RrDmoMI1aod"
      },
      "execution_count": null,
      "outputs": []
    },
    {
      "cell_type": "code",
      "source": [
        "sorted(syntax_distances_to_en, key=itemgetter(1), reverse=True)"
      ],
      "metadata": {
        "colab": {
          "base_uri": "https://localhost:8080/"
        },
        "id": "-sBghiIr3ZX4",
        "outputId": "8effd476-4548-4ec2-b043-bdb74b22a5e8"
      },
      "execution_count": null,
      "outputs": [
        {
          "output_type": "execute_result",
          "data": {
            "text/plain": [
              "[('eng', 1.0000000000000002),\n",
              " ('nl', 0.9242930987335743),\n",
              " ('de', 0.9025419790150205),\n",
              " ('it', 0.85779415410156),\n",
              " ('es', 0.821593865540955),\n",
              " ('fr', 0.8117540630909458),\n",
              " ('rus', 0.8117540630909458),\n",
              " ('ro', 0.7959190572428002),\n",
              " ('pol', 0.7863867486193536),\n",
              " ('fin', 0.7107724707650862),\n",
              " ('hun', 0.6939542359352536),\n",
              " ('kor', 0.5528230328172893),\n",
              " ('tr', 0.5067117097095318)]"
            ]
          },
          "metadata": {},
          "execution_count": 15
        }
      ]
    },
    {
      "cell_type": "markdown",
      "source": [
        "### Family distance matrix"
      ],
      "metadata": {
        "id": "q7g9VuOa4VNw"
      }
    },
    {
      "cell_type": "code",
      "source": [
        "fam_matrix = np.zeros((len(languages), len(languages)))\n",
        "for i, l1 in enumerate(languages):\n",
        "  for j, l2 in enumerate(languages):\n",
        "    fam_matrix[i][j] = np.dot(fam_features[l1], fam_features[l2])"
      ],
      "metadata": {
        "id": "jIQeU8_e9kjR"
      },
      "execution_count": null,
      "outputs": []
    },
    {
      "cell_type": "code",
      "source": [
        "ax = sns.heatmap(fam_matrix)"
      ],
      "metadata": {
        "colab": {
          "base_uri": "https://localhost:8080/",
          "height": 269
        },
        "id": "Dr84KbLr9u2s",
        "outputId": "b11b1d34-553c-4770-8651-8a534c9019c1"
      },
      "execution_count": null,
      "outputs": [
        {
          "output_type": "display_data",
          "data": {
            "text/plain": [
              "<Figure size 432x288 with 2 Axes>"
            ],
            "image/png": "[encoded data removed]"
          },
          "metadata": {
            "needs_background": "light"
          }
        }
      ]
    },
    {
      "cell_type": "markdown",
      "source": [
        "### Syntax distance matrix"
      ],
      "metadata": {
        "id": "LlLgdOJJ4YrF"
      }
    },
    {
      "cell_type": "code",
      "source": [
        "syntax_matrix = np.zeros((len(languages), len(languages)))\n",
        "for i, l1 in enumerate(languages):\n",
        "  for j, l2 in enumerate(languages):\n",
        "    syntax_matrix[i][j] = cos_sim(syntax_features[l1], syntax_features[l2])"
      ],
      "metadata": {
        "id": "acGYmHfZ37n_"
      },
      "execution_count": null,
      "outputs": []
    },
    {
      "cell_type": "code",
      "source": [
        "ax = sns.heatmap(syntax_matrix)"
      ],
      "metadata": {
        "colab": {
          "base_uri": "https://localhost:8080/",
          "height": 269
        },
        "id": "29vouK986kFO",
        "outputId": "17fa4362-a061-4959-dbde-a69c9fe59297"
      },
      "execution_count": null,
      "outputs": [
        {
          "output_type": "display_data",
          "data": {
            "text/plain": [
              "<Figure size 432x288 with 2 Axes>"
            ],
            "image/png": "[encoded data removed]"
          },
          "metadata": {
            "needs_background": "light"
          }
        }
      ]
    },
    {
      "cell_type": "markdown",
      "source": [
        "### Tables for the dissertation"
      ],
      "metadata": {
        "id": "VmqjvgG6KYjX"
      }
    },
    {
      "cell_type": "markdown",
      "source": [
        "Phylogenetic table"
      ],
      "metadata": {
        "id": "m7xNLhR-fC2o"
      }
    },
    {
      "cell_type": "code",
      "source": [
        "print(fam_features['CODE'])\n",
        "print(fam_features['eng'])\n",
        "print(fam_features['arb'])"
      ],
      "metadata": {
        "colab": {
          "base_uri": "https://localhost:8080/"
        },
        "id": "BnT8vWsDNPpk",
        "outputId": "31cb0377-c9b1-47a1-c059-5ee3f6167f3d"
      },
      "execution_count": null,
      "outputs": [
        {
          "output_type": "stream",
          "name": "stdout",
          "text": [
            "['F_Austronesian', 'F_Nuclear_Austronesian', 'F_Malayo-Polynesian', 'F_Central-Eastern_Malayo-Polynesian', 'F_Eastern_Malayo-Polynesian', 'F_Oceanic', 'F_Western_Oceanic_linkage', 'F_North_New_Guinea_linkage', 'F_Huon_Gulf', 'F_Markham', 'F_Ainu', 'F_Atlantic-Congo', 'F_Volta-Congo', 'F_Kwa_Volta-Congo', 'F_Nyo', 'F_Potou-Tano', 'F_Tano', 'F_Central_Tano', 'F_Akanic', 'F_Muskogean', 'F_Alabaman-Koasati', 'F_Eskimo-Aleut', 'F_Mangarrayi-Maran', 'F_Maran', 'F_Indo-European', 'F_Albanian', 'F_Albanian-Tosk', 'F_Panoan', 'F_Mainline_Pano', 'F_Pano_Nawa', 'F_Headwaters', 'F_Arawakan', 'F_Western_Maipuran', 'F_Afro-Asiatic', 'F_Semitic', 'F_West_Semitic', 'F_Ethiosemitic', 'F_South_Ethiopic', 'F_Transversal_South_Ethiopic', 'F_Amharic-Argobba', 'F_Chadic', 'F_West_Chadic', 'F_West_Chadic_A', 'F_West_Chadic_A.2-3', 'F_West_Chadic_A_A.3', 'F_Pama-Nyungan', 'F_Desert_Nyungic', 'F_Wati', 'F_Unclassified_Wati', 'F_Nuclear-Macro-Je', 'F_Je', 'F_Je_Setentrional', 'F_Araucanian', 'F_Central_Semitic', 'F_Arabian', 'F_Arabic', 'F_North_African_Arabic', 'F_Moroccan-Andalusian_Arabic', 'F_Egyptic_Arabic', 'F_Egypto-Sudanic_Arabic', 'F_Nuclear_Trans_New_Guinea', 'F_Kainantu-Goroka', 'F_Kainantu', 'F_Gauwa', 'F_Auyana', 'F_Kosena-Awiyaana', 'F_Cushitic', 'F_Central_Cushitic', 'F_Aymara', 'F_Nuclear_Aymara', 'F_Turkic', 'F_Common_Turkic', 'F_Oghuz-Kipchak-Uyghur', 'F_Oghuz', 'F_South_Oghuz', 'F_Tucanoan', 'F_Eastern_Tucanoan', 'F_Eastern_Eastern_Tucanoan', 'F_Eastern_Eastern_Tucanoan_I', 'F_Bara-Tatuyo', 'F_Indo-Iranian', 'F_Indo-Aryan', 'F_Indo-Aryan_Eastern_zone', 'F_Oriya-Gauda-Kamrupa', 'F_Gauda-Kamrupa', 'F_Gauda-Banga', 'F_Benue-Congo', 'F_Bantoid', 'F_Southern_Bantoid', 'F_Narrow_Bantu', 'F_Central-Western_Bantu', 'F_Kongo-Yaka-Suku-Hungan', 'F_Celtic', 'F_Nuclear_Celtic', 'F_TGB_Celtic', 'F_Insular_Celtic', 'F_Brythonic', 'F_Southwestern_Brythonic', 'F_Northwest_Sumatra-Barrier_Islands', 'F_Toba-Batak', 'F_Northern_Batak', 'F_Balto-Slavic', 'F_Slavic', 'F_South_Slavic', 'F_Eastern_South_Slavic', 'F_Macedo-Bulgarian', 'F_Bolivian_Nawa', 'F_Cariban', 'F_Guianan', 'F_Barbacoan', 'F_Cayapa-Colorado', 'F_Mayan', 'F_Core_Mayan', 'F_Western_Mayan', 'F_Cholan-Tzeltalan', 'F_Cholan', 'F_Chol-Chontal', 'F_Athapaskan-Eyak-Tlingit', 'F_Athapaskan-Eyak', 'F_Athapaskan', 'F_Northern_Athapaskan', 'F_Bolgar', 'F_Malayo-Sumbawan', 'F_North_and_East_Malayo-Sumbawan', 'F_Aceh-Chamic', 'F_Chamic', 'F_Coastal_Chamic', 'F_Cham', 'F_Chukotko-Kamchatkan', 'F_Chukotian', 'F_Sino-Tibetan', 'F_Sinitic', 'F_Northern_Chinese', 'F_Mandarinic', 'F_Southern_Maipuran', 'F_Pre-Andine', 'F_Asha-Ashe-Kak-Matsi-Nan', 'F_Asha-Ashe-Kak', 'F_Asha-Ashe', 'F_Northern_Maipuran', 'F_Caribbean', 'F_Island_Carib-Garifuna', 'F_North_Volta-Congo', 'F_Gur', 'F_Central_Gur', 'F_Northern_Central_Gur', 'F_Bwamu-Oti-Volta', 'F_Oti-Volta', 'F_Nuclear_Oti-Volta', 'F_Gurma-Yom-Oti-Volta_Occidental', 'F_Western_Oti-Volta', 'F_Germanic', 'F_Northwest_Germanic', 'F_West_Germanic', 'F_Franconian', 'F_High_Franconian', 'F_Cochimi-Yuman', 'F_Yuman', 'F_General_Yuman', 'F_Delta-Californian_Yuman', 'F_Graeco-Phrygian', 'F_Greek', 'F_Attic', 'F_Koineic_Greek', 'F_North_Sea_Germanic', 'F_Anglo-Frisian', 'F_Anglian', 'F_Mercian', 'F_Macro-English', 'F_Tungusic', 'F_Northern_Tungusic', 'F_Gbe', 'F_Western_Gbe', 'F_Nubian', 'F_Nobiin_Nubian', 'F_Uralic', 'F_Finnic', 'F_Nuclear_Finnish', 'F_Italic', 'F_Latino-Faliscan', 'F_Latinic', 'F_Imperial_Latin', 'F_Romance', 'F_Italo-Western_Romance', 'F_Western_Romance', 'F_Shifted_Western_Romance', 'F_Northwestern_Shifted_Romance', 'F_Gallo-Rhaetian', 'F_Oil', 'F_Ga-Dangme', 'F_Gadsup-Agarabi', 'F_Gbaya-Manza-Ngbaka', 'F_Gbaya_Meridional-Occidental', 'F_Bokoto-Gbeya', 'F_Gbeya_(Bokoto-Gbeya)', 'F_Gbeya-Suma', 'F_Goidelic', 'F_Western_Goidelic', 'F_Brahmaputran', 'F_Bodo-Garo', 'F_Guajiro-Paraujano', 'F_Tupian', 'F_Tupi-Guarani', 'F_Tupi-Guarani_Subgroup_I', 'F_Tupi-Guarani_Subgroup_I.A', 'F_Paraguay-Brazil_Guarani', 'F_South_Chinese', 'F_West_Chadic_A_A.1', 'F_Central_Pacific', 'F_East_Fijian-Polynesian', 'F_Polynesian', 'F_Nuclear_Polynesian', 'F_Haida', 'F_Northwest_Semitic', 'F_Canaanite', 'F_Hebrewic', 'F_Indo-Aryan_Central_zone', 'F_Subcontinental_Central_Indo-Aryan', 'F_Western_Hindi', 'F_Hindustani', 'F_Uto-Aztecan', 'F_Northern_Uto-Aztecan', 'F_Pacific_Coast_Athapaskan', 'F_California_Athapaskan', 'F_Armenian', 'F_Eastern-Western_Armenian', 'F_Loyalty_Islands', 'F_Igboid', 'F_Igbo', 'F_Bolivia-Parana', 'F_Moxo', 'F_South_Cushitic', 'F_West_Rift_South_Cushitic', 'F_Northern_West_Rift_South_Cushitic', 'F_Iraqw-Gorowa', 'F_North_Germanic', 'F_West_Scandinavian', 'F_Icelandic-Faroese', 'F_Hmong-Mien', 'F_Mienic', 'F_Mien-Mun', 'F_Javanesic', 'F_Modern_Javanese', 'F_Jivaroan', 'F_Shuaric', 'F_Japonic', 'F_Japanese', 'F_Japan-Taiwan_Japanese', 'F_Eskimo', 'F_Inuit', 'F_Indo-Aryan_Northwestern_zone', 'F_Kartvelian', 'F_Georgian-Zan', 'F_Georgic', 'F_Abkhaz-Adyge', 'F_Circassian', 'F_Khantyic', 'F_West_Khanty', 'F_Yeniseian', 'F_Northern_Yeniseian', 'F_Dravidian', 'F_South_Dravidian', 'F_South_Dravidian_I', 'F_Tamil-Kannada', 'F_Tamil-Kota', 'F_Austroasiatic', 'F_Khasi-Palaung', 'F_Khasian', 'F_Khasi-Pnar-Lyngngam', 'F_Khasi-Pnar', 'F_Mongolic', 'F_Eastern_Mongolic', 'F_Oirat-Khalkha', 'F_Khalkha-Buriat', 'F_Mongolian', 'F_Ngero-Vitiaz_linkage', 'F_Khmeric', 'F_Mundaic', 'F_South_Munda', 'F_Kipchak', 'F_South_Kipchak', 'F_Paman', 'F_Southwest_Pama', 'F_Upper_Southwest_Paman', 'F_Kunjen-Undjan-Athima', 'F_Sepik', 'F_Nukuma', 'F_Saharan', 'F_Western_Saharan', 'F_Kanuri', 'F_Kanuric', 'F_Koreanic', 'F_Permian', 'F_Komi', 'F_North_Dravidian', 'F_Kurux-Malto', 'F_Kurux', 'F_Karenic', 'F_Southern_Karen', 'F_Sgaw', 'F_Goilalan', 'F_Wakashan', 'F_Northern_Wakashan', 'F_Kwakiutlan', 'F_Tai-Kadai', 'F_Kam-Tai', 'F_Lakkia-Biao', 'F_Nakh-Daghestanian', 'F_Daghestanian', 'F_Central_Sudanic', 'F_Moru-Madi', 'F_Central_Moru-Madi', 'F_Burmo-Qiangic', 'F_Lolo-Burmese', 'F_Loloish', 'F_Lahoid', 'F_Eastern_Baltic', 'F_Siouan', 'F_Core_Siouan', 'F_Mississippi_Valley', 'F_Dakotan', 'F_Njila', 'F_Southern_Njila', 'F_Chokwe-Lunda', 'F_Chokwe-Luchazi_(K.20)', 'F_Chokwe-Lwena', 'F_Californian_Uto-Aztecan', 'F_Cupan', 'F_Nilotic', 'F_Western_Nilotic', 'F_Luo-Burun', 'F_Southern_Lwoo', 'F_Adhola-Alur-Luo', 'F_Adhola-Luo', 'F_Otomanguean', 'F_Eastern_Otomanguean', 'F_Popoloca-Zapotecan', 'F_Popolocan-Mazatecan', 'F_Mazatecan', 'F_Mazatec_B', 'F_Eastern_Nilotic', 'F_Teso-Lotuxo-Maa', 'F_Lotuxo-Maa', 'F_Ongamo-Maa', 'F_Nuclear_Maa', 'F_Western_Otomanguean', 'F_Otopame-Chinantecan', 'F_Otopamean', 'F_Otomian', 'F_Mazahua', 'F_Mari', 'F_Amuzgo-Mixtecan', 'F_Mixtecan', 'F_Mixtec-Cuicatec', 'F_Mixtec', 'F_Western_Alta_Mixtec', 'F_Iwaidjan_Proper', 'F_Biu-Mandara', 'F_North_Biu-Mandara', 'F_Margi-Mandara-Mofu', 'F_Bura-Marghi', 'F_Biu-Mandara_A_A.2_2', 'F_Burmish', 'F_Southern_Burmish', 'F_Nuclear_Southern_Burmish', 'F_Old-Modern_Burmese', 'F_Khoe-Kwadi', 'F_Khoe', 'F_Khoekhoe', 'F_North_Khoekhoe', 'F_South_Bougainville', 'F_Nasioi', 'F_Apachean', 'F_Southwestern_Apachean', 'F_Western_Southwestern_Apachean', 'F_Sahaptian', 'F_Maiduan', 'F_Marrngu', 'F_Gunwinyguan', 'F_Gunwinyguan_Bak', 'F_Wubuy-Anindilyakwa', 'F_Huitotoan', 'F_Nonuya-Ocaina', 'F_Algic', 'F_Algonquian', 'F_Eastern_Great_Lakes_Algonquian', 'F_Ojibwa-Potawatomi', 'F_Ojibwa', 'F_Nuclear_Ojibwe', 'F_Central-Eastern-Southwestern_Ojibwa', 'F_Iroquoian', 'F_Northern_Iroquoian', 'F_Mohawk-Oneida', 'F_Southern_Uto-Aztecan', 'F_Tepiman', 'F_Piman', 'F_Otomi', 'F_Northwestern_Otomi', 'F_Sindhi-Lahnda', 'F_Eastern_Panjabic', 'F_Be-Tai', 'F_Daic', 'F_Northern_Daic', 'F_Northern_Tai', 'F_Iranian', 'F_Western_Iranian', 'F_Southwestern_Iranian', 'F_Farsic-Caucasian_Tat', 'F_Farsic', 'F_Greater_Barito', 'F_East_Greater_Barito', 'F_Malagasic', 'F_North-Central_Malagasic', 'F_Central_Malagasic', 'F_North_Central_Malagasic', 'F_Bara-Merina', 'F_Pomoan', 'F_Southwestern_Shifted_Romance', 'F_West_Ibero-Romance', 'F_Eastern_Iranian', 'F_Southeastern_Iranian', 'F_Pashto', 'F_Nuclear_Pashto', 'F_Quechuan', 'F_Quechua_II', 'F_Quechua_IIC', 'F_Bolivian_Quechua_IIC', 'F_Berber', 'F_Zenatic', 'F_Eastern_Romance', 'F_Macro-Romanian', 'F_East_Slavic', 'F_North_Siberian_Turkic', 'F_Bahnaric', 'F_North_Bahnaric', 'F_Hre-Sedang-Todrah-Monam', 'F_Hre-Sedang', 'F_Songhay', 'F_Eastern_Songhay', 'F_Sentani', 'F_Nuclear_Sentani', 'F_Sinhalese-Maldivian', 'F_Sinhalaic', 'F_North_Borneo_Malayo-Polynesian', 'F_North_Sarawakan', 'F_Dayic', 'F_Kelabitic', 'F_East_Cushitic', 'F_Lowland_East_Cushitic', 'F_Southern_Lowland_East_Cushitic', 'F_Mainstream_Lowland_East_Cushitic', 'F_Omo-Tana', 'F_Eastern_Omo-Tana', 'F_Castilic', 'F_Finisterre-Huon', 'F_Huon', 'F_Western_Huon', 'F_Timbe-Selepet-Komba', 'F_Selepet-Komba', 'F_Salishan', 'F_Central_Salish', 'F_Tupi-Guarani_Subgroup_II', 'F_Siriono-Jora', 'F_Sundanese-Badui', 'F_East_Bantu', 'F_Northeast_Savanna_Bantu', 'F_Northeast_Coastal_Bantu', 'F_Coastal_NEC_Bantu', 'F_Sabaki-Swahili', 'F_Swahili_(G.40)', 'F_Atayalic', 'F_Ticuna-Yuri', 'F_Central_Dravidian', 'F_Teluguic', 'F_Kiowa-Tanoan', 'F_Tewa', 'F_Greater_Central_Philippine', 'F_Central_Philippine', 'F_Tagalogic', 'F_Tagalog-Filipino', 'F_Central-Southwestern_Tai', 'F_Wenma-Southwestern_Tai', 'F_Sapa-Southwestern_Tai', 'F_Southwestern_Tai', 'F_Sputhwestern_Thai_PH', 'F_Lao-Thai', 'F_Tigre-Tigrinya', 'F_Tigre-Dahalik', 'F_Tiwa-Piro', 'F_Tiwa', 'F_Central_and_South_New_Guinea', 'F_Awyu-Ok', 'F_Ok-Oksapmin', 'F_Ok', 'F_Mountain_Ok', 'F_Asmat-Kamoro', 'F_Asmat', 'F_Citak_Asmat', 'F_Oregon_Athapaskan', 'F_Totonacan', 'F_Totonac', 'F_Central_Totonacan', 'F_Lowland-Sierra_Central_Totonacan', 'F_Tarascan', 'F_West_Oghuz', 'F_Nuclear_West_Oghuz', 'F_Tzeltalan', 'F_Eastern_Algonquian', 'F_Delawaran', 'F_Common_Delaware', 'F_North_Munda', 'F_Kherwarian', 'F_Mundaric', 'F_Ho-Mundari', 'F_Vietic', 'F_Viet-Muong', 'F_Negro-Roraima', 'F_Wapishanan', 'F_Caddoan', 'F_Northern_Caddoan', 'F_Compromise_Middle_Pama', 'F_Wik', 'F_Kuku-Wik-Ep', 'F_Kuku-Wik', 'F_North-Central_Atlantic', 'F_North_Atlantic', 'F_Wolof', 'F_Central_Chinese', 'F_Mande', 'F_Western_Mande', 'F_Manding-Kpelle', 'F_Southwest_Mande', 'F_Kpelle', 'F_Kadugli-Krongo', 'F_Central-Western_Kadugli-Krongo', 'F_Katcha-Kadugli-Miri-Kanga', 'F_Samoyedic', 'F_Core_Samoyedic', 'F_Enets-Nenets', 'F_Nenets', 'F_Yukaghir', 'F_Kolymic', 'F_Western_Daly', 'F_Wagaydy', 'F_Mixe-Zoque', 'F_Zoque', 'F_Chiapas_Zoque', 'F_Malayic', 'F_Nuclear_Malayic', 'F_Indonesian_Archipelago_Malay', 'F_Southern_Bantu-Makua', 'F_Nguni-Tsonga', 'F_Nguni_(S.40)', 'F_Zulu-Xhosa', 'F_Abkhaz-Abaza', 'F_Arabian_Peninsula_Arabic', 'F_Low_Franconian', 'F_Afrikaansic', 'F_Kalamian', 'F_Levantine_Arabic', 'F_Nuclear_Torricelli', 'F_West_Wapei', 'F_One', 'F_Central-Northern_One', 'F_Mbam', 'F_Sanaga_(A.60)', 'F_Central_Mande', 'F_Manding-Jogo', 'F_Manding-Vai', 'F_Manding-Mokole', 'F_Manding', 'F_East_Manding', 'F_Bantu_A-B10-B20-B30', 'F_Basaa_(A.40)', 'F_Basaa-Bakoko', 'F_Wide_Grassfields', 'F_Narrow_Grassfields', 'F_Mbam-Nkam', 'F_Nka', 'F_Mbam-Nkam_Nun', 'F_Bamoun', 'F_Bamileke', 'F_Ring', 'F_Center_Ring', 'F_Nyulnyulan', 'F_Western', 'F_Bardic', 'F_Sama-Bajaw', 'F_Sulu-Borneo', 'F_Borneo_Coast_Bajaw', 'F_Bodic', 'F_Bodish', 'F_Old-Modern_Tibetan', 'F_Tibetic', 'F_Ladakhi-Balti', 'F_West_Chadic_A_A.2', 'F_Boleic', 'F_Nuclear_Boleic', 'F_Galambu-Bele', 'F_Kirfi-Bele', 'F_Ngamo-Bele', 'F_Bolanci-Bele', 'F_Central_Atlantic', 'F_Bak', 'F_Nuclear_Jola', 'F_Fogny-Gusilay-Banjal', 'F_Gusilay-Bandial', 'F_Great_Lakes_Bantu', 'F_Greater_Luyia', 'F_Luyia', 'F_Saamia-Wanga-Bukusu', 'F_Bukusuic', 'F_West_Slavic', 'F_Czech-Slovak', 'F_Czech-Lach', 'F_Western_Muskogean', 'F_Dogon', 'F_Escarpment_Dogon', 'F_Kru', 'F_Eastern_Kru', 'F_Neyo-Dida', 'F_Dida', 'F_Mijikenda-Pokomo-Comorian', 'F_Yuulngu', 'F_Southern_Yolngu', 'F_Southern-Eastern_Yolngu', 'F_Dhuwal-Dhuwala', 'F_Eastern_Dhuwal-Dhuwala', 'F_Rufiji-Ruvuma', 'F_Rufijic', 'F_Unclassified_Rufijic', 'F_Central_Malayo-Polynesian', 'F_Timoric_A', 'F_West_Extra-Ramelaic', 'F_Rotinese', 'F_Dani', 'F_Central_Dani', 'F_Pyramid-Swart_Valley', 'F_Macro-Dutch', 'F_Middle-Modern_Dutch', 'F_Yaunde-Fang_(A.70)', 'F_Ewondo-Bebele', 'F_East_Fijian', 'F_Frisian', 'F_Tsimshian', 'F_Nishga-Gitxsan', 'F_Eastern_Goidelic', 'F_High_German', 'F_Middle-Modern_High_German', 'F_Modern_High_German', 'F_Upper_German', 'F_Alemannic', 'F_Eastern_Gbe', 'F_Anatolian', 'F_Parukotoan', 'F_Waiwaian', 'F_Western_South_Slavic', 'F_Molise-SKB', 'F_South-Western_Slavic', 'F_Kxa', 'F_Delta_Cross', 'F_Lower_Cross', 'F_Central_Lower_Cross', 'F_Efik-Ibibio', 'F_Defoid', 'F_Yoruboid', 'F_West_Bomberai', 'F_Nuclear_West_Bomberai', 'F_Northern_Luzon', 'F_Italo-Dalmatian', 'F_Italian_Romance', 'F_Arawan', 'F_Madi-Madiha', 'F_Guinea_Coast_Creole_English', 'F_Caribbean_English_Creole', 'F_Mirndi', 'F_West_Barkly', 'F_Badaga-Kannada', 'F_Kannadoid', 'F_Kannada', 'F_Quichean-Mamean', 'F_Greater_Quichean', 'F_Mamfe', 'F_Celebic', 'F_Eastern_Celebic', 'F_Southeastern_Celebic', 'F_Muna-Buton', 'F_Tukangbesi-Bonerate', 'F_Tukang_Besi', 'F_Kanjobalan-Chujean', 'F_Kanjobalan', 'F_Kanjobal-Jacaltec', 'F_Russian_River_and_Eastern', 'F_Russian_River', 'F_Southern_Pomoan-Kashaya', 'F_Buli-Koma', 'F_Manjaku-Papel', 'F_Koyo-Mboshi', 'F_West_Kipchak', 'F_Northwestern_Iranian', 'F_Kermanic', 'F_Lango-Kumam', 'F_Boroic', 'F_Nyanga-Mituku-Lega', 'F_Mituku-Lega', 'F_Lega_Complex', 'F_Lega', 'F_Interior_Salish', 'F_Northern_Interior_Salish', 'F_Saamia-Wanga', 'F_Micronesian', 'F_Micronesian_Proper', 'F_Central_Micronesian', 'F_Tamil-Toda', 'F_Tamil-Irula', 'F_Tamil-Kodagu', 'F_Tamil-Malayalam', 'F_Malayalamoid', 'F_Beboid', 'F_Eastern_Beboid', 'F_Bebe-Kemezung', 'F_Naki-Kemezung', 'F_Nakic', 'F_West_Chadic_B', 'F_West_Chadic_B_B.2', 'F_Warji-Gala-Kariya', 'F_Maban', 'F_Mabang', 'F_Maba-Masalit', 'F_Masalit', 'F_Kuki-Chin-Naga', 'F_Naga', 'F_Hurza', \"F_East_Bird's_Head\", 'F_Meax', 'F_Mofuic', 'F_Tokombere', 'F_Min', 'F_Corachol-Aztecan', 'F_Aztec', 'F_Eastern_Nahuatl', 'F_Huasteca_Nahuatl', 'F_Western_Nahuatl', 'F_Central_Nahuatl', 'F_Cangin', 'F_Palor-Ndut', 'F_Indo-Aryan_Northern_zone', 'F_Tuu', 'F_Kwi', 'F_Eastern_Mande', 'F_Southeastern_Mande', 'F_Nwa-Ben', 'F_Ben-Gban', 'F_Bengic', 'F_Tongic', 'F_Modern_Dutch', 'F_Gurma-Yom-Naudem', 'F_Yom-Nawdm', 'F_Western_Lakes_Bantu', 'F_Konzo_(J.40)', 'F_Southwestern_Tai_P', 'F_Shan_Tai', 'F_Southern_Shan', 'F_Nupoid', 'F_Nupe-Gbagyi', 'F_Nupe-Asu', 'F_Nupe-Kupa', 'F_Nupe-Dibo', 'F_Sena-Nyanja', 'F_Nyanjaic', 'F_West_Nyanza', 'F_Rutara', 'F_North_Rutara', 'F_Nkore-Kiga-Nyoro-Tooro', 'F_Occitanic', 'F_Macro-Oriya', 'F_Northeastern_Iranian', 'F_Ossetic', 'F_Altsächsisch', 'F_Northern_Karen', 'F_Flores-Sumba-Hawu', 'F_Flores_Barat', 'F_Ngada-Lio-Paluqe', 'F_Vehicular_Malay', 'F_Eastern_Indonesia_Trade_Malay', 'F_Pontic-Cappadocian_Greek', 'F_Lechitic', 'F_Core_Quichean', 'F_Quiche-Achi', 'F_Quechua_IIB', 'F_Colombia-Ecuador_Quechua_IIB', 'F_Ryukyuan', 'F_Northern_Ryukyuan', 'F_Okinawa', 'F_Bali-Sasak-Sumbawa', 'F_Sasak-Sumbawa', 'F_Northern_Shan', 'F_Sko', 'F_Skou-Serra-Piore', 'F_Skou', 'F_Surinamese_Creole_English', 'F_East_Scandinavian', 'F_Macro-Swedish', 'F_Yawa', 'F_Aramaic', 'F_Eastern_Aramaic', 'F_Central_Eastern_Aramaic', 'F_North-Eastern_Neo-Aramaic', 'F_Trans-Zab', 'F_South-Eastern_Trans-Zab', 'F_Pacific_Creole_English', 'F_Early_Melanesian_Pidgin', 'F_Trique', 'F_Admiralty_Islands', 'F_Eastern_Admiralty_Islands', 'F_Manus', 'F_East_Manus', 'F_Tokharian', 'F_South_Siberian_Turkic', 'F_Sayan', 'F_Uyghur', 'F_Ukrainian-Rusyn', 'F_Gallo-Italian', 'F_Wan-Mwan', 'F_Ngumpin-Yapa', 'F_Ngarga', 'F_Harari-East_Gurage', 'F_Silte-Wolane', 'F_Nambiquaran', 'F_Nambikwara_Complex', 'F_Northern_Nambiquaran', 'F_Nuclear_Kongo-Yaka-Suku-Hungan', 'F_Yaka-Suku', 'F_Edekiri', 'F_Ede', 'F_Eastern_Ede', 'F_Southeastern_Ede', 'F_Nuclear_Yoruba', 'F_Lucumi-Yoruba', 'F_Zapotecan', 'F_Zapotec', 'F_Core_Zapotec', 'F_Central_Core_Zapotec', 'F_Agneby', 'F_Ka-Togo', 'F_Kposo-Ahlo-Bowili', 'F_Sudanese-Chadian_Arabic', 'F_South_Ring', 'F_Babungoic', 'F_Southern_Central_Gur', 'F_Samogo-Soninke', 'F_Duun-Bobo', 'F_Bobo', 'F_Bia', 'F_Northern_Bia', 'F_Oti-Volta_Oriental', 'F_Sara-Bongo-Bagirmi', 'F_Baka-Beli', 'F_Morokodo-Beli', 'F_Lori', 'F_Ngembaic', 'F_Bafut-Beba', 'F_Adamawa-Ubangi', 'F_Ubangi', 'F_Banda', 'F_Central_Banda', 'F_Central_Core', 'F_Ababuan', 'F_Old_Bomokandian', 'F_Komoic', 'F_Bilaic', 'F_Bisa-Busa', 'F_Gurma', 'F_Akpes-Edoid', 'F_Edoid', 'F_North-Central_Edoid', 'F_Central_Plains_Edoid', 'F_Sere-Ngbaka-Mba', 'F_Ngbaka-Mba', 'F_Ngbakaic', 'F_Western_Ngbaka', 'F_Monzombo-Baka', 'F_Baka-Gundi', 'F_Bendic', 'F_Benue-Congo_Plateau', 'F_Beromic', 'F_Iten-Cara-Berom', 'F_Samo-Busa', 'F_Busan', 'F_Boko-Busa', 'F_Kainji', 'F_Central_Kainji', 'F_Kambari-Cicipu', 'F_Kambaric', 'F_East_Kambaric', 'F_Western_Kru', 'F_Bassa', 'F_Lundu-Balong_(A.10)', 'F_Lekongo-Manenguba', 'F_Ngoe', 'F_Manenguba', 'F_Central_Manenguba', 'F_Beteic', 'F_Eastern_Bete', 'F_Mende-Loma', 'F_Mende-Bandi', 'F_Bandi-Zialo', 'F_Soninke-Bozo', 'F_Bozo', 'F_Kirma-Tyurama', 'F_Guro-Tura', 'F_Guro-Dan', 'F_Dan-Toura', 'F_South_Biu-Mandara', 'F_Biu-Mandara_A_A.7', 'F_Zarma-Kaado-Dendi', 'F_Grusi', 'F_East-West_Grusi', 'F_Eastern_Grusi', 'F_Kabiyeic', 'F_Adamawa', 'F_Samba_Duru-Mumuye_Yendang', 'F_Samba_Duru', 'F_Voko-Dowayo', 'F_Vere-Dowayo', 'F_Sawabantu', 'F_Dualaic', 'F_Duala-Malimba', 'F_Tebu', 'F_Manenkan', 'F_Delta_Edoid', 'F_Degema-Engenni', 'F_Ekoid-Mbe', 'F_Ekoid', 'F_Ejagham-Ekajuk', 'F_Ejagham-Etung', 'F_Peul-Serer', 'F_Fula', 'F_Fula-West_Central', 'F_Kivu', 'F_Forest_Kivu', 'F_Fuliiric', 'F_Fula-Eastern', 'F_Fula-East_Central', 'F_Grebo', 'F_Grebo-Liberian', 'F_North-Central_Liberian_Grebo', 'F_Biu-Mandara_A_A.8', 'F_Bataic', 'F_Fali-Gude', 'F_Guang', 'F_North_Guang', 'F_Gonja-Dompo', 'F_Meri', 'F_Western_Bete', 'F_Western_Ede', 'F_Southwestern_Ede', 'F_Idomoid', 'F_Akweya', 'F_Ijoid', 'F_Ijo', 'F_Eastern_Ijo', 'F_Tem-Chala', 'F_Northwest_Songhay', 'F_Central_Kenya_Bantu', 'F_Western_Central_Kenya_Bantu', 'F_Kikuyu-Embu', 'F_Makaa-Njem_(A.80)', 'F_Pomo-Bomwali', 'F_Kako_(A.90)', 'F_Mel', 'F_Bullom-Kissi', 'F_Kissi', 'F_West_African_Creole_English', 'F_Kresh-Aja', 'F_East_Nyanza', 'F_Nyanza_Mara', 'F_North_Mara', 'F_Senufo', 'F_Karaboro', 'F_Mbum-Day', 'F_Mbumic', 'F_Central_Mbum', 'F_Karangic', 'F_Lenduic', 'F_Northern_Grusi', 'F_West_Mbam_(A.40)', 'F_Mandi-Nyokon', 'F_Limba', 'F_Jogo-Jeri', 'F_Jogo', 'F_Greater_Bangi-Ntomba', 'F_Ngiri', 'F_Ngiri_Riverain', 'F_Ngiri_Riverain_Ubangi', 'F_East_Chadic', 'F_East_Chadic_A', 'F_East_Chadic_A_A.2', 'F_East_Chadic_A.2_1', 'F_Nkambe', 'F_Mende-Loko', 'F_Loma', 'F_Kulango-Lorom', 'F_Teenic', 'F_North_Nyanza', 'F_Ndzem-Bomwali', 'F_Makaaic', 'F_Northern_Bantoid', 'F_Mambiloid', 'F_Nizaa-Mambila-Vute', 'F_Konja-Mambila-Vute', 'F_Mambila-Vute', 'F_Mambila-Mbongno', 'F_Mambila', 'F_Mangbetu-Asua', 'F_Mangbetuic', 'F_Upper_Cross', 'F_Central_Upper_Cross', 'F_East-West_Central_Delta_Cross', 'F_Mbembe-Legbo', 'F_Momo', 'F_Widikum-Tadkon', 'F_Southern_Moru-Madi', 'F_Mofu', 'F_Core_Kikongo', 'F_Koongo-Kituba', 'F_West_Manding', 'F_Xasonka', 'F_Mundani-Njen', 'F_Anyinic', 'F_Eastern_Ngbaka', 'F_Surmic', 'F_South_Surmic', 'F_Southwest_Surmic', 'F_Didinga-Murle', 'F_Kita-Kagoro', 'F_North_Senufo', 'F_Western_Grusi', 'F_Sisaala-Chakali', 'F_Chakalic', 'F_Oti_North_Guang', 'F_River_Oti_North_Guang', 'F_Toura-Goo', 'F_South_Senufo', 'F_Gbaya_Oriental', 'F_Gbanu-Manza-Ngbaka', 'F_Manza-Ngbaka', 'F_Ngbandi-Mongoba-Kazibati', 'F_Ngbandic', 'F_Nuclear_Ngbandic', 'F_Nuna-Kasem', 'F_Nuni', 'F_Wee', 'F_Njemic', 'F_Mandaraic', 'F_Podoko', 'F_Sangoic', 'F_SBB_Occidental', 'F_Nuclear_SBB_Occidental', 'F_Saraic', 'F_Central_Sara', 'F_Sara_Central_Logone', 'F_Central_Senufo', 'F_Sisaala', 'F_Northwestern_Sisaala', 'F_Soninkean', 'F_Southern_Nilotic', 'F_Kalenjin', 'F_Elgon-Mau_Kalenjin', 'F_Susu-Yalunka', 'F_Tuareg', 'F_Waama-Tayari-Ditammari', 'F_Tayari-Ditammari', 'F_Ivorian', 'F_Tepo-Plapo', 'F_Temne-Baga', 'F_Teso-Turkana', 'F_Turkanic', 'F_Tusia', 'F_Chakali-Tamprusi-Vagala', 'F_Vutic', 'F_Vute-Wawa', 'F_Yambasa_(A.60)', 'F_Tarokoid', 'F_Yangkam-Tarok-Pe', 'F_Tarok-Pe', 'F_Guro-Yaoure', 'F_Zandic', 'F_Zande-Nzakara', 'F_Macro-Tani', 'F_Tani', 'F_Pre-Western_Tani', 'F_Western_Tani', 'F_Subansiri', 'F_Great_Andamanese', 'F_Central_Great_Andamanese', 'F_Middle_Great_Andamanese', 'F_Kamta', 'F_Assamesic', 'F_Eastern_Hindi', 'F_Gutob-Remo', 'F_Bhil', 'F_Shinaic', 'F_Bundeli-Bharia', 'F_Ta-Ne-Omotic', 'F_Gonga', 'F_Tibeto-Kanauri', 'F_Eastern_Tibeto-Kanauri', 'F_Pithauragarh', 'F_Darma-Byangsi-Chaudangsi', 'F_Darma-Byangsi', 'F_Parji-Ollari-Gadaba', 'F_Gujarati-Rajasthani', 'F_Rajasthani', 'F_Mewari-Gade_Lohar', 'F_Mewati-Gojri', 'F_Gujaratic', 'F_Halbic', 'F_Irula-Muduga', 'F_Himachali', 'F_Kolami-Naiki', 'F_South_Dravidian_II', 'F_Konda-Kui', 'F_Tulu-Koraga', 'F_Koraga', 'F_Gondi', 'F_Central_Pahari', 'F_Indo-Aryan_Southern_zone', 'F_Konkanic', 'F_Manda-Kui', 'F_Kui-Kuvi', 'F_Western_Tibeto-Kanauri', 'F_Lahaulic', 'F_Ladakhic', 'F_Himalayish', 'F_Kuki-Chin', 'F_Central_Kuki-Chin', 'F_Mizoic', 'F_Bihari', 'F_Maithili-Magahi', 'F_Maithilic', 'F_Maharastric', 'F_Marathic', 'F_Malto', 'F_Karbic', 'F_Eastern_Tani', 'F_Geman', 'F_Angami-Ao', 'F_Angami-Pochuri', 'F_Angami-Mao', 'F_Naga_Maoic', 'F_Nicobaric', 'F_Nuclear_Nicobaric', 'F_Central_Nicobar', 'F_Aoic', 'F_Angami-Chokri', 'F_Tangkhul-Maring', 'F_Old_Kuki', 'F_Moyon-Monsang_Naga', 'F_Rengma-Simi', 'F_Konyak', 'F_Konyak_II', 'F_Peripheral_Kuki-Chin', 'F_North_Peripheral_Kuki-Chin', 'F_Thadoic', 'F_Manda-Pengo', 'F_Santalic', 'F_Sindhic', 'F_Sora-Juray-Gorum', 'F_Sora-Juray', 'F_Tamiloid', 'F_Tulu-Bellari', 'F_Tipperic', 'F_Kangric-Chamealic-Bhattiyali', 'F_Indo-Aryan_Northern_zone-Western_Pahari', 'F_Afenmai-Bendel', 'F_Musgu-Kotoko', 'F_Kotoko-Buduma', 'F_Kotoko_Septentrional', 'F_Saho-Afar', 'F_Abo-Barombi', 'F_South_Great_Andamanese', 'F_Ndu', 'F_Nuclear_Ndu', 'F_Ambulas-Hanga-Hundi', 'F_Timor-Alor-Pantar', 'F_Alor-Pantar', 'F_Alor', 'F_Inland_Northern_Maipuran', 'F_Japura-Colombia', 'F_Nuclear_Japura-Colombia', 'F_Piapoco-Achagua', 'F_Northern_Great_Andamanese', 'F_Bo-Cari', 'F_Eastern_Arabic', 'F_Northern_Burmish', 'F_High_Northern_Burmish', 'F_Palaihnihan', 'F_West_Alor', 'F_Straits_West_Alor', 'F_Adang-Hamap-Kabola', 'F_Sign_Language', 'F_Village_Sign_Language', 'F_Arandic-Thura-Yura', 'F_Thura-Yura', 'F_Core_Thura_Yura', 'F_Northern_Thura-Yura', 'F_Sign_Languages', 'F_Arandic', 'F_Aranda', 'F_Madang', 'F_Croisilles', 'F_Mabuso', 'F_Gum', 'F_Lakes_Plain', 'F_Tariku', 'F_East_Tariku', 'F_Eritai-Obokuitai-Biritai', 'F_Legboic', 'F_Senagi', 'F_Middle_Bomokandian', 'F_Late_Bomokandian', 'F_Angan', 'F_West_Ring', 'F_Cagayan_Valley', 'F_Ibanagic', 'F_Gaddangic', 'F_Greater_Mamean', 'F_Ixilan', 'F_Lezgic', 'F_Nuclear_Lezgic', 'F_East_Lezgic', 'F_Northern-Eastern-Western_Agaw', 'F_Greater_Awyu', 'F_Awyu-Dumut', 'F_Awyu', 'F_Mappi-Digul_Awyu', 'F_Hani-Jino', 'F_Bisoid-Hanic', 'F_Hanic', 'F_Ha-Ya', 'F_Akhaic', 'F_Aizi', 'F_Southeast_Solomonic', 'F_Malaita-San_Cristobal', 'F_Malaita-Makira', 'F_Far_East_Yugur', 'F_Southwestern_Jewish_Neo-Aramaic', 'F_South_Omotic', 'F_AHK', 'F_Aari-Gayil', 'F_Southern_Melanesian', 'F_New_Caledonian', 'F_Southern_New_Caledonian', 'F_Houailou', 'F_Venezuelan', 'F_Pemong-Panare', 'F_Pemongan', 'F_Kapong', 'F_Bisayan', 'F_West_Bisayan', 'F_Aklan', 'F_North_and_Central_Vanuatu', 'F_Northern_Vanuatu', 'F_Espiritu_Santo', 'F_South_Santo', 'F_Avar-Andic-Tsezic', 'F_Andic', 'F_Kawesqar', 'F_North_Central_Alacufan', 'F_Avikam-Alladian', 'F_Central_Maluku', 'F_East_Central_Maluku', 'F_Nunusaku', 'F_Piru_Bay', 'F_West_Piru_Bay', 'F_Hoamoal', 'F_Three_Rivers', 'F_Amalumute', 'F_Severn-Algonquin', 'F_Altay_Turkic', 'F_Malaita', 'F_Hamer-Karo', 'F_East_Formosan', 'F_Central_East_Formosan', 'F_South_Halmahera-West_New_Guinea', 'F_Left_May', 'F_Nuclear_Left_May', 'F_Border', 'F_Warisic', 'F_Basa-Eastern_Kainji', 'F_Eastern_Kainji', 'F_Jos', 'F_Sepik_Hill', 'F_Eastern_Sepik_Hill', 'F_Harakmbut', 'F_Amuzgoan', 'F_Ame-Manda', 'F_Kalamic-South_Adelbert', 'F_South_Adelbert', 'F_Sogeram', 'F_Atan', 'F_Angas_Proper_2', 'F_Oboloic', 'F_Jarawa-Onge', 'F_Northern_Lwoo', 'F_Kombio-Arapesh-Urat', 'F_Arapesh', 'F_Mufian-Bukiyip-Abu', 'F_Koiarian', 'F_Baraic', 'F_Oe-Cusse', 'F_Bukiyip-Abu', 'F_Mahakiranti', 'F_Kiranti', 'F_Eastern_Kiranti', 'F_Greater_Yakkha', 'F_Athpariyic', 'F_Eastern_Southwestern_Apachean', 'F_Purus', 'F_Nuclear_Angan', 'F_Wojokesic', 'F_Karnic', 'F_Palku', 'F_Arabana-Wangganguru', 'F_Chibchan', 'F_Core_Chibchan', 'F_Magdalenic', 'F_Northern_Magdalenic', 'F_Arhuacic', 'F_Eastern-Southern_Arhuacic', 'F_Pawnee-Kitsai', 'F_Pawnee-Arikara', 'F_Zaparoan', 'F_Iquito-Arabela', 'F_Arabela-Andoa', 'F_Tacanan', 'F_Takanik-Chamik', 'F_Araona-Toromono', 'F_Arapahoic', 'F_Purubora-Ramarama', 'F_Ramarama', 'F_Western_Omo-Tana', 'F_Pare-Taveta', 'F_ASLic', 'F_American_Sign', 'F_BSLic', 'F_BANZL', 'F_Tupi-Guarani_Subgroup_IV', 'F_Tupi-Guarani_Subgroup_IV.A', 'F_Cree-Montagnais-Naskapi', 'F_South_Sulawesi', 'F_Northern_South_Sulawesi', 'F_Pitu_Ulunna_Salu', 'F_Matangnga-Aralle-Tabulahan', 'F_South_Vanuatu', 'F_Central_Vanuatu', 'F_Malakula', 'F_Taikat-Awyi', 'F_Avatime-Nyangbo', 'F_Au-Olo-Elkei', 'F_Awa-Oweina', 'F_Awin-Pa', 'F_Guaicuruan', 'F_Guaicuru_del_Sur', 'F_Likouala-Sangha', 'F_Bwamba-Ngondi-Pande-Mbati-Aka', 'F_Zamucoan', 'F_Zamuco-Ayoreo', 'F_Meso_Melanesian_linkage', 'F_Alto_Negro', 'F_North_Kipchak', 'F_Bayerisch', 'F_Barai', 'F_Southern_Batak', 'F_Tobaic', 'F_Nakh', 'F_Macro-Bai', 'F_Caijia-Baic', 'F_Baic', 'F_Bunaban', 'F_Bikol', 'F_Coastal_Bikol', 'F_Bosavi', 'F_Bosavi_Watershed', 'F_Kaluli-Sunia', 'F_North-South_Central_Delta_Cross', 'F_Ubaghara-Kohumono', 'F_Kohumonoic', 'F_Higi', 'F_Nkafa-Kirya-Bana', 'F_West_Chadic_B_B.1', 'F_Ngizim-Southwestern_Bade', 'F_Shira-Southwestern_Bade', 'F_Northeast_Sabahan', 'F_South_Lezgic', 'F_Bonam-Monam', 'F_Kpwe', 'F_Southeastern_Pama-Nyungan', 'F_New_South_Wales_Pama-Nyungan', 'F_Bandjalangic', 'F_Goroka', 'F_Nuclear_Goroka', 'F_Betawic', 'F_Bari-Kakwa-Mandari', 'F_Central-Eastern_Tibeto-Kanauri', 'F_Balochic', 'F_Bagri-Jandavra', 'F_Lai_Chin', 'F_Falamic', 'F_Saluan-Banggai', 'F_Eastern_Saluan-Banggai', 'F_Greater_Binanderean', 'F_Binanderean', 'F_Nuclear_Binanderean', 'F_Modern_South_Arabian', 'F_Western_MSA', 'F_Western_Magadhan', 'F_Bhojpuric', 'F_South-West_Pama-Nyungan', 'F_Kartu-Nhanda', 'F_Kartu', 'F_East_Chadic_B', 'F_East_Chadic_B.1', 'F_Dangla-Mabire-Birgit', 'F_Dangla', 'F_Kwomtari', 'F_Bila-Kaiku', 'F_Central_Sepik_Hill', 'F_Bahinemic', 'F_Highland_East_Cushitic', 'F_Tairora', 'F_Rockhampton-Gladstone', 'F_Manobo', 'F_North_Manobo', 'F_Kinamiguin-Bukidnon', 'F_Bukidnon', 'F_Tor-Orya', 'F_Tor', 'F_Pekodian', 'F_Balanta', 'F_Kela-Ntomba', 'F_Bolia-Ntomba-Momngo', 'F_Southeastern_Siouan', 'F_Biloxi-Ofo', 'F_Meso-Cordilleran', 'F_South-Central_Cordilleran', 'F_Central_Cordilleran', 'F_North_Central_Cordilleran', 'F_Nuclear_Cordilleran', 'F_Bagirmic', 'F_Boran', 'F_Kosorong-Burum-Mindik', 'F_Bengaic', 'F_Sangiric', 'F_Southern_Sangiric', 'F_Chumashan', 'F_Southern_Chumashan', 'F_Central_Chumashan', 'F_Bororoan', 'F_Bororo-Otuke', 'F_Nuclear_Bozo', 'F_Ti-Bozo', 'F_Kaure-Narau', 'F_Bilic', 'F_Tboli-Blaan', 'F_Blaan', 'F_Rai_Coast', 'F_Mindjim', 'F_West_Bahnaric', 'F_Nuclear_West_Bahnaric', 'F_Laveh-Brao', 'F_Dutch_Caribbean_Creole', 'F_Baure-Carmelito-Joaquiniano', 'F_Barambo-Pambia', 'F_Isthmic', 'F_Western_Isthmic', 'F_Katuic', 'F_West_Katuic', 'F_Brou-So', 'F_Bru', 'F_Nuclear_Bodo', 'F_Tenda', 'F_Bassari-Bedik-Bapen', 'F_Bassaric', 'F_Nuristani', 'F_Kati-Kamviri', 'F_Western_Eastern_Tucanoan', 'F_Southern_Eastern_Tucanoan', 'F_Baiso-Jiiddu', 'F_Land_Dayak', 'F_Bidayuh-Rejang', 'F_Tsingi-Tsingi', 'F_Vieux_Mongo', 'F_Nkutsuic', 'F_Boshongo', 'F_Tamanic-Bugis', 'F_Bugis', 'F_Hmongic', 'F_Paheng', 'F_Buin', 'F_Lebonya', 'F_Nyali-Ndaka-Mbo-Budu-Vanuma', 'F_Maningrida', 'F_Burera-Nakara', 'F_Bureran', 'F_Geelvink_Bay', 'F_Central_Karen', 'F_Geba-Bwe', 'F_Baniwa-Curripaco-Tariano', 'F_Baniwa-Curripaco', 'F_Buraic', 'F_Pilbara', 'F_Kanyara', 'F_Buriat', 'F_Palawanic', 'F_Northern_Palawanic', 'F_Batak-Central_Tagbanwa', 'F_Northeastern_Agaw', 'F_Baruya-Simbari', 'F_Baining', 'F_Viceitic', 'F_Bisoid', 'F_Bisu-Pyen-Laomian', 'F_Greater_Maric', 'F_Guwa-Maric', 'F_Maric', 'F_Eastern_Maric', 'F_Chorti-Cholti', 'F_Chujean', 'F_Matacoan', 'F_Mataguayo_I', 'F_Lower_Sepik-Ramu', 'F_Lower_Sepik', 'F_Uru-Chipaya', 'F_Eastern_Eastern_Tucanoan_II', 'F_Pisamira-Yuruti', 'F_Pisamira-Carapana', 'F_Taranoan', 'F_Monic', 'F_Cahuapanan', 'F_Maina-Chawi', 'F_Kakua-Nukak', 'F_Chinantecan', 'F_Chinantec_Group_V', 'F_Kham-Magar-Chepang', 'F_Chepangic', 'F_Southern_Magdalenic', 'F_Chibcha-Duit', 'F_Catawban', 'F_Tequistlatecan', 'F_Chechen-Ingush', 'F_Chinookan', 'F_Lower_Chinookan', 'F_Cahuilla-Cupeno', 'F_Kaike-Ghale-Tamangic', 'F_Ghale-Tamangic', 'F_Tamangic', 'F_Gurungic', 'F_Thakali-Chantyal', 'F_Highlands', 'F_Chru-Northern', 'F_Chruic', 'F_Tsamosan', 'F_Inland_Tsamosan', 'F_Asheninka', 'F_Yenisey_Turkic', 'F_Central_East_New_Guinea_Highlands', 'F_Simbu', 'F_Chuave-Nomane', 'F_West_Chadic_A_A.4', 'F_Ronic', 'F_Chinantec_Group_IV', 'F_Kohistani', 'F_Indus_Kohistanic', 'F_Outer_Indus_Kohistani', 'F_Mishmic', 'F_Chocoan', 'F_Embera', 'F_San_Juan', 'F_Upper_San_Juan', 'F_Na-Qiangic', 'F_Qiangic', 'F_Qiang', 'F_South_Peripheral_Kuki-Chin', 'F_Paletwa', 'F_Chinantec_Group_II', 'F_Huastecan', 'F_Tupi-Guarani_Subgroup_III', 'F_Omagua-Kokama', 'F_Western_Tucanoan', 'F_Maijiki-Siona', 'F_Coreguaje-Siona', 'F_Southern_Interior_Salish', 'F_Numic', 'F_Central_Numic', 'F_Egyptian', 'F_Chocho-Popolocan', 'F_Ambrym', 'F_Mixed_Language', 'F_French-Cree_(Mixed_Language)', 'F_Crimean_Tatar-Urum', 'F_Cree', 'F_Corachol', 'F_Coran', 'F_Missouri_River_Siouan', 'F_Mataguayo_II', 'F_Chorote', 'F_South_Bahnaric', 'F_Mnong-Stieng-Chrau', 'F_Carrieric', 'F_Cho-Asho', 'F_Ashoic', 'F_Miwok-Costanoan', 'F_Miwokan', 'F_Western_Miwokan', 'F_FH-Jola', 'F_CSLic', 'F_Nuclear_CSLic', 'F_Eastern_Miwokan', 'F_Sierra', 'F_Chinantec_Group_I', 'F_Costanoan', 'F_Sizangic', 'F_Coosan', 'F_Chatino', 'F_Coastal_Chatino', 'F_Southeastern_Bengali', 'F_Atrato', 'F_Eastern_Chatino', 'F_Cubeo-Desano', 'F_Guahibo', 'F_Guahibo-Cuiva', 'F_Madiha', 'F_Cuicatec', 'F_Daju', 'F_Western_Daju', 'F_Nyala_(Daju)', 'F_Danic', 'F_Kilimanjaro-Taita', 'F_Taita-Sagalla', 'F_Ngumbin', 'F_Jaru-Ngardi', 'F_Tsezic', 'F_West_Tsezic', 'F_Yupua-Siriano-Desano', 'F_Siriano-Desano', 'F_Northeastern_Luzon', 'F_Nuclear_Northeastern_Luzon', 'F_Dagan', 'F_Dhimalish', 'F_Thalanyji-Burduna', 'F_Mantharta', 'F_Yuin-Kuri', 'F_Yuin', 'F_Northern_Costal_Yuin', 'F_Didinga-Longarim', 'F_Central_Karnic', 'F_Western_Central_Karnic', 'F_Pirlatapa-Dieric', 'F_Dieric', 'F_Dinka-Nuer', 'F_Dinka', 'F_Zaza-Gorani', 'F_Zaza', 'F_Yanzi_(B.80)', 'F_Kwilu-Umlaut', 'F_Jaminjungan', 'F_Western-Inland_Yolngu', 'F_Srananic', 'F_Plains_Dogon', 'F_Nuclear_Central_Sepik_Hill', 'F_Kapriman-Watakataui', 'F_Njebe-Mbete-Teke', 'F_Sigu-Njebi', 'F_Njebi_(B.50)', 'F_Ndjavi_B', 'F_Grand_Valley_Dani', 'F_Kam-Sui', 'F_Mulam-Kam', 'F_Kamic', 'F_Northern_Kam', 'F_Mbaic', 'F_Ndunga-Mba-Dongo', 'F_Yarli-Baagandji', 'F_Unclassified_Bihari', 'F_Kuswaric', 'F_Sorbian', 'F_LSFic', 'F_Dutch-Flemish_Sign', 'F_Northwestern_Kainji', 'F_Duka', 'F_Extreme_Southern', 'F_Western_Dhuwal-Dhuwala', 'F_Duru', 'F_Diic', 'F_Western_Kiranti', 'F_Upper_Dudhkosi', 'F_Nungish', 'F_Gunong', 'F_Yimidhirr-Yalanji-Yidinic', 'F_Yidinic', 'F_Mek', 'F_Eastern_Mek', 'F_Paniai_Lakes', 'F_Sotho-Makua-Venda', 'F_Sotho-Makua', 'F_Makua_(P.30)', 'F_Kayah', 'F_Tamanic', 'F_Tupi-Guarani_Subgroup_VIII', 'F_Wayampi-Zoe-Emerillon', 'F_Zoe-Emerillon', 'F_St._Matthias', 'F_Panama-Baudo-Atrato', 'F_Yupik', 'F_Alaskan_Yupik', 'F_Enets', 'F_Enga-Kewa-Huli', 'F_Engan', 'F_Erromanga', 'F_Epi-Efate', 'F_Efate', 'F_Inupiatun', 'F_Etoro-Bedamini', 'F_Uneme-Yekhee', 'F_West_Tungus', 'F_Kalispel-Spokane', 'F_East_Kutubu', 'F_Fore-Gimi', 'F_Baibai-Fas', 'F_Kei-Tanimbar', 'F_Kei-Fordata', 'F_Middle-Modern_Low_German', 'F_Low_German', 'F_Ostfriesisch-Groningisch', 'F_Swedish_Sign', 'F_Finnish_Sign', 'F_Sara_Peripherique', 'F_Barh_Keita', 'F_Furan', 'F_Northern_New_Caledonian', 'F_Hyenghene', 'F_Alto_Orinoco', 'F_Pareni', 'F_Gahuku', 'F_Oromoid', 'F_Nuclear_Oromo', 'F_Central-Eastern_Oromo', 'F_Central_Oromo', 'F_North_Halmahera', 'F_Northern_North_Halmahera', 'F_Mainland_North_Halmaheran', 'F_Galela-Loloda', 'F_Gbagyi-Gbari', 'F_Tangkic', 'F_Southern_Tangkic', 'F_Dghwedeic', 'F_Botlikh-Godoberi', 'F_Ramu', 'F_Lower_Ramu', 'F_Kire-Mikarew', 'F_Enya_(D.10)', 'F_Suki-Gogodala', 'F_Gogodalic', 'F_West-Central_Nubian', 'F_Central_Nubian', 'F_Kordofan_Nubian', 'F_Eastern_Kordofan_Nubian', 'F_Jarrakan', 'F_Maroua', 'F_Ogonoid', 'F_East_Ogonoid', 'F_East_Tungus', 'F_Orok-Nanai', 'F_Adamawa_Bua', 'F_Caspian', 'F_Gilaki-Rudbari', 'F_Morom-Jaya-Naba', 'F_Bayo-Morom', 'F_Mbodomo-Bofi', 'F_North_Coast_Pama-Nyungan', 'F_Waka-Kabic', 'F_Eastern_Waka-Kabic', 'F_Guahibo-Playero', 'F_Gorontalo-Mongondow', 'F_Gorontalic', 'F_Biu-Mandara_A_A.1', 'F_Eastern_Biu-Mandara_A_A.1', 'F_Outer_South_Ethiopic', 'F_N-Group', 'F_DGSic', 'F_Gurindjic', 'F_Tupi-Guarani_Subgroup_I.B', 'F_Chiriguanic', 'F_Coconucan', 'F_Marne', 'F_Central_Gunwinyguan', 'F_Lengua-Mascoy', 'F_Wanano-Piratapuyo', 'F_Nuclear_Simbu', 'F_Golinic', 'F_Yalandyic', 'F_Monde', 'F_Gavianic', 'F_Gaviao-Zoro-Arua-Cinta-Larga', 'F_Gurung', 'F_Papuan_Tip_linkage', 'F_Nuclear_Papuan_Tip_linkage', 'F_Dir-Swat_Kohistani', 'F_Transversal_Lowland_East_Cushitic', 'F_Dullay', 'F_Worrorran', 'F_Northern_Worrorran', 'F_Guere-Krahn', 'F_Guere', 'F_Hanseman', 'F_Kayardild-Yangkaal', 'F_Eastern_Isthmic', 'F_Guaymiic', 'F_Southern_Maric', 'F_Margany-Gunya', 'F_Gorani', 'F_Hatam-Mansim', 'F_South-East-North_Oromo', 'F_Kayong-Jeh-Halang', 'F_Jeh-Halang', 'F_South_Rutara', 'F_Kilba-South_Margi', 'F_Southern_Tanzania_Highlands_Bantu', 'F_Bena-Hehe', 'F_Luban', 'F_Luba-Kaonde', 'F_Lubaic', 'F_Bangubangu-Kasai', 'F_Kunene', 'F_Cimbebasia', 'F_Herero_(R.30)', 'F_Lamang-Hdi', 'F_Central_Bisayan', 'F_Peripheral_Central_Bisayan', 'F_Capiznon-Ilonggo-Kawayan', 'F_Hmaric', 'F_Kapau-Menya', 'F_Non-Khoekhoe', 'F_West-Kxoe', 'F_Kxoe-Ani', 'F_Nuclear_Hmongic-Ho_Ne', 'F_Nuclear_Hmongic', 'F_West_Hmongic', 'F_Greater_Chuanqiandian', 'F_Chuanqiandian', 'F_First_Vernacular_Hmong', 'F_Hua_Miao', 'F_South_Mangyan', 'F_Bembe-Buyu-Binja', 'F_Buyu-Holoholo', 'F_Nuclear_Witoto', 'F_Minica-Murui', 'F_Northern_Cham', 'F_Huavean', 'F_San_Dionisio-San_Mateo_Huave', 'F_East_Tsezic', 'F_Sumba-Hawu', 'F_Hawu-Dhao', 'F_Sawosic', 'F_Sawos', 'F_Ibanic', 'F_Central_Iwaidjic', 'F_Danish_Sign', 'F_Etulo-Idoma', 'F_Nuclear_Idoma', 'F_Ifugaw', 'F_Teke_(B.70)', 'F_South_Teke', 'F_Ni-Li-Kazhouish', 'F_Southeastern_Ngwi', 'F_Nisoid', 'F_Nuclear_Nisoid', 'F_Nasu-Nosu', 'F_Western_Ijo', 'F_Kuliak', 'F_Botatwe', 'F_Lenje-Tonga_(M.60)', 'F_Central_Eastern_Botatwe', 'F_Osum-Wadaginam-Pomoikan', 'F_Pomoikan', 'F_Ingan_Quechua_IIB', 'F_Indo-Pakistani-Nepalese_Sign', 'F_Indo-Pakistani_Sign', 'F_Winnebago-Chiwere', 'F_Cahuarano-Iquito', 'F_Nabi-Irarutu', 'F_Italian_Sign', 'F_Southwestern_Edoid', 'F_Yucatecan', 'F_Mopan-Itza', 'F_Batanic', 'F_Iwam-Wogamus', 'F_Iwamic', 'F_Ngarna', 'F_Anim', 'F_Marind', 'F_Yaqayic', 'F_Jarawan', 'F_Nigerian_Jarawan', 'F_Jarawaic', \"F_South_Bird's_Head_Family\", \"F_East_South_Bird's_Head\", 'F_Jabuti', 'F_Jukunoid', 'F_Central_Jukunoid', 'F_Jukun-Mbembe-Wurbo', 'F_Jukun', 'F_Morehead-Wasur', 'F_Morehead-Maro', 'F_Bulaka_River', 'F_Aslian', 'F_Central-Northern_Aslian', 'F_North_Aslian', 'F_Maniq-Menraq-Batek', 'F_Menraq-Batek', 'F_Jicaquean', 'F_Jino', 'F_Narrow_Talodi', 'F_Ngile-Dengebu', 'F_Yamdena-Onin', 'F_Kinnauric', 'F_Thebor', 'F_Opon-Yukpan', 'F_Yukpan', 'F_JSLic', 'F_Tupi-Guarani_Subgroup_VI', 'F_Manchu-Jurchen', 'F_Nadahup', 'F_Eastern_Nadahup', 'F_Hup-Yuhup', 'F_Yuruna', 'F_Kabyle-Atlas_Berber', 'F_Jingpho-Luish', 'F_Jingpho', 'F_Fer-Gula-Koto', 'F_Eastern_Central_Kenya_Bantu', 'F_Chama_subgroup', 'F_Shipibo-Konibo-Kapanawa', 'F_Koiaric', 'F_Koita-Koiari', 'F_Kanembuic', 'F_Kamano-Yagaria', 'F_South_Gonga', 'F_Kanum', 'F_Ngkrn-Ngkantr', 'F_Ngkantr', 'F_Benue-Congo_Central_Plateau', 'F_South-Central_Benue-Congo_Plateau', 'F_Katabic', 'F_Shona_(S.10)', 'F_Kalanga-Nambya', 'F_Katla-Tima', 'F_Katla-Julud', 'F_WAG', 'F_Watam-Kaian', 'F_Ruvu', 'F_East_Ruvu', 'F_Central_East_Ruvu', 'F_Ruund-Salampasu', 'F_Lunda-Ruund-Kete', 'F_Ruund-Kete', 'F_Pintupic', 'F_Nuclear_Pintupic', 'F_Wangkatja-Tjarra', 'F_Tjarra', 'F_Ruvuma', 'F_Western_Benue-Congo_Plateau', 'F_Northwestern_Benue-Congo_Plateau', 'F_Gyong-Kamantan', 'F_Keresan', 'F_East_Chadic_A_A.3', 'F_Lampung', 'F_Kham', 'F_Eastern_Kadugli-Krongo', 'F_Je_Meridional', 'F_Kaingang-Xokleng', 'F_Kaingangic', 'F_Gumbaynggiric', 'F_South-Western_Tibetic', 'F_Kyirong-Kagate', 'F_Gyalsumdo-Nubri-Kyirong', 'F_Lue-Yong', 'F_Becking-Dawi', 'F_Kham-Hor', 'F_Chitral', 'F_Kim-Besme-Goundo', 'F_Fox', 'F_Kolopom', 'F_Kimaama-Riantana', 'F_Peripheral_Papuan_Tip', 'F_Rwanda-Rundi_(J.60)', 'F_Kiwaian', 'F_West_Tariku', 'F_Fayu-Kirikiri', 'F_Makassar', 'F_Konjo', 'F_Eastern_Timoric_A', 'F_Luang-Kisar', 'F_Kisar-Roma', 'F_Khmuic', \"F_Khmu'\", 'F_Peripheral_Karen', 'F_Pwo', 'F_Eastern-Western_Pwo_Karen', 'F_Kewa-Huli', 'F_Sau-Angal-Kewa', 'F_Angal-Kewa', 'F_Kewa', 'F_Western_Mek', 'F_Wiradhuric', 'F_Central_Kiranti', 'F_Khambu', 'F_Kulungic', 'F_Turama-Kikori', 'F_Klao-Tajuasohn', 'F_Eastern_Huon', 'F_Kate-Mape-Sene', 'F_Kalam-Kobon', 'F_Etp-Ti_Kalam', 'F_Ram', 'F_Kurdish', 'F_Marienberg', 'F_Elepi-Kamasau-Marienberg', 'F_Nimboran', 'F_Outer_Nimboranic', 'F_Mlap-Gresi-Kemtuik', 'F_Gresi-Kemtuik', 'F_East_Oghuz', 'F_Tangalic', 'F_Nuclear_Mokole', 'F_Katukinan', 'F_Ju-Kung', 'F_Kotoko_Central', 'F_Kpan-Icen', 'F_Koho-Maa', 'F_South_Binandere', 'F_Coastal_Binandere', 'F_Gaena-Korafe', \"F_West_Bird's_Head\", \"F_South_West_Bird's_Head\", 'F_Aimore', 'F_Ometo', 'F_East_Ometo', 'F_South_Khoekhoe', 'F_Karelic_Finnic', 'F_West_Ruvu', 'F_Seuta', 'F_Bondei-Shambala', 'F_Bafia_(A.50)', 'F_Nuclear_Bafia_(A.50)', 'F_Lefa-Bafia', 'F_Tangale', 'F_Tangale-Kwami-Kupto', 'F_Kwami-Kupto', 'F_Flores-Lembata', 'F_Galgadungic', 'F_Arikemic', 'F_Katu', 'F_Nuclear_Katu', 'F_Southern_Ju', 'F_Kuman-Dom-Gunaa', 'F_Kuikuroan', 'F_Nuclear_Kuikuro', 'F_Northeastern_Pama', 'F_Bagvalal-Tindi', 'F_Boazi', 'F_Kuna', 'F_Aru', 'F_Central_Aru', 'F_Dobel-Koba', 'F_Ujir-Kola-Kompane', 'F_Kola-Kompane', 'F_Kolana-Tanglapui', 'F_Kwerbic', 'F_Kwerban', 'F_Kwerba', 'F_Unclassified_Barbacoan', 'F_Kwangali-Diriku', 'F_Schouten', 'F_Southern_Cordilleran', 'F_West_Southern_Cordilleran', 'F_Nuclear_Southern_Cordilleran', 'F_Kalapuyan', 'F_Kayan-Kenyah', 'F_Kayanic', 'F_Kayan_Proper', 'F_North_Bougainville', 'F_Subgroup_V', 'F_Kaili-Pamona-Wotu-Wolio', 'F_Kaili-Pamona', 'F_Northern_Kaili-Pamona', 'F_Kaili', 'F_Southwest_Sabahan', 'F_Greater_Dusunic', 'F_Dusunic', 'F_Kadazan-Dusun', 'F_Unclassifiable', 'F_Yucatec-Lacandon', 'F_Mbugwe-Langi', 'F_Bwile-Bemba', 'F_Sabi', 'F_Southern_Sabi', 'F_Bisa-Lamba_(M.50)', 'F_Tomini-Tolitoli', 'F_Tominic', 'F_Northern_Tomini', 'F_Loven-Suq', 'F_Kadaic', 'F_Southwestern_Kra', 'F_Western_Kra', 'F_Lachic', 'F_Lamalamic', 'F_Ngangela-Nyemba', 'F_Western_Lega', 'F_Na-Togo', 'F_Lelemic', 'F_Lelemi-Akpafu', 'F_Membi-Mangbutu-Efe', 'F_Mangbutu-Efe', 'F_Leseic', 'F_Luang-Leti', 'F_Paha-Laha', 'F_Hlaic', 'F_Nuclear_Hlaic', 'F_Lisoid', 'F_Nuclear_Lisoid', 'F_Lisu-Laluba-Lavu', 'F_Limilngan', 'F_Masa', 'F_South_Masa', 'F_Epi', 'F_Lamenu-Lewo', 'F_Ndonga_(R.20)', 'F_Northern_Pama', 'F_Leningitij-Alngith', 'F_Lobiri-Jaane', 'F_Southeast_Islands', 'F_Lomongo', 'F_Mokoreng-Loniu', 'F_Sotho-Tswana_(S.30)', 'F_Sotho', 'F_Sesotho-Lozi', 'F_Luric-Dezfulic', 'F_Luric', 'F_Kaonde-Shaba-Sanga', 'F_Lushootseed-Puget', 'F_Zan', 'F_Madurese', 'F_Eastern_Magahi', 'F_Nuclear_Makassaric', 'F_Mazatec_C', 'F_Central_and_Southern_Manobo', 'F_Central_Manobo', 'F_West_Manobo', 'F_West_Central_Manobo', 'F_Maxakali', 'F_Western_Maxakali', 'F_Eastern_Arhuacic', 'F_East_and_Central_Manobo', 'F_Ata-Tigwa', 'F_Jimi', 'F_Matsi-Nan', 'F_Yaminawa_Complex', 'F_Mayoruna_Branch', 'F_Mayo_Group', 'F_Matses_subgroup', 'F_Mapoyo-Tamanaku', 'F_Mapoyo-Yawarana', 'F_Maquiritari-Wayumara', 'F_North_Masa', 'F_Masa-Gizey-Zumaya', 'F_Mixe', 'F_Oaxaca_Mixe', 'F_Lowland-Midland-South_Highland_Mixe', 'F_Lowland-Midland_Mixe', 'F_Lowland_Mixe', 'F_Northern_Mbum', 'F_Tupuri-Mundang-Mambai', 'F_Ninzic', 'F_Nuclear_Maba', 'F_Mordvin', 'F_Danao', 'F_Mayogo-Bangba', 'F_Mbere_(B.60)', 'F_Tsitsege-Ombamba', 'F_Ombambaic', 'F_Dizoid', 'F_North-West_Ometo', 'F_Sarawak-Melanau-Kajang', 'F_Melanau-Kajang', 'F_Melanau', 'F_Ndunga-Mba', 'F_Wandala-Malgwa-Glavda', 'F_Bringen', 'F_Marithielic', 'F_Cahita', 'F_Sara_Central_Logone-Chari', 'F_Bediondo', 'F_Makua-Lomwe', 'F_Magar', 'F_Corridor_Bantu', 'F_Mwika-Nyika', 'F_Mwika', 'F_Fipa-Mambwe-Lungu', 'F_Mailuan', 'F_Matumbic', 'F_Bantu-Cushitic_(Mixed_Language)', 'F_South_Aslian', 'F_Mungakaic', 'F_West_Central_Maluku', 'F_Buru-Sula-Taliabo', 'F_Sula-Buru', 'F_Buruic', 'F_Mid_Northern_Burmish', 'F_South_Central-South', 'F_Mandaic', 'F_Coast_Mixtec', 'F_East_Coast_Mixtec', 'F_Eastern_Alta_Mixtec', 'F_Guerrero_Mixtec', 'F_Minangkabauic', 'F_West_Coast_Mixtec', 'F_Misumalpan', 'F_Southern_Baja_Mixtec', 'F_Northern_Alta_Mixtec', 'F_Southern_Periphery_Mongolic', 'F_Shirongol', 'F_Central_Baja_Mixtec', 'F_East_Timor-Bunaq', 'F_East_Timor', 'F_East_Santo', 'F_Manambu-Yalaku', 'F_Mugil-Kaukombaran', 'F_Torres-Banks_linkage', 'F_Nuclear_Muna-Buton', 'F_Munan', 'F_Munic', 'F_Western_Munic', 'F_Manchu-Xibe', 'F_Mnong', 'F_Western_Numic', 'F_Qom', 'F_Mongondowic', 'F_Monzomboic', 'F_Heiban', 'F_West-Central_Heiban', 'F_Western_West-Central_Heiban', 'F_River_Yuman', 'F_Northern_Daly', 'F_Martuwangkic', 'F_Warnman-Wangka', 'F_Biu-Mandara_B_B.2', 'F_Musgu-Mbara', 'F_Matis_subgroup', 'F_Teberan', 'F_Mianic', 'F_Somahai', 'F_Torajic', 'F_Manggarai-Rembong-Komodo', 'F_Manggarai-Rembong', 'F_Maraic', 'F_Nuclear_Maraic', 'F_Nuclear_Marind', 'F_Mombum', 'F_Mikarewan', 'F_Nor', 'F_Muongic', 'F_Mundangic', 'F_Southeast_Surmic', 'F_Pastoral_Surmic', 'F_Suri-Mursi', 'F_Yaoic', 'F_Southern_Daly', 'F_Nuclear_Barrier_Islands', 'F_Mentawai-Nias-Sikule', 'F_Monumbo', 'F_Maninka-Mori', 'F_Sido', 'F_B10-B30', 'F_Southern_Wakashan', 'F_Mundurukuic', 'F_Mozabite-Wargla', 'F_Wichi', 'F_Mumuye-Yandang', 'F_Mumuyeic', 'F_Mazanderani-Shahmirzadi', 'F_Ngayarda', 'F_Central_Ngayarda', 'F_Nabak-Momolili', 'F_Willaumez', 'F_Victorian_Pama-Nyungan', 'F_Lower_Murray', 'F_Yaraldi-Keramin-Yitha', 'F_Konyak_I', 'F_Gbanzili-Ngbaka', 'F_Bwaka', 'F_Western_Periphery-North_Guerrero_Nahuatl', 'F_Western_Periphery_Nahuatl', 'F_Lekoic', 'F_Samba-Leko-Perema-Mumbake', 'F_Kwambi-Ndonga', 'F_Sereic', 'F_Sere-Indri', 'F_Sere-Bviri', 'F_Ndogo-Sere', 'F_Extreme_Northern', 'F_Newaric', 'F_Newar', 'F_Temotu', 'F_Reefs-Santa_Cruz', 'F_Ngiri_Terrien', 'F_Ngombe-Genja', 'F_Manda-Ngoni', 'F_Isthmus_Nahuatl', 'F_Naro-Ana', 'F_Nsari-Nooni-Ncane', 'F_Nooni-Ncane', 'F_Nias-Sikule', 'F_Eastern_Gunwinyguan', 'F_Jala', 'F_Mbeya', 'F_Nyika', 'F_Central_and_Southern_Nyika', 'F_Mbozi-Malawi_Nyika', 'F_West_Greater_Barito', 'F_South_West_Greater_Barito', 'F_Ningil-Yil', 'F_Mirning', 'F_Guadalcanal-Nggelic', 'F_Nuclear_Guadalcanal-Nggelic', 'F_Northern_Ngayarda', 'F_Ndumu-Bakanike', 'F_Mvumboic', 'F_Manangba-Nar-Phu', 'F_Hua_(Tuu)', 'F_Taa', 'F_Patakai-Manusela', 'F_Nuaulu', 'F_Finisterre-Saruwaged', 'F_Yupna', 'F_Yellow_River', 'F_Nanticoke-Conoy', 'F_Southern_Kaili-Pamona', 'F_Badaic', 'F_Ngarluma-Kariyarra', 'F_Berawan-Lower_Baram', 'F_Central_Lower_Baram', 'F_Central_Lower_Baram_B', 'F_Tumbuka-Senga', 'F_Norwegian_Sign', 'F_Northern_Sotho', 'F_Tepehuan', 'F_Nusoish', 'F_Nuer-Reel', 'F_Debao-Jingxi-Nung', 'F_Sepik_Tama', 'F_Mehek-Pahi', 'F_Tanna', 'F_Southern_Tanna', 'F_Ngada-Lio', 'F_Ngada', 'F_Mayabic', 'F_Nuclear_Mayabic', 'F_Eastern_(Nyulnyulan)', 'F_Nyikinic', 'F_Nyimang', 'F_Sukuma-Nyamwezi_(F.20)', 'F_Nyamwezic', 'F_Ngangea-So', 'F_Nyawaygic', 'F_Nyulnyulic', 'F_Zemeic', 'F_Nuclear_Zemeic', 'F_Ulchaic', 'F_Central-Eastern_Tungusic', 'F_Matlatzincan', 'F_Central_Delta', 'F_Kugboic', 'F_Tai-Kana', 'F_Orokaivic', 'F_Chaga_(E.30)', 'F_Chaga', 'F_Central_Kilimanjaro', 'F_Dhegiha', 'F_Ambae', 'F_Chonan', 'F_Insular_Chonan', 'F_Olo-Elkei', 'F_Opata-Eudeve', 'F_Nuclear_Eleman', 'F_Western_Eleman', 'F_Ormuri-Parachi', 'F_Osage-Kansa', 'F_Eastern_Otomi', 'F_Central_West-Central_Heiban', 'F_Ebang-Logol', 'F_Ouargli-Temacine', 'F_Central_Maipuran', 'F_Paresi-Saraveka-Saluma', 'F_Central_Luzon', 'F_Chapacuran', 'F_Moreic-Waric', 'F_Waric', 'F_Wanham-Wari-Oro_Win', 'F_Wari-Oro_Win', 'F_Popolocan', 'F_Kisi-Pangwa', 'F_Pamean', 'F_Bungku-Tolaki', 'F_Western_Bungku-Tolaki', 'F_Interior', 'F_Baoanic', 'F_Northern-Central_Pomoan', 'F_Kao_River', 'F_Paguic', 'F_Piroic', 'F_Saliban', 'F_Maco-Piaroa', 'F_Pitta-Pitta', 'F_Northern_Kalenjin', 'F_Pilaga-Toba', 'F_East_Piru_Bay', 'F_Solehua', 'F_Eastern_Maipuran', 'F_Pamona-Tombelala', 'F_Pumi', 'F_Shiroro-Kamuku', 'F_Shiroro', 'F_Pocom', 'F_Gulf_Zoque', 'F_Pogoro_(G.50)', 'F_Palaungic', 'F_West_Palaungic', 'F_Waic', 'F_Wa-Lawa', 'F_Wa', 'F_Eastern_Farsic', 'F_Auxiliary_Sign_Systems', 'F_Phay-Pram', 'F_Northern_Pwo_Karen', 'F_Southeastern_Benue-Congo_Plateau', 'F_Horom-Fyem', 'F_Chimakuan', 'F_Ayacuchan_Quechua', 'F_Cuscan_Quechua', 'F_Quechua_I', 'F_Central_Quechua_I', 'F_Huaylay', 'F_Yaru_Quechua', 'F_AP-AM-AH', 'F_Southern_Central_Kiranti', 'F_Rade-Jarai', 'F_Timbira', 'F_Annaberg', 'F_Rashad', 'F_East_Palaungic', 'F_Palaung-Riang', 'F_Palaung', 'F_Nuclear_Palaung', 'F_Sadong-Rejang', 'F_Nyaturu-Nilamba', 'F_Raji-Raute', 'F_Votic_Chibchan', 'F_Romani', 'F_Romani-Northern', 'F_Northwestern_Romani', 'F_Tswa-Ronga_(S.50)', 'F_Rotokas-Askopan', 'F_Runga-Kibet', 'F_Russian_Sign', 'F_West_Lezgic', 'F_Serra_Hills', 'F_Rawo-Main_Serra', 'F_Gusap-Mot', 'F_Ufim-Rawa-Nahu', 'F_Sahuan', 'F_Nuclear_Sahuan', 'F_Sahu-Waioli', 'F_Western_Botatwe', 'F_Machili', 'F_Lahauli-Spiti', 'F_Hare-Slavey', 'F_Slave', 'F_Western_Shinaic', 'F_Southern_Land_Dayak', 'F_Kho-Bwa', 'F_Kamengic', 'F_Meyic', 'F_Sherdukpen-Sartang', 'F_Senoic', 'F_Senaic', 'F_Kamas-Selkup', 'F_Serrano-Gabrielino', 'F_Siona-Secoya', 'F_Shugni-Yazgulami', 'F_Shughnic', 'F_TT-Group', 'F_Yanomam', 'F_Ninam-Yanomam-Yaroame', 'F_Ost-Kxoe', 'F_Atlas_Berber', 'F_Eastern_Daju', 'F_Tatic', 'F_Central_Tatic', 'F_Khalkhalic', 'F_Shastan', 'F_Eastern_MSA', 'F_Sidaama-Hadiyya-Kambaata', 'F_Sidaama-Gedeo', 'F_Unclassified_Volta-Congo', 'F_Southern_Tibetic', 'F_Dzongkhic', 'F_Siwi-Sokna', 'F_Saami', 'F_Eastern_Saami', 'F_Peninsular_Eastern_Saami', 'F_Tama', 'F_Tama-Sungor', 'F_Tuparic', 'F_Nuclear_Tuparic', 'F_Akuntsu-Mekens', 'F_Sika-Lamaholot', 'F_Lamaholotic', 'F_Lamaholot_Barat', 'F_Southern_Southeast_Maluku', 'F_Western_Saami', 'F_Southwestern_Saami', 'F_Central_Western_Saami', 'F_East_Strickland', 'F_Kubo-Samo-Bibo', 'F_Core_Shona', 'F_Plateau_Shona', 'F_Central_Shona', 'F_Noon-Lehar', 'F_Sira_(B.40)', 'F_Sangu-Sira-Punu', 'F_Sarmi-Jayapura_Bay', 'F_Mbagani-Lwalwa', 'F_Supyiric', 'F_Sapuan-Sok', 'F_Southern_Romance', 'F_Sardo-Corsican', 'F_Sardinian', 'F_Inner_Sulu_Sama', 'F_Kabenau', 'F_Western_Plains_Austronesian', 'F_Spanish_Sign', 'F_Southern_Tepehuan', 'F_Stieng', 'F_North_Binandere', 'F_Then-MMS', 'F_Maonan-Mak-Sui', 'F_Tanglapui', 'F_Northern_Sangiric', 'F_Sangil-Sangir', 'F_Semelai-Semaq', 'F_Inanwatan', 'F_Tarahumaran', 'F_Tarahumara', 'F_Bemba_(M.40)', 'F_Eastern_Jebel', 'F_Tatoga-Omotik', 'F_Tlapanec-Manguean', 'F_Subtiaba-Tlapanec', 'F_Mephaa', 'F_Kayagar', 'F_Kaygir-Tamagario', 'F_Minahasan', 'F_North_Minahasan', 'F_Northeast_Minahasan', 'F_Doutai-Kai-Waritai', 'F_Lanoh-Semnam-Temiar', 'F_Tepehua', 'F_Continental_Chonan', 'F_Temein', 'F_Terena-Kinikinao-Chane', 'F_Central_Extra-Ramelaic', 'F_Tetumic', 'F_Ternatean', 'F_Nuclear_Tamang', 'F_Tajikic', 'F_Thangmi-Baram', 'F_Greater_Murutic', 'F_Murutic', 'F_Northern_Murutic', 'F_Tivoid', 'F_Central_Tivoid', 'F_Central_Tivoid_A', 'F_Tiv-Evand', 'F_Tiv-Iyive-Otanga', 'F_Southern_Tatic', 'F_Ramand-Karaj', 'F_Utupua-Vanikoro', 'F_Tobelo-Tugutil', 'F_Tetelaic', 'F_East_Chadic_A.1', 'F_East_Chadic_A_A.1_1', 'F_Piawi', 'F_Siau', 'F_Central_Tariku', 'F_Takanik', 'F_South_Eastern_Tucanoan', 'F_Tunebo', 'F_Northern_Tanna_linkage', 'F_Northern_Central_Totonacan', 'F_Lowland_Central_Totonacan', 'F_Chakali-Tamprusi', 'F_Eastern_Eleman', 'F_Tiriyoan', 'F_South_Bisayan', 'F_Butuan-Tausug', 'F_Tshangla-East_Bodish', 'F_Tshanglic', 'F_Tswanaic', 'F_Tsogo_(B.30)', 'F_Southern_Okani', 'F_Mamean', 'F_Tutchone', 'F_Western_Biu-Mandara_A_A.1', 'F_Caucasian_Tat', 'F_Tuyuca-Yuruti', 'F_Taulil-Butam', 'F_Tuscarora-Nottoway', 'F_Taos-Picuris', 'F_Nuclear_Rotinese', 'F_Unclassified_Rai_Coast', 'F_Rarmul_Pama', 'F_Northern_Timoric_A', 'F_Wetar', 'F_Perai-Tugun-Aputai', 'F_Hagen', 'F_Aua-Gawil', 'F_Udi-Aghwan', 'F_Eastern_Trans-Fly', 'F_Sahaptin', 'F_Southern_Sahaptin', 'F_Western_Worrorran', 'F_Guaja-Kaapor-Anambe', 'F_Singapore_Archipelago_Malay', 'F_Southern_Numic', 'F_Paman_Kuku', 'F_Uzbek', 'F_Vafsic', 'F_Vai-Kono', 'F_West_Palai', 'F_Northwestern_Kiranti', 'F_Lumbuic', 'F_Bantu_H12-16c', 'F_Borneo_Malay', 'F_Southeast_Borneo_Malay', \"F_Neve'ei-Naman\", 'F_Northern_Sahaptin', 'F_Upper_Chinookan', 'F_Central_Ometo', 'F_Yuki-Wappo', 'F_Warayan', 'F_Samar-Waray', 'F_Waura-Mehinaku', 'F_Nuclear_Waiwaian', 'F_Wayanaic', 'F_Waigali-Tregami', 'F_Yanomam-Yaroame', 'F_Yanomami-Yanimamo', 'F_Westphalic', 'F_Weric', 'F_Wahgic', 'F_Ngatharra-Ngathana-Iinychanya', 'F_Wintuan', 'F_Bali-Vitu', 'F_Western_Waka-Kabic', 'F_Wotu-Wolio', 'F_Wolio-Kamaru', 'F_Gudanji-Binbinga-Wambaya', 'F_Chaurasiya', 'F_Dumut', 'F_Ketum-Wambon', 'F_Wantoatic', 'F_Wantoat-Awara', 'F_Ndeiram', 'F_Numugenan', 'F_Wogamusin-Chenapian', 'F_Southern_Ngarna', 'F_Thawa', 'F_Northern_Maric', 'F_Warungu-Gugu_Badhun', 'F_Yangmanic', 'F_Western_Gunwinyguan', 'F_Warrayic', 'F_Lower_Mamberamo', 'F_Unclassified_Madang', 'F_Kowan', 'F_West_Fijian', 'F_Oirat-Kalmyk-Darkhat', 'F_Kamassic', 'F_Je_Central', 'F_Kombio-Yambes', 'F_Kombioic', 'F_Sumba', 'F_Kamberaic', 'F_Taromic', 'F_Manadoic_Malay', 'F_Eastern_Daly', 'F_Koman', 'F_Opuuo-Twampa-Komo', 'F_Twampa-Komo', 'F_Sherpa-Jirel', 'F_Sherpaic', 'F_Ende-Lio', 'F_Nage-Keo', 'F_Peba-Yagua', 'F_Sogdian-Yagnobi', 'F_Yapesic', 'F_Upper_Arun', 'F_Lohorung-Yamphu', 'F_Yamphuic', 'F_Yucunic', 'F_Yiddish', 'F_Karawarian', 'F_Yindjibarndi-Kurrama', 'F_Ngalik-Nduga', 'F_Yalic', 'F_Nyâlayu', 'F_Yandruwandhic', 'F_Yans-Mpur-Ntsambaan', 'F_Yokutsan', 'F_General_Yokuts', 'F_Nim_Yokuts', 'F_Lowland', 'F_Yareban', 'F_Yareba-Bariji-Nawaru', 'F_Mayo-Pasi', 'F_Pauwasi', 'F_Eastern_Pauwasi', 'F_Yawuric', 'F_Laluba-Lavu', 'F_Lalo', 'F_Greater_Lalo', 'F_Core_Lalo', 'F_Central-Western_Lalo', 'F_Northern_Core_Zapotec', 'F_Eastern_Saharan', 'F_Western_Berber', 'F_Kinga', 'F_Mitukuic', 'F_Maringarr-Matige', 'F_Muruwaric', 'F_Southern_Core_Zapotec', 'F_Mixtepec-Quioquitani-Quierí_Zapotec', 'F_Papabuco', 'F_Zaparo-Abishira', 'F_Mairasi', 'F_Azerbaijani', 'F_Finasleigh_Pama', 'F_Xinguan', 'F_Yawaperi', 'F_Quechua-Puquina_(Mixed_Language)', 'F_Chamicuro-Morike', 'F_Hibito-Cholon', 'F_Guaja-Anambe', 'F_Guaja-Aure-Aura', 'F_Inaparic', 'F_Marubo_Subgroup', 'F_Roosevelt', 'F_Poyanawa_Subgroup', 'F_Puri', 'F_Puri-Coroado', 'F_Conchucos', 'F_Jauja-Huanca', 'F_North_West_Greater_Barito', 'F_Tupi-Guarani_Subgroup_IV.B', 'F_Bahuanaic', 'F_Peba-Yameo', 'F_Alumic', 'F_Alumu-Toro', 'F_Alumu-Akpondu', 'F_Nuclear_Palai', 'F_Yangum-Ambrak', 'F_Ankave-Tainae-Akoye', 'F_Unclassified_South_Cushitic', 'F_Mandobo', 'F_Sambalic', 'F_Alabat-Manide_Agta', 'F_Paitanic', 'F_Afghanistan-Uzbekistan_Arabic', 'F_Efutop-Ekajuk', 'F_Abanyom-Ekajuk', 'F_Abua-Odual', 'F_North_Tivoid', 'F_Abellen-Botolan', 'F_Ambonic_Malay', 'F_Western_Tano', 'F_Tibor-Omosa', 'F_Omosan', 'F_Doriri-Abia', 'F_Unattested', 'F_Mountain_Oti_North_Guang', 'F_Gikyode-Ginyanga', 'F_Jeru-Kora', 'F_Kamuku-Hungwarya', 'F_Kamuku', 'F_Rogo-Sagamuk-Sama-Sambuga', 'F_Sagamuk-Sama-Sambuga', 'F_Tochoic', 'F_Basila-Adele', 'F_Agoan', 'F_North_Lembata', 'F_Norman_Pama', 'F_Kuthant-Gurdjar', 'F_Rib-Gurdjar', 'F_Pashayi', 'F_Eastern_Pashayi', 'F_Voh-Kone', 'F_Chutic', 'F_Western_Gujaratic', 'F_Arafundi', 'F_Tamolan', 'F_Itutang-Midsivindi-Akrukai', 'F_South_Guang', 'F_Arawakan_(Unattested)', 'F_Angal_Mendi', 'F_Bomberai', 'F_Dravidian_(Unattested)', 'F_Inagta_Bikol', 'F_Tainae-Akoye', 'F_Southern_Bia', 'F_Ayere-Ahan', 'F_Koroic', 'F_Bewani', 'F_Pagi-Kilmeri', 'F_Agi-Yeri', 'F_Mak-Ai-Cham', 'F_Jilic-Eggonic', 'F_Eggon-Ake', 'F_Aimol-Syriem', 'F_Assam_Tai', 'F_Kwer-Kopkaka-Burumakok', 'F_Kwer-Burumakok', 'F_West_Coast_Kwerba', 'F_Manzaic', 'F_Ngbaka-Manza-Ali', 'F_Angkola-Mandailing', 'F_Yatye-Akpa', 'F_Central_Sumbanese', 'F_Aian', 'F_East_Semitic', 'F_Yukubenic', 'F_Akum-Beezen', 'F_Juwol-Kol', 'F_North_Mangyan', 'F_Hadiyya-Kambaata', 'F_Kambaataic', 'F_Bragat-Aruop-Amol', 'F_Amami', 'F_Nuclear_Amami', 'F_Oshima', 'F_Amto-Musan', 'F_Western_Aramaic', 'F_Uradhic', 'F_Kebu-Animere', 'F_Mruic', 'F_Unclassified_Chocoan', 'F_Kendem-Denya', 'F_Tirio', 'F_Ataitan', 'F_Chocoan_(Unattested)', 'F_Alorese-Lamalera', 'F_Kochic', 'F_Gelaoic', 'F_Northern_Gelao', 'F_Ahouic', 'F_Paranan-Pahanan', 'F_Barito-Mahakam', 'F_South_Pentecost', 'F_Nambiquaran_(Unattested)', 'F_Perai-Aputai', 'F_West_Dogon', 'F_Unshifted_Western_Romance', 'F_Unclassified_Tucanoan', 'F_Evapia', 'F_Asas-Sinsauru', 'F_West_Kambaric', 'F_Sabakor', 'F_Asuric', 'F_Central_Tivoid_B', 'F_Warup', 'F_Central-Yaosakor_Asmat', 'F_Madre_de_Dios', 'F_Unclassified_North-Central_Edoid', 'F_Southwest_Grassfields', 'F_Menka-Atong', 'F_Atta', 'F_Utupua', 'F_Riverine_Phula', 'F_Downriver_Riverine_Phula', 'F_Phupha-Alugu', 'F_Nuclear_Maimai', 'F_Heyo-Yahang', 'F_Shira', 'F_Nuclear_Tirio', 'F_Auye-Dao', 'F_Artificial_Language', 'F_Bayono-Awbono', 'F_Kuri', 'F_Hunter-Hastings', 'F_Waja-Jen', 'F_Tula-Waja', 'F_Tulaic', 'F_Awak-Kamo', 'F_Far_West_Lakes_Plain', 'F_Bosngun-Awar', 'F_Umbindhamuic', 'F_Lenyima-Leyigha', 'F_Northwestern_Edoid', 'F_Southern_Northwestern_Edoid', 'F_Okpe-Akuku-Idesa', 'F_Qeltu', 'F_Yimin-Bel', 'F_Austronesian_(Unattested)', 'F_Sani-Axi-Azhe-Azha', 'F_Durango_Nahuatl', 'F_Eastern_Senegal-Guinea', 'F_Bainounk', 'F_Baca-Nuclear_Yambasa', 'F_Baca', 'F_Karey-Barakai', 'F_Bantawic', 'F_Batuley-Mariri', 'F_Sira-Punu', 'F_Sira-Barama', 'F_Mangic', 'F_Bolyu-Bugan', 'F_Ngiri_Riverain_Mongala', 'F_Kokon', 'F_Agoi-Doko-Iyoniyong', 'F_Babar', 'F_North_Babaric', 'F_Yandang', 'F_Bali-Kpasam', 'F_Wurbo', 'F_Outer_Central_Sarawak', 'F_Rejang-Sajau', 'F_Bai-Viri', 'F_Rungwa-Wanda-Nyamwanga', 'F_Rungwa-Pimbwe', 'F_Pimbweic', 'F_Seko', 'F_Panasuanic', 'F_Indo-European_(Unattested)', 'F_Central_Lower_Baram_A', \"F_Bakati'\", 'F_Blagaric', 'F_Coastal_Tor', 'F_Betaf-Vitou', 'F_Tonda', 'F_Nuclear_Himachali', 'F_Main-Gwamhi', 'F_Western_Saluan-Banggai', 'F_Saluanic', 'F_Gbaya_Meridional', 'F_Khao-Bit', 'F_Mansoanka-Fore-Mboteni', 'F_South_Manobo', 'F_Mbongno-Mvano', 'F_East_Seram', 'F_Setic', 'F_Chamealic', 'F_Bhadrawahi-Bhalesi-Curahi', 'F_Western_Rajasthani', 'F_Inland_Bikol', 'F_Bohtan', 'F_Buwal-Gavar', 'F_Kumilan', 'F_Kwanka-Sur', 'F_Numan', 'F_West_Manus', 'F_Outer_Enga', 'F_Unclassified_Ngiri', 'F_Budja_(C.36)', 'F_Northwestern_Jewish_Neo-Aramaic', 'F_Bola-Bulu', 'F_Shabak-Bajalani', 'F_East_Borneo_Malay', 'F_Mid-Southern', 'F_Bakwe-Wane', 'F_Kalinga-Itneg', 'F_Kalinga', 'F_Baruga-Doghoro', 'F_Bikwin-Jen', 'F_Bikwin', 'F_Bambuka-Gomu-Leelau', 'F_Gbanzili', 'F_Baki-Bierebo', 'F_Bukitanic-Busangic', 'F_Bukat-Ukit-Beketan-Lugat-Lisum', 'F_Masbate-Sorsogon', 'F_Buhid-Taubuid', 'F_Bekwilic', 'F_Eastern_Bungku-Tolaki', 'F_East_Coast', 'F_Bulangic', 'F_Southern_Tomini', 'F_Black_Tai', 'F_Northern_Njila', 'F_Mbundu_(H.20)', 'F_Mag-Ayta', 'F_Bullom', 'F_Northern_Bullom', 'F_Bom-Kim', 'F_Bamweic', 'F_Northern_Malagasic', 'F_Tsimihety-Betsimisaraka', 'F_Bwamu', 'F_East_Kanuri', 'F_Banda-Geser', 'F_East_Rivers_Seram', 'F_Batangan', 'F_Beezen-Baazem', 'F_Karre-Boni', 'F_Boma-Tiene', 'F_Kewieng-Bonkiman-Nokopo', 'F_Nuclear_Bwamu', 'F_Ngbele-Ngenda', 'F_Ngendan', 'F_Unclassified_Ngendan', 'F_Barbacoan_(Unattested)', 'F_Pidgin', 'F_Malay_based_pidgin_(Pidgin)', 'F_Flinders-Barrow', 'F_Iteri-Bo', 'F_Bago-Delo-Cala', 'F_Eastern_Tibetic', 'F_Yaben-Bilakura', 'F_Central_European_Sign', 'F_Sumambu-Tagal', 'F_Tidongic', 'F_Bieria-Maii', 'F_Barapasi-Sauri-Kofei', 'F_Breri-Romkun', 'F_Southeast_Guadalcanal', 'F_Bundi-Gaikundi', 'F_Bisaya-Lotud', 'F_Nuclear_Tulaic', 'F_Basa', 'F_Kontagora-Gumna-Koromba', 'F_Gumna-Kontagora', 'F_Nuclear_Yambasa', 'F_Northern_Jos', 'F_Ningic', 'F_Birgit-Mogum-Toram', 'F_Burate-Wate', 'F_Brunei-Bacan_Malay', 'F_Kuyan', 'F_Datagnon-Santa_Teresa-Semirara', 'F_Maewo', 'F_Buaic', 'F_Antanakarana-Sakalava', 'F_Mokiba-Ngando', 'F_Yuat', 'F_Miyak-Bun-Biwat', 'F_Bun-Mundukumo', 'F_West_Chadic_B.3', 'F_South_Bauchi_East', 'F_Boghomic', 'F_East_Chadic_A_A.1_2', 'F_Unclassified_Boleic', 'F_West_Ogonoid', 'F_Geseric', 'F_Maipure-Avane', 'F_Bauwakic', 'F_Pagabeteic', 'F_Lumbu-Bwisi', 'F_Sheke', 'F_Jeri', 'F_Hausa_based_pidgin_(Pidgin)', 'F_Naba-Berakou', 'F_Duun-Jo', 'F_Samogo', 'F_Duun', 'F_Binaharic', 'F_Bete-Lufu', 'F_Kauru', 'F_Biaoic', 'F_Bi-Ka', 'F_Northern_East_Formosan', 'F_Burak-Loo', 'F_Central_Western_Plains', 'F_Tolitoli', 'F_Saw', 'F_Cakchiquel-Tzutujil', 'F_North-Central_Jos', 'F_Chokobo-Lemoro-Sanga', 'F_Kainji_Lake', 'F_Upper_Niger_Kainji', 'F_Oleran', 'F_Chopi_(S.60)', 'F_Dakoid', 'F_Taram-Dirim-Nnakenyare', 'F_Piti-Atsam', 'F_Kobiana-Kasanga', 'F_Sumalpan', 'F_Matagalpan', 'F_Nigerian_Sign', 'F_Maonan-Chadong', 'F_Coastal_Tsamosan', 'F_Izeric', 'F_Chuwaboic', 'F_Chinantec_Group_III', 'F_Butonic', 'F_Unclassified_Indo-Aryan', 'F_Chinali-Lahul_Lohar', 'F_Manguean', 'F_Coastal_Venezuelan', 'F_Sak', 'F_Mubic', 'F_Kofyar-Mushere-Chip', 'F_Cakchiquel-Quiche_(Mixed_Language)', 'F_Delo-Cala', 'F_Southern-Central_Mnong', 'F_Zulu-Bantu_(Mixed_Language)', 'F_Choic', 'F_Phunoi-Coong', 'F_Pearic', 'F_Western_Pearic', 'F_Southern_Chong', 'F_Rogue_River', 'F_Corsic', 'F_English_based_pidgin_(Pidgin)', 'F_Hill_South_Guang', 'F_Gua-Cherepon', 'F_Chowra-Teressa', 'F_Hyamic', 'F_Tlacoatzintepec-Chiltepec', 'F_Catalan_Sign', 'F_Old_Chiangmai-Bangkok-Haiphong_Sign', 'F_Old_Chiangmai-Bangkok_Sign', 'F_Unclassified_Deaf_Sign_Language', 'F_Yugoslav_Sign', 'F_Northern_Costanoan', 'F_Ncane-Cung', 'F_Northern_Central_Kenya_Bantu', 'F_Matakam', 'F_Chug-Lish', 'F_PF-Jola', 'F_Kwatay-Karon-Mlomp', 'F_Clela-Damakawa', 'F_Daai-Muun', 'F_Mansakan', 'F_Gera-Geruma-Kubi-Deno', 'F_Kubi-Deno', 'F_North_Plateau', 'F_Northern_Benue-Congo_Plateau', 'F_Jaku-Gubi', 'F_Dabarre-Tunni', 'F_Nangan_Dogon', 'F_Yanda-Bondum-Tebul', 'F_Lotuxo', 'F_Fataluku-Oirata', 'F_Atlantic-Congo_(Unattested)', 'F_Amerindian_pidgin_(Pidgin)', 'F_Bwana-Moam-Tapen', 'F_Dogoso-Khe', 'F_Khandesic', 'F_Galu-Alu', 'F_Western_Kordofan_Nubian', 'F_Dirim-Nnakenyare', 'F_Small_Nambas', 'F_East_Bodish', 'F_Mainstream_East_Bodish', 'F_Dakpa-Dzala', 'F_Dalmatian_Romance', 'F_Dimir-Malas', 'F_Upper_Kinabatangan-Lobu', 'F_Kunar', 'F_Dama-Galke', 'F_Western_Pauwasi', 'F_Rungus-Mangkaak-Labuk', 'F_Dumpas-Sukang', 'F_Peka', 'F_Tiba-Dong', 'F_Doso-Turumsa', 'F_Gan-Dogose', 'F_Dogose-Khisa', 'F_South_Bauchi_West', 'F_Southwest_South_Bauchi', 'F_Dolpo-Tichurong', 'F_Northern_Songhay', 'F_Nootkan', 'F_Yanda-Ana', 'F_Western_Plains_Dogon', 'F_Eastern_Pahari', 'F_Garasia_Bhil', 'F_Yaganon', 'F_Nuru', 'F_Dawro-Gofa-Gamo', 'F_Macleay-New_England', 'F_Afro-Asiatic_(Unattested)', 'F_Nuclear_Dzongkhic', 'F_Potou', 'F_Osse', 'F_Ukue-Ehueun', 'F_Her-Ejamat', 'F_Ekit-Etebi', 'F_Elip-Maala', 'F_Mewahang', 'F_South_Babar', 'F_Southwest_Babar', 'F_Basque-Romani_(Mixed_Language)', 'F_Central_Sogeram', 'F_Eastern_Kra', 'F_Buyang', 'F_Northern_Buyang', 'F_Igwe-Enwa-Sasaru', 'F_Enwang-Uda', 'F_Rgyalrongic', 'F_Horpa-Shangzhai', 'F_Giimbiyu', 'F_Urninganggic', 'F_Ersuic', 'F_Arab_Sign', 'F_Etrusco-Rhaetian', 'F_Central_Kalenjin', 'F_Plateau_Central_Kalenjin', 'F_Koring-Kukele', 'F_Kukele-Uzekwe', 'F_Erap', 'F_Finungwan-Mamaa-Gusan', 'F_Unclassified_Benue-Congo', 'F_East_Sogeram', 'F_Adamawa-Fali', 'F_Central_Iran_Kermanic', 'F_Feroge-Mangaya', 'F_Foiafoian', 'F_Fyer-Tambas', 'F_Higi-Kirya', 'F_East_Lakes_Plain', 'F_Speech_Register', 'F_Indo-European_(Speech_Register)', 'F_Zulu_based_pidgin_(Pidgin)', 'F_Eastern_Heiban', 'F_Unclassified_Narrow_Grassfields', 'F_Zambezi_Hook', 'F_East_Chadic_A.2_2', 'F_Gabri-Kimre', 'F_Cagayan-Baliwon_Gaddang', 'F_Kandawo-Narak', 'F_Western_Sepik_Hill', 'F_Hewa-Paka', 'F_Gberi-Morokodo-Mittu', 'F_Yazdi-Kermani-Nayini', 'F_Konsoid', 'F_Gera-Geruma', 'F_Barclayville-Gboloo-Central_Liberian_Grebo', 'F_Gboloo-Central_Grebo', 'F_Unclassified_Western_Hindi', 'F_Ghera-Gurgula', 'F_Ghale', 'F_Northwestern_Moroccan_Berber', 'F_Southwestern_Gelao', 'F_Northwest_South_Bauchi', 'F_Western_Pashayi', 'F_Vere-Gimme', 'F_Koma_Atlantika', 'F_Gangte-Vaiphei', 'F_Ana', 'F_Unclassified_Tatic', 'F_Qazvinic', 'F_Kami-Kupa-Gupa-Kakanda', 'F_Guruntumic', 'F_Gira-Neko-Nekgini', 'F_Sara_Central_Chari', 'F_Gawarbatic', 'F_Lameic', 'F_Mao', 'F_West_Mao', 'F_Ha-Hoic', 'F_Eastern_Bengali', 'F_Ebang-Laru', 'F_Mexican_Sign', 'F_Hadiyyaic', 'F_East_Hmongic', 'F_Inland_Gulf', 'F_West_Inland_Gulf_of_Papua', 'F_Hoyaic', 'F_Tiboran', 'F_Tshwa_(Khoe-Kwadi)', 'F_Arawan_(Unattested)', 'F_Middle_Sumatra_Malay', 'F_Lipo-Lolopo', 'F_Luvic', 'F_Luvian', 'F_Mashan', 'F_Huishui', 'F_Unclassified_First_Vernacular_Hmong', 'F_Guiyang', 'F_Motu_based_pidgin_(Pidgin)', 'F_Lahnda', 'F_Hindko', 'F_Cuoi', 'F_Mbala-Holu-Sondi_(K.10)', 'F_Holu_(K.10)', 'F_Muller-Schwaner_Punan', 'F_Hozo-Seze', 'F_Northern_Tati', 'F_Manusela-Huaulu', 'F_San_Francisco-Santa_María_Huave', 'F_Kwalean', 'F_Humene-Kwale', 'F_Angkuic', 'F_Southern_Angkuic', 'F_Ibuoro-Nkari', 'F_KaKiBa-Nkoroo', 'F_KaKiBa', 'F_Pahoturi', 'F_Indri-Togoyo', 'F_Timoric_B', 'F_Eastern_Timoric_B', 'F_Tangu-Igom', 'F_Panim-Isebe', 'F_Iha_based_pidgin_(Pidgin)', 'F_Ganaic', 'F_Inland_Ijo', 'F_South_Mara', 'F_Pidgin_Sign_Language', 'F_Lycian-Milyan', 'F_Malaysian_Sign', 'F_Sayhadic', 'F_Inoric', 'F_Itneg', 'F_Moreic-Tora', 'F_Nuclear_More', 'F_Masadiit', 'F_West_Teke', 'F_Laali-Tsaayi-Yaka', 'F_Siraikic', 'F_Turama-Omatian', 'F_Spiti-Jad', 'F_Jen', 'F_Boze-Loro', 'F_Extreme_North_Vestigial_Suffixes_Bantu', 'F_Jina-Majera', 'F_Suguti', 'F_Paku-Mobwa', 'F_Koro-Holon', 'F_West_Kilimanjaro', 'F_Yimchingric', 'F_Makuric', 'F_Levantine-Iraqi_Sign', 'F_Mabaan-Jumjum', 'F_Tala-Sho-Zangwal', 'F_Jwira-Nzima', 'F_Kazhou-Samu', 'F_Kajang', 'F_Kajaman-Lahanan', 'F_Kalikoic', 'F_Northern_Okani', 'F_Mundat-Karfa', 'F_Lokoic', 'F_Lubila-Lokaa', 'F_Kinalakna-Kumukio', 'F_Unclassified_Goemaic', 'F_Kutu-Zaramo', 'F_Kanufi-Ninkyob-Angan', 'F_Kuy-Souei', 'F_Mfumteic', 'F_Keleic', 'F_Kele-Sake', 'F_Kele-Tombidi', 'F_West_Ramelaic', 'F_Koro-Koyaga', 'F_Kodaku-Korwa', 'F_Kasseng-Taliang', \"F_Ta'oihic\", \"F_Nuclear_Ta'oihic\", 'F_Saka', 'F_Nyaneka-Nkhumbi', 'F_Kele_(C.60)', 'F_Kele-Poke', 'F_Kele-Lombo', 'F_Parbate_Kham', 'F_Khiamniungic', 'F_Phobjib-Chali-Bumthangic', 'F_Chali-Bumthangic', 'F_Bumthangic', 'F_Bumthang', 'F_Kiong-Korop', 'F_Coastal_Southwest_Paman', 'F_Dhawa-Kaber', 'F_Kir-Mangas', 'F_Tahltan-Kaska', 'F_Western_Mansakan', 'F_Uruwa', 'F_Kagan-Kalagan', 'F_Kamasa-Susuami', 'F_Kulawi', 'F_Kalao-Laiyolo', 'F_Kole-Isubu', 'F_Vere', 'F_Konda-Yahadian', 'F_Western_Malayic_Dayak', 'F_Konja', 'F_Maniq', 'F_Greater_Kota', 'F_Kota-Mahongwe', 'F_Sauri-Kofei', 'F_Kpala-Bakpa', 'F_Klon-Kafoa', 'F_Sikan', 'F_Manubaran', 'F_Eastern_Murutic', 'F_Kawaimina', 'F_Kinarayan', 'F_Karon-Mlomp', 'F_Gore', 'F_Western_Admiralty_Islands', 'F_Anchorite', 'F_Sugut_Kadazan', 'F_Teor-Kur', 'F_Kayaw-Manu', 'F_Tsakwambo-Komyandaret', 'F_Likwala-Likuba', 'F_Sara-Kaba', 'F_Kwanga-Mende', 'F_Pheende-Kwezo', 'F_Unclassified_Dravidian', 'F_Sibu-Kanowit-Tanjong', 'F_Turama-Kerewo', 'F_Negrosanon', 'F_Kulango', 'F_Taliabo', 'F_Subanen', 'F_Nuclear_Subanen', 'F_Unclassified_Mbum', 'F_Atlantic-Congo_(Speech_Register)', 'F_West_Coast', 'F_North_East_Greater_Barito', 'F_Bangka-Belitung_Malay', 'F_Lawa', 'F_Nyamzak', 'F_Lemoro-Sanga', 'F_Bena-Mboi', 'F_Highland_Phula', 'F_Muji', 'F_Laghuu-Core_Muji', 'F_Turoyo-Mlahso', 'F_Likpe-Santrokofi', 'F_Soga-Kenyi', 'F_Bena', 'F_Yungur-Voro', 'F_Unclassified_Lisoid', 'F_East_Buton', 'F_Lamaholot_Tengah', 'F_Levukaic', 'F_Wewewa-Laboya', 'F_South_Central', 'F_Lanoh-Semnam', 'F_Lanohic', 'F_Mongol-Langam', 'F_Lomweic', 'F_Lepki-Murkim', 'F_Lipo-Micha', 'F_Semnanic', 'F_Mbwela-Mbunda', 'F_Njerup', 'F_Lyngngamic', 'F_Greater_Luyana', 'F_Eastern_Greater_Luyana', 'F_Leinong-Makyan', 'F_Mazatec_A', 'F_Teozacoalco_Mixtec', 'F_East_Central_Manobo', 'F_Sarangani-Tasaday-Cotabato', 'F_Mvano', 'F_East_Chadic_B.3', 'F_Mpiemo-Ukhwejo', 'F_Mbala-Sondi', 'F_Melpa-Tembagla', 'F_Jilic', 'F_Matengic', 'F_Marrku-Wurrugu', 'F_Western_Greater_Luyana', 'F_Mashi-Mbukushi', 'F_Warekena-Mandahuaca', 'F_Northern_Baja_Mixtec', 'F_Northeastern_Alta_Mixtec', 'F_Tharuic', 'F_Unclassified_Tharu', 'F_Moken-Moklen', 'F_Phay-Mal-Tin', 'F_Masenrempulu', 'F_North_Hmongic', 'F_Yidgha-Munja', 'F_Marba-Musey-Ham', 'F_Momare-Migabac', 'F_Boana', 'F_Sulaic', 'F_Wamas-Samosa-Murupi-Mosimo', 'F_Eastern_Mansakan', 'F_Southern_Malagasic', 'F_Sakalava', 'F_Masela-South_Babar', 'F_Molet-Asaroo', 'F_Russian-Aleut_(Mixed_Language)', 'F_Spanish-Quechua_(Mixed_Language)', 'F_Perema-Mumbake', 'F_Ryukyu_Sud', 'F_Mandi-Muniwara', 'F_Okiek-Mosiro', 'F_So-Poke', 'F_Basoo', 'F_Modang-Segai', 'F_Seget-Moi', 'F_Midland_Mixe', 'F_Nambu', 'F_Ngbinda-Mayeka', 'F_Central_East_Baja_Mazatec', 'F_Namla-Tofanma', 'F_North_Guerrero_Nahuatl', 'F_Numana-Ningye', 'F_South_African_Sign', 'F_Bangni-Tagin', 'F_Tehuacan-Zongolica_Nahuatl', 'F_Tehuacanic', 'F_Ndasa-Wumbvu-Samay', 'F_Ndasa-Wumbvu', 'F_Nde-Efutop', 'F_Nyakyusa-Ndali', 'F_Nduga-Luto', 'F_Assamese_based_pidgin_(Pidgin)', 'F_Ngie-Oshie', 'F_Zigua-Nguu', 'F_Nek-Nuk', 'F_Teun-Nila-Serua', 'F_Nila-Serua', 'F_Sauk-Nimi', 'F_Trio_based_(Pidgin)', 'F_Maringic', 'F_Tangko-Nakai', 'F_Natugu-Nalogo', 'F_Naic', 'F_Pochuri-Northern_Rengma', 'F_Southern_Thura-Yura', 'F_Unclassified_Core_Thura-Yura', 'F_Kwilu-Nsong', 'F_Nsong-Mpiin-Ngong', 'F_Nisu-Nyisu', 'F_Nisu', 'F_North_Nisu', 'F_Greater_Sake', 'F_Ngom-Mwesa-Mbangwe', 'F_Ngom-Mwesa', 'F_Naish', 'F_Umbugarla', 'F_Samu', 'F_Mondzish', 'F_Nuclear_Mondzish', 'F_Kashani-Natanzi', 'F_Yasa-Ngumbi', 'F_Afro-Asiatic_(Unclassifiable)', 'F_Sake-Ndambomo', 'F_Nyangbo-Tafi', 'F_Simaaic', 'F_Nyo-Yo', 'F_Ndjavi_A', 'F_Obulomic', 'F_Northwestern-Saulteaux_Ojibwa', 'F_Okinoerabu-Tokunoshima', 'F_Oninic', 'F_Onin_based_pidgin_(Pidgin)', \"F_Ong-Ta'oih\", 'F_Sabellic', 'F_Oscan-Umbrian', 'F_Southwestern_Otomi', 'F_Palatinate', 'F_Kaukombaran', 'F_Wara-Kancha', 'F_Phowa', 'F_Hlepho-Phukha', 'F_Palula-Kalkoti', 'F_Phoenician-Punic', 'F_Siamese', 'F_Panoan_(Unattested)', 'F_Southern_Palawanic', 'F_Molbog-Palawan', 'F_Nuclear_Palawan', 'F_Kohistanic_Shina', 'F_Unclassified_Anatolian', 'F_Brooke-Canipaan_Palawan', 'F_Romance_based_pidgin_(Pidgin)', 'F_Panjabic', 'F_Western_Penan-Sebop', 'F_Aput-Busang-Merah-Kohi', 'F_Jiongnai-Ho_Ne', 'F_Pramic', 'F_Walio', 'F_Pai-Sinen-Walio', 'F_Yarawata-Parawen-Ukuriguma', 'F_Providencia-Cayman_Sign', 'F_Punu-Vungu', 'F_Paraguay-Uruguay_Sign', 'F_Rasawa-Saponi', 'F_Mboh', 'F_Greek-Romani_(Mixed_Language)', 'F_Riang', 'F_Western_Kamta', 'F_Arakanese-Marma', 'F_Danish-Romani_(Mixed_Language)', 'F_English-Romani_(Mixed_Language)', 'F_Norwegian-Romani_(Mixed_Language)', 'F_Iberian-Romani_(Mixed_Language)', 'F_Swedish-Romani_(Mixed_Language)', 'F_Lamamic', 'F_Serbian-Romani_(Mixed_Language)', 'F_Macro-Yaeyama', 'F_Saba-Sokoro-Tamki', 'F_Zakse-Saya', 'F_Mande_Samo', 'F_Vidunda-Sagala', 'F_Wanji-Sangu', 'F_Selungai-Sembakung_Murut', 'F_Sadani', 'F_Yolmo-Kagate', 'F_Shenic', 'F_Belgian_Sign', 'F_East_Nuclear_Subanen', 'F_Surigao', 'F_Kyenga-Shanga', 'F_Ho_Neic', 'F_Mainland_Eastern_Saami', 'F_Miji', 'F_Seke-Sowa', 'F_Sakam-Som', 'F_Western_Subanen', 'F_Nesu-Nasu', 'F_Nasu-Gepu', 'F_Tina-Bolinao', 'F_Northern_Chong', 'F_Aka-Kelo-Molo', 'F_Kesawai-Sausi', 'F_Swahili_based_pidgin_(Pidgin)', 'F_Irish-undocumented_(Mixed_Language)', 'F_Sharwaic', 'F_Kanakanavu-Saaroa', 'F_French_based_pidgin_(Pidgin)', 'F_Waka-Yendang-Teme', 'F_Red_Tai', 'F_Tai_Doic', 'F_Tai_Muong', 'F_Easthern_Tharu', 'F_Unclassified_Shan', 'F_Tujia', 'F_Tupian_(Unattested)', 'F_White_Tai', 'F_Tumbukic', 'F_West_Santo', 'F_Core_Gyalrong', 'F_Kenyahic', 'F_Upper_Pujungan', 'F_Sumuic', 'F_Silopi-Utu', 'F_Northwest_Formosan', 'F_Kamakanan', 'F_Nuclear_Kamakanan', 'F_Tor-Orya_(Unattested)', 'F_Waka-Yandang', 'F_Ngarru', 'F_Pama-Nyungan_(Unattested)', 'F_Garrwan', 'F_Kalkatungic_(Unclassifiable)', 'F_Unclassified_Sinitic', 'F_Hasha-Sambe', 'F_Cisalpine_Celtic', 'F_Transalpine-Galatian_Celtic', 'F_Hurro-Urartian', 'F_Indo-European_(Unclassifiable)', 'F_Cariban_(Unattested)', 'F_Zigulaic', 'F_Southern_Yeniseian', 'F_Arin-Pumpokol', 'F_Kott-Assan', 'F_Eastern_Victoria', 'F_Thopho-Core_Muji', 'F_Core_Muji', 'F_Nuclear_Core_Muji', 'F_Bokha-Phuma', 'F_Unclassified_Nasu-Gepu', 'F_Yangum', 'F_German-Yiddish-Romani-Rotwelsch_(Mixed_Language)', 'F_Nesu', 'F_Yau-Yis', 'F_Sani-Axi-Azhe', 'F_Sani-Axi', 'F_Khlula-Zokhuo', 'F_Kuansi-Kuamasi-Sonaga', 'F_Kuansi-Kuamasi', 'F_Northern-Southern_Muji', 'F_Upriver_Riverine_Phula', 'F_Ani-Labo', 'F_Pholic', 'F_Phupa-Phuza', 'F_East_Queensland_Border_Pama_Nyungan', 'F_Yugambalic', 'F_Yugambal-Bigambal', 'F_Miahuatec', 'F_Berawan', 'F_Central-East_Berawan', 'F_Iwaidjan_Proper_(Unattested)', 'F_West_Zapotec', 'F_West-Central_West_Zapotec', 'F_Coatec', 'F_Coatlan-Loxicha_Zapotec', 'F_Yongnan-Yongbei']\n",
            "[0.0, 0.0, 0.0, 0.0, 0.0, 0.0, 0.0, 0.0, 0.0, 0.0, 0.0, 0.0, 0.0, 0.0, 0.0, 0.0, 0.0, 0.0, 0.0, 0.0, 0.0, 0.0, 0.0, 0.0, 1.0, 0.0, 0.0, 0.0, 0.0, 0.0, 0.0, 0.0, 0.0, 0.0, 0.0, 0.0, 0.0, 0.0, 0.0, 0.0, 0.0, 0.0, 0.0, 0.0, 0.0, 0.0, 0.0, 0.0, 0.0, 0.0, 0.0, 0.0, 0.0, 0.0, 0.0, 0.0, 0.0, 0.0, 0.0, 0.0, 0.0, 0.0, 0.0, 0.0, 0.0, 0.0, 0.0, 0.0, 0.0, 0.0, 0.0, 0.0, 0.0, 0.0, 0.0, 0.0, 0.0, 0.0, 0.0, 0.0, 0.0, 0.0, 0.0, 0.0, 0.0, 0.0, 0.0, 0.0, 0.0, 0.0, 0.0, 0.0, 0.0, 0.0, 0.0, 0.0, 0.0, 0.0, 0.0, 0.0, 0.0, 0.0, 0.0, 0.0, 0.0, 0.0, 0.0, 0.0, 0.0, 0.0, 0.0, 0.0, 0.0, 0.0, 0.0, 0.0, 0.0, 0.0, 0.0, 0.0, 0.0, 0.0, 0.0, 0.0, 0.0, 0.0, 0.0, 0.0, 0.0, 0.0, 0.0, 0.0, 0.0, 0.0, 0.0, 0.0, 0.0, 0.0, 0.0, 0.0, 0.0, 0.0, 0.0, 0.0, 0.0, 0.0, 0.0, 0.0, 0.0, 0.0, 0.0, 1.0, 1.0, 1.0, 0.0, 0.0, 0.0, 0.0, 0.0, 0.0, 0.0, 0.0, 0.0, 0.0, 1.0, 1.0, 1.0, 1.0, 1.0, 0.0, 0.0, 0.0, 0.0, 0.0, 0.0, 0.0, 0.0, 0.0, 0.0, 0.0, 0.0, 0.0, 0.0, 0.0, 0.0, 0.0, 0.0, 0.0, 0.0, 0.0, 0.0, 0.0, 0.0, 0.0, 0.0, 0.0, 0.0, 0.0, 0.0, 0.0, 0.0, 0.0, 0.0, 0.0, 0.0, 0.0, 0.0, 0.0, 0.0, 0.0, 0.0, 0.0, 0.0, 0.0, 0.0, 0.0, 0.0, 0.0, 0.0, 0.0, 0.0, 0.0, 0.0, 0.0, 0.0, 0.0, 0.0, 0.0, 0.0, 0.0, 0.0, 0.0, 0.0, 0.0, 0.0, 0.0, 0.0, 0.0, 0.0, 0.0, 0.0, 0.0, 0.0, 0.0, 0.0, 0.0, 0.0, 0.0, 0.0, 0.0, 0.0, 0.0, 0.0, 0.0, 0.0, 0.0, 0.0, 0.0, 0.0, 0.0, 0.0, 0.0, 0.0, 0.0, 0.0, 0.0, 0.0, 0.0, 0.0, 0.0, 0.0, 0.0, 0.0, 0.0, 0.0, 0.0, 0.0, 0.0, 0.0, 0.0, 0.0, 0.0, 0.0, 0.0, 0.0, 0.0, 0.0, 0.0, 0.0, 0.0, 0.0, 0.0, 0.0, 0.0, 0.0, 0.0, 0.0, 0.0, 0.0, 0.0, 0.0, 0.0, 0.0, 0.0, 0.0, 0.0, 0.0, 0.0, 0.0, 0.0, 0.0, 0.0, 0.0, 0.0, 0.0, 0.0, 0.0, 0.0, 0.0, 0.0, 0.0, 0.0, 0.0, 0.0, 0.0, 0.0, 0.0, 0.0, 0.0, 0.0, 0.0, 0.0, 0.0, 0.0, 0.0, 0.0, 0.0, 0.0, 0.0, 0.0, 0.0, 0.0, 0.0, 0.0, 0.0, 0.0, 0.0, 0.0, 0.0, 0.0, 0.0, 0.0, 0.0, 0.0, 0.0, 0.0, 0.0, 0.0, 0.0, 0.0, 0.0, 0.0, 0.0, 0.0, 0.0, 0.0, 0.0, 0.0, 0.0, 0.0, 0.0, 0.0, 0.0, 0.0, 0.0, 0.0, 0.0, 0.0, 0.0, 0.0, 0.0, 0.0, 0.0, 0.0, 0.0, 0.0, 0.0, 0.0, 0.0, 0.0, 0.0, 0.0, 0.0, 0.0, 0.0, 0.0, 0.0, 0.0, 0.0, 0.0, 0.0, 0.0, 0.0, 0.0, 0.0, 0.0, 0.0, 0.0, 0.0, 0.0, 0.0, 0.0, 0.0, 0.0, 0.0, 0.0, 0.0, 0.0, 0.0, 0.0, 0.0, 0.0, 0.0, 0.0, 0.0, 0.0, 0.0, 0.0, 0.0, 0.0, 0.0, 0.0, 0.0, 0.0, 0.0, 0.0, 0.0, 0.0, 0.0, 0.0, 0.0, 0.0, 0.0, 0.0, 0.0, 0.0, 0.0, 0.0, 0.0, 0.0, 0.0, 0.0, 0.0, 0.0, 0.0, 0.0, 0.0, 0.0, 0.0, 0.0, 0.0, 0.0, 0.0, 0.0, 0.0, 0.0, 0.0, 0.0, 0.0, 0.0, 0.0, 0.0, 0.0, 0.0, 0.0, 0.0, 0.0, 0.0, 0.0, 0.0, 0.0, 0.0, 0.0, 0.0, 0.0, 0.0, 0.0, 0.0, 0.0, 0.0, 0.0, 0.0, 0.0, 0.0, 0.0, 0.0, 0.0, 0.0, 0.0, 0.0, 0.0, 0.0, 0.0, 0.0, 0.0, 0.0, 0.0, 0.0, 0.0, 0.0, 0.0, 0.0, 0.0, 0.0, 0.0, 0.0, 0.0, 0.0, 0.0, 0.0, 0.0, 0.0, 0.0, 0.0, 0.0, 0.0, 0.0, 0.0, 0.0, 0.0, 0.0, 0.0, 0.0, 0.0, 0.0, 0.0, 0.0, 0.0, 0.0, 0.0, 0.0, 0.0, 0.0, 0.0, 0.0, 0.0, 0.0, 0.0, 0.0, 0.0, 0.0, 0.0, 0.0, 0.0, 0.0, 0.0, 0.0, 0.0, 0.0, 0.0, 0.0, 0.0, 0.0, 0.0, 0.0, 0.0, 0.0, 0.0, 0.0, 0.0, 0.0, 0.0, 0.0, 0.0, 0.0, 0.0, 0.0, 0.0, 0.0, 0.0, 0.0, 0.0, 0.0, 0.0, 0.0, 0.0, 0.0, 0.0, 0.0, 0.0, 0.0, 0.0, 0.0, 0.0, 0.0, 0.0, 0.0, 0.0, 0.0, 0.0, 0.0, 0.0, 0.0, 0.0, 0.0, 0.0, 0.0, 0.0, 0.0, 0.0, 0.0, 0.0, 0.0, 0.0, 0.0, 0.0, 0.0, 0.0, 0.0, 0.0, 0.0, 0.0, 0.0, 0.0, 0.0, 0.0, 0.0, 0.0, 0.0, 0.0, 0.0, 0.0, 0.0, 0.0, 0.0, 0.0, 0.0, 0.0, 0.0, 0.0, 0.0, 0.0, 0.0, 0.0, 0.0, 0.0, 0.0, 0.0, 0.0, 0.0, 0.0, 0.0, 0.0, 0.0, 0.0, 0.0, 0.0, 0.0, 0.0, 0.0, 0.0, 0.0, 0.0, 0.0, 0.0, 0.0, 0.0, 0.0, 0.0, 0.0, 0.0, 0.0, 0.0, 0.0, 0.0, 0.0, 0.0, 0.0, 0.0, 0.0, 0.0, 0.0, 0.0, 0.0, 0.0, 0.0, 0.0, 0.0, 0.0, 0.0, 0.0, 0.0, 0.0, 0.0, 0.0, 0.0, 0.0, 0.0, 0.0, 0.0, 0.0, 0.0, 0.0, 0.0, 0.0, 0.0, 0.0, 0.0, 0.0, 0.0, 0.0, 0.0, 0.0, 0.0, 0.0, 0.0, 0.0, 0.0, 0.0, 0.0, 0.0, 0.0, 0.0, 0.0, 0.0, 0.0, 0.0, 0.0, 0.0, 0.0, 0.0, 0.0, 0.0, 0.0, 0.0, 0.0, 0.0, 0.0, 0.0, 0.0, 0.0, 0.0, 0.0, 0.0, 0.0, 0.0, 0.0, 0.0, 0.0, 0.0, 0.0, 0.0, 0.0, 0.0, 0.0, 0.0, 0.0, 0.0, 0.0, 0.0, 0.0, 0.0, 0.0, 0.0, 0.0, 0.0, 0.0, 0.0, 0.0, 0.0, 0.0, 0.0, 0.0, 0.0, 0.0, 0.0, 0.0, 0.0, 0.0, 0.0, 0.0, 0.0, 0.0, 0.0, 0.0, 0.0, 0.0, 0.0, 0.0, 0.0, 0.0, 0.0, 0.0, 0.0, 0.0, 0.0, 0.0, 0.0, 0.0, 0.0, 0.0, 0.0, 0.0, 0.0, 0.0, 0.0, 0.0, 0.0, 0.0, 0.0, 0.0, 0.0, 0.0, 0.0, 0.0, 0.0, 0.0, 0.0, 0.0, 0.0, 0.0, 0.0, 0.0, 0.0, 0.0, 0.0, 0.0, 0.0, 0.0, 0.0, 0.0, 0.0, 0.0, 0.0, 0.0, 0.0, 0.0, 0.0, 0.0, 0.0, 0.0, 0.0, 0.0, 0.0, 0.0, 0.0, 0.0, 0.0, 0.0, 0.0, 0.0, 0.0, 0.0, 0.0, 0.0, 0.0, 0.0, 0.0, 0.0, 0.0, 0.0, 0.0, 0.0, 0.0, 0.0, 0.0, 0.0, 0.0, 0.0, 0.0, 0.0, 0.0, 0.0, 0.0, 0.0, 0.0, 0.0, 0.0, 0.0, 0.0, 0.0, 0.0, 0.0, 0.0, 0.0, 0.0, 0.0, 0.0, 0.0, 0.0, 0.0, 0.0, 0.0, 0.0, 0.0, 0.0, 0.0, 0.0, 0.0, 0.0, 0.0, 0.0, 0.0, 0.0, 0.0, 0.0, 0.0, 0.0, 0.0, 0.0, 0.0, 0.0, 0.0, 0.0, 0.0, 0.0, 0.0, 0.0, 0.0, 0.0, 0.0, 0.0, 0.0, 0.0, 0.0, 0.0, 0.0, 0.0, 0.0, 0.0, 0.0, 0.0, 0.0, 0.0, 0.0, 0.0, 0.0, 0.0, 0.0, 0.0, 0.0, 0.0, 0.0, 0.0, 0.0, 0.0, 0.0, 0.0, 0.0, 0.0, 0.0, 0.0, 0.0, 0.0, 0.0, 0.0, 0.0, 0.0, 0.0, 0.0, 0.0, 0.0, 0.0, 0.0, 0.0, 0.0, 0.0, 0.0, 0.0, 0.0, 0.0, 0.0, 0.0, 0.0, 0.0, 0.0, 0.0, 0.0, 0.0, 0.0, 0.0, 0.0, 0.0, 0.0, 0.0, 0.0, 0.0, 0.0, 0.0, 0.0, 0.0, 0.0, 0.0, 0.0, 0.0, 0.0, 0.0, 0.0, 0.0, 0.0, 0.0, 0.0, 0.0, 0.0, 0.0, 0.0, 0.0, 0.0, 0.0, 0.0, 0.0, 0.0, 0.0, 0.0, 0.0, 0.0, 0.0, 0.0, 0.0, 0.0, 0.0, 0.0, 0.0, 0.0, 0.0, 0.0, 0.0, 0.0, 0.0, 0.0, 0.0, 0.0, 0.0, 0.0, 0.0, 0.0, 0.0, 0.0, 0.0, 0.0, 0.0, 0.0, 0.0, 0.0, 0.0, 0.0, 0.0, 0.0, 0.0, 0.0, 0.0, 0.0, 0.0, 0.0, 0.0, 0.0, 0.0, 0.0, 0.0, 0.0, 0.0, 0.0, 0.0, 0.0, 0.0, 0.0, 0.0, 0.0, 0.0, 0.0, 0.0, 0.0, 0.0, 0.0, 0.0, 0.0, 0.0, 0.0, 0.0, 0.0, 0.0, 0.0, 0.0, 0.0, 0.0, 0.0, 0.0, 0.0, 0.0, 0.0, 0.0, 0.0, 0.0, 0.0, 0.0, 0.0, 0.0, 0.0, 0.0, 0.0, 0.0, 0.0, 0.0, 0.0, 0.0, 0.0, 0.0, 0.0, 0.0, 0.0, 0.0, 0.0, 0.0, 0.0, 0.0, 0.0, 0.0, 0.0, 0.0, 0.0, 0.0, 0.0, 0.0, 0.0, 0.0, 0.0, 0.0, 0.0, 0.0, 0.0, 0.0, 0.0, 0.0, 0.0, 0.0, 0.0, 0.0, 0.0, 0.0, 0.0, 0.0, 0.0, 0.0, 0.0, 0.0, 0.0, 0.0, 0.0, 0.0, 0.0, 0.0, 0.0, 0.0, 0.0, 0.0, 0.0, 0.0, 0.0, 0.0, 0.0, 0.0, 0.0, 0.0, 0.0, 0.0, 0.0, 0.0, 0.0, 0.0, 0.0, 0.0, 0.0, 0.0, 0.0, 0.0, 0.0, 0.0, 0.0, 0.0, 0.0, 0.0, 0.0, 0.0, 0.0, 0.0, 0.0, 0.0, 0.0, 0.0, 0.0, 0.0, 0.0, 0.0, 0.0, 0.0, 0.0, 0.0, 0.0, 0.0, 0.0, 0.0, 0.0, 0.0, 0.0, 0.0, 0.0, 0.0, 0.0, 0.0, 0.0, 0.0, 0.0, 0.0, 0.0, 0.0, 0.0, 0.0, 0.0, 0.0, 0.0, 0.0, 0.0, 0.0, 0.0, 0.0, 0.0, 0.0, 0.0, 0.0, 0.0, 0.0, 0.0, 0.0, 0.0, 0.0, 0.0, 0.0, 0.0, 0.0, 0.0, 0.0, 0.0, 0.0, 0.0, 0.0, 0.0, 0.0, 0.0, 0.0, 0.0, 0.0, 0.0, 0.0, 0.0, 0.0, 0.0, 0.0, 0.0, 0.0, 0.0, 0.0, 0.0, 0.0, 0.0, 0.0, 0.0, 0.0, 0.0, 0.0, 0.0, 0.0, 0.0, 0.0, 0.0, 0.0, 0.0, 0.0, 0.0, 0.0, 0.0, 0.0, 0.0, 0.0, 0.0, 0.0, 0.0, 0.0, 0.0, 0.0, 0.0, 0.0, 0.0, 0.0, 0.0, 0.0, 0.0, 0.0, 0.0, 0.0, 0.0, 0.0, 0.0, 0.0, 0.0, 0.0, 0.0, 0.0, 0.0, 0.0, 0.0, 0.0, 0.0, 0.0, 0.0, 0.0, 0.0, 0.0, 0.0, 0.0, 0.0, 0.0, 0.0, 0.0, 0.0, 0.0, 0.0, 0.0, 0.0, 0.0, 0.0, 0.0, 0.0, 0.0, 0.0, 0.0, 0.0, 0.0, 0.0, 0.0, 0.0, 0.0, 0.0, 0.0, 0.0, 0.0, 0.0, 0.0, 0.0, 0.0, 0.0, 0.0, 0.0, 0.0, 0.0, 0.0, 0.0, 0.0, 0.0, 0.0, 0.0, 0.0, 0.0, 0.0, 0.0, 0.0, 0.0, 0.0, 0.0, 0.0, 0.0, 0.0, 0.0, 0.0, 0.0, 0.0, 0.0, 0.0, 0.0, 0.0, 0.0, 0.0, 0.0, 0.0, 0.0, 0.0, 0.0, 0.0, 0.0, 0.0, 0.0, 0.0, 0.0, 0.0, 0.0, 0.0, 0.0, 0.0, 0.0, 0.0, 0.0, 0.0, 0.0, 0.0, 0.0, 0.0, 0.0, 0.0, 0.0, 0.0, 0.0, 0.0, 0.0, 0.0, 0.0, 0.0, 0.0, 0.0, 0.0, 0.0, 0.0, 0.0, 0.0, 0.0, 0.0, 0.0, 0.0, 0.0, 0.0, 0.0, 0.0, 0.0, 0.0, 0.0, 0.0, 0.0, 0.0, 0.0, 0.0, 0.0, 0.0, 0.0, 0.0, 0.0, 0.0, 0.0, 0.0, 0.0, 0.0, 0.0, 0.0, 0.0, 0.0, 0.0, 0.0, 0.0, 0.0, 0.0, 0.0, 0.0, 0.0, 0.0, 0.0, 0.0, 0.0, 0.0, 0.0, 0.0, 0.0, 0.0, 0.0, 0.0, 0.0, 0.0, 0.0, 0.0, 0.0, 0.0, 0.0, 0.0, 0.0, 0.0, 0.0, 0.0, 0.0, 0.0, 0.0, 0.0, 0.0, 0.0, 0.0, 0.0, 0.0, 0.0, 0.0, 0.0, 0.0, 0.0, 0.0, 0.0, 0.0, 0.0, 0.0, 0.0, 0.0, 0.0, 0.0, 0.0, 0.0, 0.0, 0.0, 0.0, 0.0, 0.0, 0.0, 0.0, 0.0, 0.0, 0.0, 0.0, 0.0, 0.0, 0.0, 0.0, 0.0, 0.0, 0.0, 0.0, 0.0, 0.0, 0.0, 0.0, 0.0, 0.0, 0.0, 0.0, 0.0, 0.0, 0.0, 0.0, 0.0, 0.0, 0.0, 0.0, 0.0, 0.0, 0.0, 0.0, 0.0, 0.0, 0.0, 0.0, 0.0, 0.0, 0.0, 0.0, 0.0, 0.0, 0.0, 0.0, 0.0, 0.0, 0.0, 0.0, 0.0, 0.0, 0.0, 0.0, 0.0, 0.0, 0.0, 0.0, 0.0, 0.0, 0.0, 0.0, 0.0, 0.0, 0.0, 0.0, 0.0, 0.0, 0.0, 0.0, 0.0, 0.0, 0.0, 0.0, 0.0, 0.0, 0.0, 0.0, 0.0, 0.0, 0.0, 0.0, 0.0, 0.0, 0.0, 0.0, 0.0, 0.0, 0.0, 0.0, 0.0, 0.0, 0.0, 0.0, 0.0, 0.0, 0.0, 0.0, 0.0, 0.0, 0.0, 0.0, 0.0, 0.0, 0.0, 0.0, 0.0, 0.0, 0.0, 0.0, 0.0, 0.0, 0.0, 0.0, 0.0, 0.0, 0.0, 0.0, 0.0, 0.0, 0.0, 0.0, 0.0, 0.0, 0.0, 0.0, 0.0, 0.0, 0.0, 0.0, 0.0, 0.0, 0.0, 0.0, 0.0, 0.0, 0.0, 0.0, 0.0, 0.0, 0.0, 0.0, 0.0, 0.0, 0.0, 0.0, 0.0, 0.0, 0.0, 0.0, 0.0, 0.0, 0.0, 0.0, 0.0, 0.0, 0.0, 0.0, 0.0, 0.0, 0.0, 0.0, 0.0, 0.0, 0.0, 0.0, 0.0, 0.0, 0.0, 0.0, 0.0, 0.0, 0.0, 0.0, 0.0, 0.0, 0.0, 0.0, 0.0, 0.0, 0.0, 0.0, 0.0, 0.0, 0.0, 0.0, 0.0, 0.0, 0.0, 0.0, 0.0, 0.0, 0.0, 0.0, 0.0, 0.0, 0.0, 0.0, 0.0, 0.0, 0.0, 0.0, 0.0, 0.0, 0.0, 0.0, 0.0, 0.0, 0.0, 0.0, 0.0, 0.0, 0.0, 0.0, 0.0, 0.0, 0.0, 0.0, 0.0, 0.0, 0.0, 0.0, 0.0, 0.0, 0.0, 0.0, 0.0, 0.0, 0.0, 0.0, 0.0, 0.0, 0.0, 0.0, 0.0, 0.0, 0.0, 0.0, 0.0, 0.0, 0.0, 0.0, 0.0, 0.0, 0.0, 0.0, 0.0, 0.0, 0.0, 0.0, 0.0, 0.0, 0.0, 0.0, 0.0, 0.0, 0.0, 0.0, 0.0, 0.0, 0.0, 0.0, 0.0, 0.0, 0.0, 0.0, 0.0, 0.0, 0.0, 0.0, 0.0, 0.0, 0.0, 0.0, 0.0, 0.0, 0.0, 0.0, 0.0, 0.0, 0.0, 0.0, 0.0, 0.0, 0.0, 0.0, 0.0, 0.0, 0.0, 0.0, 0.0, 0.0, 0.0, 0.0, 0.0, 0.0, 0.0, 0.0, 0.0, 0.0, 0.0, 0.0, 0.0, 0.0, 0.0, 0.0, 0.0, 0.0, 0.0, 0.0, 0.0, 0.0, 0.0, 0.0, 0.0, 0.0, 0.0, 0.0, 0.0, 0.0, 0.0, 0.0, 0.0, 0.0, 0.0, 0.0, 0.0, 0.0, 0.0, 0.0, 0.0, 0.0, 0.0, 0.0, 0.0, 0.0, 0.0, 0.0, 0.0, 0.0, 0.0, 0.0, 0.0, 0.0, 0.0, 0.0, 0.0, 0.0, 0.0, 0.0, 0.0, 0.0, 0.0, 0.0, 0.0, 0.0, 0.0, 0.0, 0.0, 0.0, 0.0, 0.0, 0.0, 0.0, 0.0, 0.0, 0.0, 0.0, 0.0, 0.0, 0.0, 0.0, 0.0, 0.0, 0.0, 0.0, 0.0, 0.0, 0.0, 0.0, 0.0, 0.0, 0.0, 0.0, 0.0, 0.0, 0.0, 0.0, 0.0, 0.0, 0.0, 0.0, 0.0, 0.0, 0.0, 0.0, 0.0, 0.0, 0.0, 0.0, 0.0, 0.0, 0.0, 0.0, 0.0, 0.0, 0.0, 0.0, 0.0, 0.0, 0.0, 0.0, 0.0, 0.0, 0.0, 0.0, 0.0, 0.0, 0.0, 0.0, 0.0, 0.0, 0.0, 0.0, 0.0, 0.0, 0.0, 0.0, 0.0, 0.0, 0.0, 0.0, 0.0, 0.0, 0.0, 0.0, 0.0, 0.0, 0.0, 0.0, 0.0, 0.0, 0.0, 0.0, 0.0, 0.0, 0.0, 0.0, 0.0, 0.0, 0.0, 0.0, 0.0, 0.0, 0.0, 0.0, 0.0, 0.0, 0.0, 0.0, 0.0, 0.0, 0.0, 0.0, 0.0, 0.0, 0.0, 0.0, 0.0, 0.0, 0.0, 0.0, 0.0, 0.0, 0.0, 0.0, 0.0, 0.0, 0.0, 0.0, 0.0, 0.0, 0.0, 0.0, 0.0, 0.0, 0.0, 0.0, 0.0, 0.0, 0.0, 0.0, 0.0, 0.0, 0.0, 0.0, 0.0, 0.0, 0.0, 0.0, 0.0, 0.0, 0.0, 0.0, 0.0, 0.0, 0.0, 0.0, 0.0, 0.0, 0.0, 0.0, 0.0, 0.0, 0.0, 0.0, 0.0, 0.0, 0.0, 0.0, 0.0, 0.0, 0.0, 0.0, 0.0, 0.0, 0.0, 0.0, 0.0, 0.0, 0.0, 0.0, 0.0, 0.0, 0.0, 0.0, 0.0, 0.0, 0.0, 0.0, 0.0, 0.0, 0.0, 0.0, 0.0, 0.0, 0.0, 0.0, 0.0, 0.0, 0.0, 0.0, 0.0, 0.0, 0.0, 0.0, 0.0, 0.0, 0.0, 0.0, 0.0, 0.0, 0.0, 0.0, 0.0, 0.0, 0.0, 0.0, 0.0, 0.0, 0.0, 0.0, 0.0, 0.0, 0.0, 0.0, 0.0, 0.0, 0.0, 0.0, 0.0, 0.0, 0.0, 0.0, 0.0, 0.0, 0.0, 0.0, 0.0, 0.0, 0.0, 0.0, 0.0, 0.0, 0.0, 0.0, 0.0, 0.0, 0.0, 0.0, 0.0, 0.0, 0.0, 0.0, 0.0, 0.0, 0.0, 0.0, 0.0, 0.0, 0.0, 0.0, 0.0, 0.0, 0.0, 0.0, 0.0, 0.0, 0.0, 0.0, 0.0, 0.0, 0.0, 0.0, 0.0, 0.0, 0.0, 0.0, 0.0, 0.0, 0.0, 0.0, 0.0, 0.0, 0.0, 0.0, 0.0, 0.0, 0.0, 0.0, 0.0, 0.0, 0.0, 0.0, 0.0, 0.0, 0.0, 0.0, 0.0, 0.0, 0.0, 0.0, 0.0, 0.0, 0.0, 0.0, 0.0, 0.0, 0.0, 0.0, 0.0, 0.0, 0.0, 0.0, 0.0, 0.0, 0.0, 0.0, 0.0, 0.0, 0.0, 0.0, 0.0, 0.0, 0.0, 0.0, 0.0, 0.0, 0.0, 0.0, 0.0, 0.0, 0.0, 0.0, 0.0, 0.0, 0.0, 0.0, 0.0, 0.0, 0.0, 0.0, 0.0, 0.0, 0.0, 0.0, 0.0, 0.0, 0.0, 0.0, 0.0, 0.0, 0.0, 0.0, 0.0, 0.0, 0.0, 0.0, 0.0, 0.0, 0.0, 0.0, 0.0, 0.0, 0.0, 0.0, 0.0, 0.0, 0.0, 0.0, 0.0, 0.0, 0.0, 0.0, 0.0, 0.0, 0.0, 0.0, 0.0, 0.0, 0.0, 0.0, 0.0, 0.0, 0.0, 0.0, 0.0, 0.0, 0.0, 0.0, 0.0, 0.0, 0.0, 0.0, 0.0, 0.0, 0.0, 0.0, 0.0, 0.0, 0.0, 0.0, 0.0, 0.0, 0.0, 0.0, 0.0, 0.0, 0.0, 0.0, 0.0, 0.0, 0.0, 0.0, 0.0, 0.0, 0.0, 0.0, 0.0, 0.0, 0.0, 0.0, 0.0, 0.0, 0.0, 0.0, 0.0, 0.0, 0.0, 0.0, 0.0, 0.0, 0.0, 0.0, 0.0, 0.0, 0.0, 0.0, 0.0, 0.0, 0.0, 0.0, 0.0, 0.0, 0.0, 0.0, 0.0, 0.0, 0.0, 0.0, 0.0, 0.0, 0.0, 0.0, 0.0, 0.0, 0.0, 0.0, 0.0, 0.0, 0.0, 0.0, 0.0, 0.0, 0.0, 0.0, 0.0, 0.0, 0.0, 0.0, 0.0, 0.0, 0.0, 0.0, 0.0, 0.0, 0.0, 0.0, 0.0, 0.0, 0.0, 0.0, 0.0, 0.0, 0.0, 0.0, 0.0, 0.0, 0.0, 0.0, 0.0, 0.0, 0.0, 0.0, 0.0, 0.0, 0.0, 0.0, 0.0, 0.0, 0.0, 0.0, 0.0, 0.0, 0.0, 0.0, 0.0, 0.0, 0.0, 0.0, 0.0, 0.0, 0.0, 0.0, 0.0, 0.0, 0.0, 0.0, 0.0, 0.0, 0.0, 0.0, 0.0, 0.0, 0.0, 0.0, 0.0, 0.0, 0.0, 0.0, 0.0, 0.0, 0.0, 0.0, 0.0, 0.0, 0.0, 0.0, 0.0, 0.0, 0.0, 0.0, 0.0, 0.0, 0.0, 0.0, 0.0, 0.0, 0.0, 0.0, 0.0, 0.0, 0.0, 0.0, 0.0, 0.0, 0.0, 0.0, 0.0, 0.0, 0.0, 0.0, 0.0, 0.0, 0.0, 0.0, 0.0, 0.0, 0.0, 0.0, 0.0, 0.0, 0.0, 0.0, 0.0, 0.0, 0.0, 0.0, 0.0, 0.0, 0.0, 0.0, 0.0, 0.0, 0.0, 0.0, 0.0, 0.0, 0.0, 0.0, 0.0, 0.0, 0.0, 0.0, 0.0, 0.0, 0.0, 0.0, 0.0, 0.0, 0.0, 0.0, 0.0, 0.0, 0.0, 0.0, 0.0, 0.0, 0.0, 0.0, 0.0, 0.0, 0.0, 0.0, 0.0, 0.0, 0.0, 0.0, 0.0, 0.0, 0.0, 0.0, 0.0, 0.0, 0.0, 0.0, 0.0, 0.0, 0.0, 0.0, 0.0, 0.0, 0.0, 0.0, 0.0, 0.0, 0.0, 0.0, 0.0, 0.0, 0.0, 0.0, 0.0, 0.0, 0.0, 0.0, 0.0, 0.0, 0.0, 0.0, 0.0, 0.0, 0.0, 0.0, 0.0, 0.0, 0.0, 0.0, 0.0, 0.0, 0.0, 0.0, 0.0, 0.0, 0.0, 0.0, 0.0, 0.0, 0.0, 0.0, 0.0, 0.0, 0.0, 0.0, 0.0, 0.0, 0.0, 0.0, 0.0, 0.0, 0.0, 0.0, 0.0, 0.0, 0.0, 0.0, 0.0, 0.0, 0.0, 0.0, 0.0, 0.0, 0.0, 0.0, 0.0, 0.0, 0.0, 0.0, 0.0, 0.0, 0.0, 0.0, 0.0, 0.0, 0.0, 0.0, 0.0, 0.0, 0.0, 0.0, 0.0, 0.0, 0.0, 0.0, 0.0, 0.0, 0.0, 0.0, 0.0, 0.0, 0.0, 0.0, 0.0, 0.0, 0.0, 0.0, 0.0, 0.0, 0.0, 0.0, 0.0, 0.0, 0.0, 0.0, 0.0, 0.0, 0.0, 0.0, 0.0, 0.0, 0.0, 0.0, 0.0, 0.0, 0.0, 0.0, 0.0, 0.0, 0.0, 0.0, 0.0, 0.0, 0.0, 0.0, 0.0, 0.0, 0.0, 0.0, 0.0, 0.0, 0.0, 0.0, 0.0, 0.0, 0.0, 0.0, 0.0, 0.0, 0.0, 0.0, 0.0, 0.0, 0.0, 0.0, 0.0, 0.0, 0.0, 0.0, 0.0, 0.0, 0.0, 0.0, 0.0, 0.0, 0.0, 0.0, 0.0, 0.0, 0.0, 0.0, 0.0, 0.0, 0.0, 0.0, 0.0, 0.0, 0.0, 0.0, 0.0, 0.0, 0.0, 0.0, 0.0, 0.0, 0.0, 0.0, 0.0, 0.0, 0.0, 0.0, 0.0, 0.0, 0.0, 0.0, 0.0, 0.0, 0.0, 0.0, 0.0, 0.0, 0.0, 0.0, 0.0, 0.0, 0.0, 0.0, 0.0, 0.0, 0.0, 0.0, 0.0, 0.0, 0.0, 0.0, 0.0, 0.0, 0.0, 0.0, 0.0, 0.0, 0.0, 0.0, 0.0, 0.0, 0.0, 0.0, 0.0, 0.0, 0.0, 0.0, 0.0, 0.0, 0.0, 0.0, 0.0, 0.0, 0.0, 0.0, 0.0, 0.0, 0.0, 0.0, 0.0, 0.0, 0.0, 0.0, 0.0, 0.0, 0.0, 0.0, 0.0, 0.0, 0.0, 0.0, 0.0, 0.0, 0.0, 0.0, 0.0, 0.0, 0.0, 0.0, 0.0, 0.0, 0.0, 0.0, 0.0, 0.0, 0.0, 0.0, 0.0, 0.0, 0.0, 0.0, 0.0, 0.0, 0.0, 0.0, 0.0, 0.0, 0.0, 0.0, 0.0, 0.0, 0.0, 0.0, 0.0, 0.0, 0.0, 0.0, 0.0, 0.0, 0.0, 0.0, 0.0, 0.0, 0.0, 0.0, 0.0, 0.0, 0.0, 0.0, 0.0, 0.0, 0.0, 0.0, 0.0, 0.0, 0.0, 0.0, 0.0, 0.0, 0.0, 0.0, 0.0, 0.0, 0.0, 0.0, 0.0, 0.0, 0.0, 0.0, 0.0, 0.0, 0.0, 0.0, 0.0, 0.0, 0.0, 0.0, 0.0, 0.0, 0.0, 0.0, 0.0, 0.0, 0.0, 0.0, 0.0, 0.0, 0.0, 0.0, 0.0, 0.0, 0.0, 0.0, 0.0, 0.0, 0.0, 0.0, 0.0, 0.0, 0.0, 0.0, 0.0, 0.0, 0.0, 0.0, 0.0, 0.0, 0.0, 0.0, 0.0, 0.0, 0.0, 0.0, 0.0, 0.0, 0.0, 0.0, 0.0, 0.0, 0.0, 0.0, 0.0, 0.0, 0.0, 0.0, 0.0, 0.0, 0.0, 0.0, 0.0, 0.0, 0.0, 0.0, 0.0, 0.0, 0.0, 0.0, 0.0, 0.0, 0.0, 0.0, 0.0, 0.0, 0.0, 0.0, 0.0, 0.0, 0.0, 0.0, 0.0, 0.0, 0.0, 0.0, 0.0, 0.0, 0.0, 0.0, 0.0, 0.0, 0.0, 0.0, 0.0, 0.0, 0.0, 0.0, 0.0, 0.0, 0.0, 0.0, 0.0, 0.0, 0.0, 0.0, 0.0, 0.0, 0.0, 0.0, 0.0, 0.0, 0.0, 0.0, 0.0, 0.0, 0.0, 0.0, 0.0, 0.0, 0.0, 0.0, 0.0, 0.0, 0.0, 0.0, 0.0, 0.0, 0.0, 0.0, 0.0, 0.0, 0.0, 0.0, 0.0, 0.0, 0.0, 0.0, 0.0, 0.0, 0.0, 0.0, 0.0, 0.0, 0.0, 0.0, 0.0, 0.0, 0.0, 0.0, 0.0, 0.0, 0.0, 0.0, 0.0, 0.0, 0.0, 0.0, 0.0, 0.0, 0.0, 0.0, 0.0, 0.0, 0.0, 0.0, 0.0, 0.0, 0.0, 0.0, 0.0, 0.0, 0.0, 0.0, 0.0, 0.0, 0.0, 0.0, 0.0, 0.0, 0.0, 0.0, 0.0, 0.0, 0.0, 0.0, 0.0, 0.0, 0.0, 0.0, 0.0, 0.0, 0.0, 0.0, 0.0, 0.0, 0.0, 0.0, 0.0, 0.0, 0.0, 0.0, 0.0, 0.0, 0.0, 0.0, 0.0, 0.0, 0.0, 0.0, 0.0, 0.0, 0.0, 0.0, 0.0, 0.0, 0.0, 0.0, 0.0, 0.0, 0.0, 0.0, 0.0, 0.0, 0.0, 0.0, 0.0, 0.0, 0.0, 0.0, 0.0, 0.0, 0.0, 0.0, 0.0, 0.0, 0.0, 0.0, 0.0, 0.0, 0.0, 0.0, 0.0, 0.0, 0.0, 0.0, 0.0, 0.0, 0.0, 0.0, 0.0, 0.0, 0.0, 0.0, 0.0, 0.0, 0.0, 0.0, 0.0, 0.0, 0.0, 0.0, 0.0, 0.0, 0.0, 0.0, 0.0, 0.0, 0.0, 0.0, 0.0, 0.0, 0.0, 0.0, 0.0, 0.0, 0.0, 0.0, 0.0, 0.0, 0.0, 0.0, 0.0, 0.0, 0.0, 0.0, 0.0, 0.0, 0.0, 0.0, 0.0, 0.0, 0.0, 0.0, 0.0, 0.0, 0.0, 0.0, 0.0, 0.0, 0.0, 0.0, 0.0, 0.0, 0.0, 0.0, 0.0, 0.0, 0.0, 0.0, 0.0, 0.0, 0.0, 0.0, 0.0, 0.0, 0.0, 0.0, 0.0, 0.0, 0.0, 0.0, 0.0, 0.0, 0.0, 0.0, 0.0, 0.0, 0.0, 0.0, 0.0, 0.0, 0.0, 0.0, 0.0, 0.0, 0.0, 0.0, 0.0, 0.0, 0.0, 0.0, 0.0, 0.0, 0.0, 0.0, 0.0, 0.0, 0.0, 0.0, 0.0, 0.0, 0.0, 0.0, 0.0, 0.0, 0.0, 0.0, 0.0, 0.0, 0.0, 0.0, 0.0, 0.0, 0.0, 0.0, 0.0, 0.0, 0.0, 0.0, 0.0, 0.0, 0.0, 0.0, 0.0, 0.0, 0.0, 0.0, 0.0, 0.0, 0.0, 0.0, 0.0, 0.0, 0.0, 0.0, 0.0, 0.0, 0.0, 0.0, 0.0, 0.0, 0.0, 0.0, 0.0, 0.0, 0.0, 0.0, 0.0, 0.0, 0.0, 0.0, 0.0, 0.0, 0.0, 0.0, 0.0, 0.0, 0.0, 0.0, 0.0, 0.0, 0.0, 0.0, 0.0, 0.0, 0.0, 0.0, 0.0, 0.0, 0.0, 0.0, 0.0, 0.0, 0.0, 0.0, 0.0, 0.0, 0.0, 0.0, 0.0, 0.0, 0.0, 0.0, 0.0, 0.0, 0.0, 0.0, 0.0, 0.0, 0.0, 0.0, 0.0, 0.0, 0.0, 0.0, 0.0, 0.0, 0.0, 0.0, 0.0, 0.0, 0.0, 0.0, 0.0, 0.0, 0.0, 0.0, 0.0, 0.0, 0.0, 0.0, 0.0, 0.0, 0.0, 0.0, 0.0, 0.0, 0.0, 0.0, 0.0, 0.0, 0.0, 0.0, 0.0, 0.0, 0.0, 0.0, 0.0, 0.0, 0.0, 0.0, 0.0, 0.0, 0.0, 0.0, 0.0, 0.0, 0.0, 0.0, 0.0, 0.0, 0.0, 0.0, 0.0, 0.0, 0.0, 0.0, 0.0, 0.0, 0.0, 0.0, 0.0, 0.0, 0.0, 0.0, 0.0, 0.0, 0.0, 0.0, 0.0, 0.0, 0.0, 0.0, 0.0, 0.0, 0.0, 0.0, 0.0, 0.0, 0.0, 0.0, 0.0, 0.0, 0.0, 0.0, 0.0, 0.0, 0.0, 0.0, 0.0, 0.0, 0.0, 0.0, 0.0, 0.0, 0.0, 0.0, 0.0, 0.0, 0.0, 0.0, 0.0, 0.0, 0.0, 0.0, 0.0, 0.0, 0.0, 0.0, 0.0, 0.0, 0.0, 0.0, 0.0, 0.0, 0.0, 0.0, 0.0, 0.0, 0.0, 0.0, 0.0, 0.0, 0.0, 0.0, 0.0, 0.0, 0.0, 0.0, 0.0, 0.0, 0.0, 0.0, 0.0, 0.0, 0.0, 0.0, 0.0, 0.0, 0.0, 0.0, 0.0, 0.0, 0.0, 0.0, 0.0, 0.0, 0.0, 0.0, 0.0, 0.0, 0.0, 0.0, 0.0, 0.0, 0.0, 0.0, 0.0, 0.0, 0.0, 0.0, 0.0, 0.0, 0.0, 0.0, 0.0, 0.0, 0.0, 0.0, 0.0, 0.0, 0.0, 0.0, 0.0, 0.0, 0.0, 0.0, 0.0, 0.0, 0.0, 0.0, 0.0, 0.0, 0.0, 0.0, 0.0, 0.0, 0.0, 0.0, 0.0, 0.0, 0.0, 0.0, 0.0, 0.0, 0.0, 0.0, 0.0, 0.0, 0.0, 0.0, 0.0, 0.0, 0.0, 0.0, 0.0, 0.0, 0.0, 0.0, 0.0, 0.0, 0.0, 0.0, 0.0, 0.0, 0.0, 0.0, 0.0, 0.0, 0.0, 0.0, 0.0, 0.0, 0.0, 0.0, 0.0, 0.0, 0.0, 0.0, 0.0, 0.0, 0.0, 0.0, 0.0, 0.0, 0.0, 0.0, 0.0, 0.0, 0.0, 0.0, 0.0, 0.0, 0.0, 0.0, 0.0, 0.0, 0.0, 0.0, 0.0, 0.0, 0.0, 0.0, 0.0, 0.0, 0.0, 0.0, 0.0, 0.0, 0.0, 0.0, 0.0, 0.0, 0.0, 0.0, 0.0, 0.0, 0.0, 0.0, 0.0, 0.0, 0.0, 0.0, 0.0, 0.0, 0.0, 0.0, 0.0, 0.0, 0.0, 0.0, 0.0, 0.0, 0.0, 0.0, 0.0, 0.0, 0.0, 0.0, 0.0, 0.0, 0.0, 0.0, 0.0, 0.0, 0.0, 0.0, 0.0, 0.0, 0.0, 0.0, 0.0, 0.0, 0.0, 0.0, 0.0, 0.0, 0.0, 0.0, 0.0, 0.0, 0.0, 0.0, 0.0, 0.0, 0.0, 0.0, 0.0, 0.0, 0.0, 0.0, 0.0, 0.0, 0.0, 0.0, 0.0, 0.0, 0.0, 0.0, 0.0, 0.0, 0.0, 0.0, 0.0, 0.0, 0.0, 0.0, 0.0, 0.0, 0.0, 0.0, 0.0, 0.0, 0.0, 0.0, 0.0, 0.0, 0.0, 0.0, 0.0, 0.0, 0.0, 0.0, 0.0, 0.0, 0.0, 0.0, 0.0, 0.0, 0.0, 0.0, 0.0, 0.0, 0.0, 0.0, 0.0, 0.0, 0.0, 0.0, 0.0, 0.0, 0.0, 0.0, 0.0, 0.0, 0.0, 0.0, 0.0, 0.0, 0.0, 0.0, 0.0, 0.0, 0.0, 0.0, 0.0, 0.0, 0.0, 0.0, 0.0, 0.0, 0.0, 0.0, 0.0, 0.0, 0.0, 0.0, 0.0, 0.0, 0.0, 0.0, 0.0, 0.0, 0.0, 0.0, 0.0, 0.0, 0.0, 0.0, 0.0, 0.0, 0.0, 0.0, 0.0, 0.0, 0.0, 0.0, 0.0, 0.0, 0.0, 0.0, 0.0, 0.0, 0.0, 0.0, 0.0, 0.0, 0.0, 0.0, 0.0, 0.0, 0.0, 0.0, 0.0, 0.0, 0.0, 0.0, 0.0, 0.0, 0.0, 0.0, 0.0, 0.0, 0.0, 0.0, 0.0, 0.0, 0.0, 0.0, 0.0, 0.0, 0.0, 0.0, 0.0, 0.0, 0.0, 0.0, 0.0, 0.0, 0.0, 0.0, 0.0, 0.0, 0.0, 0.0, 0.0, 0.0, 0.0, 0.0, 0.0, 0.0, 0.0, 0.0, 0.0]\n",
            "[0.0, 0.0, 0.0, 0.0, 0.0, 0.0, 0.0, 0.0, 0.0, 0.0, 0.0, 0.0, 0.0, 0.0, 0.0, 0.0, 0.0, 0.0, 0.0, 0.0, 0.0, 0.0, 0.0, 0.0, 0.0, 0.0, 0.0, 0.0, 0.0, 0.0, 0.0, 0.0, 0.0, 1.0, 1.0, 1.0, 0.0, 0.0, 0.0, 0.0, 0.0, 0.0, 0.0, 0.0, 0.0, 0.0, 0.0, 0.0, 0.0, 0.0, 0.0, 0.0, 0.0, 1.0, 1.0, 1.0, 0.0, 0.0, 0.0, 0.0, 0.0, 0.0, 0.0, 0.0, 0.0, 0.0, 0.0, 0.0, 0.0, 0.0, 0.0, 0.0, 0.0, 0.0, 0.0, 0.0, 0.0, 0.0, 0.0, 0.0, 0.0, 0.0, 0.0, 0.0, 0.0, 0.0, 0.0, 0.0, 0.0, 0.0, 0.0, 0.0, 0.0, 0.0, 0.0, 0.0, 0.0, 0.0, 0.0, 0.0, 0.0, 0.0, 0.0, 0.0, 0.0, 0.0, 0.0, 0.0, 0.0, 0.0, 0.0, 0.0, 0.0, 0.0, 0.0, 0.0, 0.0, 0.0, 0.0, 0.0, 0.0, 0.0, 0.0, 0.0, 0.0, 0.0, 0.0, 0.0, 0.0, 0.0, 0.0, 0.0, 0.0, 0.0, 0.0, 0.0, 0.0, 0.0, 0.0, 0.0, 0.0, 0.0, 0.0, 0.0, 0.0, 0.0, 0.0, 0.0, 0.0, 0.0, 0.0, 0.0, 0.0, 0.0, 0.0, 0.0, 0.0, 0.0, 0.0, 0.0, 0.0, 0.0, 0.0, 0.0, 0.0, 0.0, 0.0, 0.0, 0.0, 0.0, 0.0, 0.0, 0.0, 0.0, 0.0, 0.0, 0.0, 0.0, 0.0, 0.0, 0.0, 0.0, 0.0, 0.0, 0.0, 0.0, 0.0, 0.0, 0.0, 0.0, 0.0, 0.0, 0.0, 0.0, 0.0, 0.0, 0.0, 0.0, 0.0, 0.0, 0.0, 0.0, 0.0, 0.0, 0.0, 0.0, 0.0, 0.0, 0.0, 0.0, 0.0, 0.0, 0.0, 0.0, 0.0, 0.0, 0.0, 0.0, 0.0, 0.0, 0.0, 0.0, 0.0, 0.0, 0.0, 0.0, 0.0, 0.0, 0.0, 0.0, 0.0, 0.0, 0.0, 0.0, 0.0, 0.0, 0.0, 0.0, 0.0, 0.0, 0.0, 0.0, 0.0, 0.0, 0.0, 0.0, 0.0, 0.0, 0.0, 0.0, 0.0, 0.0, 0.0, 0.0, 0.0, 0.0, 0.0, 0.0, 0.0, 0.0, 0.0, 0.0, 0.0, 0.0, 0.0, 0.0, 0.0, 0.0, 0.0, 0.0, 0.0, 0.0, 0.0, 0.0, 0.0, 0.0, 0.0, 0.0, 0.0, 0.0, 0.0, 0.0, 0.0, 0.0, 0.0, 0.0, 0.0, 0.0, 0.0, 0.0, 0.0, 0.0, 0.0, 0.0, 0.0, 0.0, 0.0, 0.0, 0.0, 0.0, 0.0, 0.0, 0.0, 0.0, 0.0, 0.0, 0.0, 0.0, 0.0, 0.0, 0.0, 0.0, 0.0, 0.0, 0.0, 0.0, 0.0, 0.0, 0.0, 0.0, 0.0, 0.0, 0.0, 0.0, 0.0, 0.0, 0.0, 0.0, 0.0, 0.0, 0.0, 0.0, 0.0, 0.0, 0.0, 0.0, 0.0, 0.0, 0.0, 0.0, 0.0, 0.0, 0.0, 0.0, 0.0, 0.0, 0.0, 0.0, 0.0, 0.0, 0.0, 0.0, 0.0, 0.0, 0.0, 0.0, 0.0, 0.0, 0.0, 0.0, 0.0, 0.0, 0.0, 0.0, 0.0, 0.0, 0.0, 0.0, 0.0, 0.0, 0.0, 0.0, 0.0, 0.0, 0.0, 0.0, 0.0, 0.0, 0.0, 0.0, 0.0, 0.0, 0.0, 0.0, 0.0, 0.0, 0.0, 0.0, 0.0, 0.0, 0.0, 0.0, 0.0, 0.0, 0.0, 0.0, 0.0, 0.0, 0.0, 0.0, 0.0, 0.0, 0.0, 0.0, 0.0, 0.0, 0.0, 0.0, 0.0, 0.0, 0.0, 0.0, 0.0, 0.0, 0.0, 0.0, 0.0, 0.0, 0.0, 0.0, 0.0, 0.0, 0.0, 0.0, 0.0, 0.0, 0.0, 0.0, 0.0, 0.0, 0.0, 0.0, 0.0, 0.0, 0.0, 0.0, 0.0, 0.0, 0.0, 0.0, 0.0, 0.0, 0.0, 0.0, 0.0, 0.0, 0.0, 0.0, 0.0, 0.0, 0.0, 0.0, 0.0, 0.0, 0.0, 0.0, 0.0, 0.0, 0.0, 0.0, 0.0, 0.0, 0.0, 0.0, 0.0, 0.0, 0.0, 0.0, 0.0, 0.0, 0.0, 0.0, 0.0, 0.0, 0.0, 0.0, 0.0, 0.0, 0.0, 0.0, 0.0, 0.0, 0.0, 0.0, 0.0, 0.0, 0.0, 0.0, 0.0, 0.0, 0.0, 0.0, 0.0, 0.0, 0.0, 0.0, 0.0, 0.0, 0.0, 0.0, 0.0, 0.0, 0.0, 0.0, 0.0, 0.0, 0.0, 0.0, 0.0, 0.0, 0.0, 0.0, 0.0, 0.0, 0.0, 0.0, 0.0, 0.0, 0.0, 0.0, 0.0, 0.0, 0.0, 0.0, 0.0, 0.0, 0.0, 0.0, 0.0, 0.0, 0.0, 0.0, 0.0, 0.0, 0.0, 0.0, 0.0, 0.0, 0.0, 0.0, 0.0, 0.0, 0.0, 0.0, 0.0, 0.0, 0.0, 0.0, 0.0, 0.0, 0.0, 0.0, 0.0, 0.0, 0.0, 0.0, 0.0, 0.0, 0.0, 0.0, 0.0, 0.0, 0.0, 0.0, 0.0, 0.0, 0.0, 0.0, 0.0, 0.0, 0.0, 0.0, 0.0, 0.0, 0.0, 0.0, 0.0, 0.0, 0.0, 0.0, 0.0, 0.0, 0.0, 0.0, 0.0, 0.0, 0.0, 0.0, 0.0, 0.0, 0.0, 0.0, 0.0, 0.0, 0.0, 0.0, 0.0, 0.0, 0.0, 0.0, 0.0, 0.0, 0.0, 0.0, 0.0, 0.0, 0.0, 0.0, 0.0, 0.0, 0.0, 0.0, 0.0, 0.0, 0.0, 0.0, 0.0, 0.0, 0.0, 0.0, 0.0, 0.0, 0.0, 0.0, 0.0, 0.0, 0.0, 0.0, 0.0, 0.0, 0.0, 0.0, 0.0, 0.0, 0.0, 0.0, 0.0, 0.0, 0.0, 0.0, 0.0, 0.0, 0.0, 0.0, 0.0, 0.0, 0.0, 0.0, 0.0, 0.0, 0.0, 0.0, 0.0, 0.0, 0.0, 0.0, 0.0, 0.0, 0.0, 0.0, 0.0, 0.0, 0.0, 0.0, 0.0, 0.0, 0.0, 0.0, 0.0, 0.0, 0.0, 0.0, 0.0, 0.0, 0.0, 0.0, 0.0, 0.0, 0.0, 0.0, 0.0, 0.0, 0.0, 0.0, 0.0, 0.0, 0.0, 0.0, 0.0, 0.0, 0.0, 0.0, 0.0, 0.0, 0.0, 0.0, 0.0, 0.0, 0.0, 0.0, 0.0, 0.0, 0.0, 0.0, 0.0, 0.0, 0.0, 0.0, 0.0, 0.0, 0.0, 0.0, 0.0, 0.0, 0.0, 0.0, 0.0, 0.0, 0.0, 0.0, 0.0, 0.0, 0.0, 0.0, 0.0, 0.0, 0.0, 0.0, 0.0, 0.0, 0.0, 0.0, 0.0, 0.0, 0.0, 0.0, 0.0, 0.0, 0.0, 0.0, 0.0, 0.0, 0.0, 0.0, 0.0, 0.0, 0.0, 0.0, 0.0, 0.0, 0.0, 0.0, 0.0, 0.0, 0.0, 0.0, 0.0, 0.0, 0.0, 0.0, 0.0, 0.0, 0.0, 0.0, 0.0, 0.0, 0.0, 0.0, 0.0, 0.0, 0.0, 0.0, 0.0, 0.0, 0.0, 0.0, 0.0, 0.0, 0.0, 0.0, 0.0, 0.0, 0.0, 0.0, 0.0, 0.0, 0.0, 0.0, 0.0, 0.0, 0.0, 0.0, 0.0, 0.0, 0.0, 0.0, 0.0, 0.0, 0.0, 0.0, 0.0, 0.0, 0.0, 0.0, 0.0, 0.0, 0.0, 0.0, 0.0, 0.0, 0.0, 0.0, 0.0, 0.0, 0.0, 0.0, 0.0, 0.0, 0.0, 0.0, 0.0, 0.0, 0.0, 0.0, 0.0, 0.0, 0.0, 0.0, 0.0, 0.0, 0.0, 0.0, 0.0, 0.0, 0.0, 0.0, 0.0, 0.0, 0.0, 0.0, 0.0, 0.0, 0.0, 0.0, 0.0, 0.0, 0.0, 0.0, 0.0, 0.0, 0.0, 0.0, 0.0, 0.0, 0.0, 0.0, 0.0, 0.0, 0.0, 0.0, 0.0, 0.0, 0.0, 0.0, 0.0, 0.0, 0.0, 0.0, 0.0, 0.0, 0.0, 0.0, 0.0, 0.0, 0.0, 0.0, 0.0, 0.0, 0.0, 0.0, 0.0, 0.0, 0.0, 0.0, 0.0, 0.0, 0.0, 0.0, 0.0, 0.0, 0.0, 0.0, 0.0, 0.0, 0.0, 0.0, 0.0, 0.0, 0.0, 0.0, 0.0, 0.0, 0.0, 0.0, 0.0, 0.0, 0.0, 0.0, 0.0, 0.0, 0.0, 0.0, 0.0, 0.0, 0.0, 0.0, 0.0, 0.0, 0.0, 0.0, 0.0, 0.0, 0.0, 0.0, 0.0, 0.0, 0.0, 0.0, 0.0, 0.0, 0.0, 0.0, 0.0, 0.0, 0.0, 0.0, 0.0, 0.0, 0.0, 0.0, 0.0, 0.0, 0.0, 0.0, 0.0, 0.0, 0.0, 0.0, 0.0, 0.0, 0.0, 0.0, 0.0, 0.0, 0.0, 0.0, 0.0, 0.0, 0.0, 0.0, 0.0, 0.0, 0.0, 0.0, 0.0, 0.0, 0.0, 0.0, 0.0, 0.0, 0.0, 0.0, 0.0, 0.0, 0.0, 0.0, 0.0, 0.0, 0.0, 0.0, 0.0, 0.0, 0.0, 0.0, 0.0, 0.0, 0.0, 0.0, 0.0, 0.0, 0.0, 0.0, 0.0, 0.0, 0.0, 0.0, 0.0, 0.0, 0.0, 0.0, 0.0, 0.0, 0.0, 0.0, 0.0, 0.0, 0.0, 0.0, 0.0, 0.0, 0.0, 0.0, 0.0, 0.0, 0.0, 0.0, 0.0, 0.0, 0.0, 0.0, 0.0, 0.0, 0.0, 0.0, 0.0, 0.0, 0.0, 0.0, 0.0, 0.0, 0.0, 0.0, 0.0, 0.0, 0.0, 0.0, 0.0, 0.0, 0.0, 0.0, 0.0, 0.0, 0.0, 0.0, 0.0, 0.0, 0.0, 0.0, 0.0, 0.0, 0.0, 0.0, 0.0, 0.0, 0.0, 0.0, 0.0, 0.0, 0.0, 0.0, 0.0, 0.0, 0.0, 0.0, 0.0, 0.0, 0.0, 0.0, 0.0, 0.0, 0.0, 0.0, 0.0, 0.0, 0.0, 0.0, 0.0, 0.0, 0.0, 0.0, 0.0, 0.0, 0.0, 0.0, 0.0, 0.0, 0.0, 0.0, 0.0, 0.0, 0.0, 0.0, 0.0, 0.0, 0.0, 0.0, 0.0, 0.0, 0.0, 0.0, 0.0, 0.0, 0.0, 0.0, 0.0, 0.0, 0.0, 0.0, 0.0, 0.0, 0.0, 0.0, 0.0, 0.0, 0.0, 0.0, 0.0, 0.0, 0.0, 0.0, 0.0, 0.0, 0.0, 0.0, 0.0, 0.0, 0.0, 0.0, 0.0, 0.0, 0.0, 0.0, 0.0, 0.0, 0.0, 0.0, 0.0, 0.0, 0.0, 0.0, 0.0, 0.0, 0.0, 0.0, 0.0, 0.0, 0.0, 0.0, 0.0, 0.0, 0.0, 0.0, 0.0, 0.0, 0.0, 0.0, 0.0, 0.0, 0.0, 0.0, 0.0, 0.0, 0.0, 0.0, 0.0, 0.0, 0.0, 0.0, 0.0, 0.0, 0.0, 0.0, 0.0, 0.0, 0.0, 0.0, 0.0, 0.0, 0.0, 0.0, 0.0, 0.0, 0.0, 0.0, 0.0, 0.0, 0.0, 0.0, 0.0, 0.0, 0.0, 0.0, 0.0, 0.0, 0.0, 0.0, 0.0, 0.0, 0.0, 0.0, 0.0, 0.0, 0.0, 0.0, 0.0, 0.0, 0.0, 0.0, 0.0, 0.0, 0.0, 0.0, 0.0, 0.0, 0.0, 0.0, 0.0, 0.0, 0.0, 0.0, 0.0, 0.0, 0.0, 0.0, 0.0, 0.0, 0.0, 0.0, 0.0, 0.0, 0.0, 0.0, 0.0, 0.0, 0.0, 0.0, 0.0, 0.0, 0.0, 0.0, 0.0, 0.0, 0.0, 0.0, 0.0, 0.0, 0.0, 0.0, 0.0, 0.0, 0.0, 0.0, 0.0, 0.0, 0.0, 0.0, 0.0, 0.0, 0.0, 0.0, 0.0, 0.0, 0.0, 0.0, 0.0, 0.0, 0.0, 0.0, 0.0, 0.0, 0.0, 0.0, 0.0, 0.0, 0.0, 0.0, 0.0, 0.0, 0.0, 0.0, 0.0, 0.0, 0.0, 0.0, 0.0, 0.0, 0.0, 0.0, 0.0, 0.0, 0.0, 0.0, 0.0, 0.0, 0.0, 0.0, 0.0, 0.0, 0.0, 0.0, 0.0, 0.0, 0.0, 0.0, 0.0, 0.0, 0.0, 0.0, 0.0, 0.0, 0.0, 0.0, 0.0, 0.0, 0.0, 0.0, 0.0, 0.0, 0.0, 0.0, 0.0, 0.0, 0.0, 0.0, 0.0, 0.0, 0.0, 0.0, 0.0, 0.0, 0.0, 0.0, 0.0, 0.0, 0.0, 0.0, 0.0, 0.0, 0.0, 0.0, 0.0, 0.0, 0.0, 0.0, 0.0, 0.0, 0.0, 0.0, 0.0, 0.0, 0.0, 0.0, 0.0, 0.0, 0.0, 0.0, 0.0, 0.0, 0.0, 0.0, 0.0, 0.0, 0.0, 0.0, 0.0, 0.0, 0.0, 0.0, 0.0, 0.0, 0.0, 0.0, 0.0, 0.0, 0.0, 0.0, 0.0, 0.0, 0.0, 0.0, 0.0, 0.0, 0.0, 0.0, 0.0, 0.0, 0.0, 0.0, 0.0, 0.0, 0.0, 0.0, 0.0, 0.0, 0.0, 0.0, 0.0, 0.0, 0.0, 0.0, 0.0, 0.0, 0.0, 0.0, 0.0, 0.0, 0.0, 0.0, 0.0, 0.0, 0.0, 0.0, 0.0, 0.0, 0.0, 0.0, 0.0, 0.0, 0.0, 0.0, 0.0, 0.0, 0.0, 0.0, 0.0, 0.0, 0.0, 0.0, 0.0, 0.0, 0.0, 0.0, 0.0, 0.0, 0.0, 0.0, 0.0, 0.0, 0.0, 0.0, 0.0, 0.0, 0.0, 0.0, 0.0, 0.0, 0.0, 0.0, 0.0, 0.0, 0.0, 0.0, 0.0, 0.0, 0.0, 0.0, 0.0, 0.0, 0.0, 0.0, 0.0, 0.0, 0.0, 0.0, 0.0, 0.0, 0.0, 0.0, 0.0, 0.0, 0.0, 0.0, 0.0, 0.0, 0.0, 0.0, 0.0, 0.0, 0.0, 0.0, 0.0, 0.0, 0.0, 0.0, 0.0, 0.0, 0.0, 0.0, 0.0, 0.0, 0.0, 0.0, 0.0, 0.0, 0.0, 0.0, 0.0, 0.0, 0.0, 0.0, 0.0, 0.0, 0.0, 0.0, 0.0, 0.0, 0.0, 0.0, 0.0, 0.0, 0.0, 0.0, 0.0, 0.0, 0.0, 0.0, 0.0, 0.0, 0.0, 0.0, 0.0, 0.0, 0.0, 0.0, 0.0, 0.0, 0.0, 0.0, 0.0, 0.0, 0.0, 0.0, 0.0, 0.0, 0.0, 0.0, 0.0, 0.0, 0.0, 0.0, 0.0, 0.0, 0.0, 0.0, 0.0, 0.0, 0.0, 0.0, 0.0, 0.0, 0.0, 0.0, 0.0, 0.0, 0.0, 0.0, 0.0, 0.0, 0.0, 0.0, 0.0, 0.0, 0.0, 0.0, 0.0, 0.0, 0.0, 0.0, 0.0, 0.0, 0.0, 0.0, 0.0, 0.0, 0.0, 0.0, 0.0, 0.0, 0.0, 0.0, 0.0, 0.0, 0.0, 0.0, 0.0, 0.0, 0.0, 0.0, 0.0, 0.0, 0.0, 0.0, 0.0, 0.0, 0.0, 0.0, 0.0, 0.0, 0.0, 0.0, 0.0, 0.0, 0.0, 0.0, 0.0, 0.0, 0.0, 0.0, 0.0, 0.0, 0.0, 0.0, 0.0, 0.0, 0.0, 0.0, 0.0, 0.0, 0.0, 0.0, 0.0, 0.0, 0.0, 0.0, 0.0, 0.0, 0.0, 0.0, 0.0, 0.0, 0.0, 0.0, 0.0, 0.0, 0.0, 0.0, 0.0, 0.0, 0.0, 0.0, 0.0, 0.0, 0.0, 0.0, 0.0, 0.0, 0.0, 0.0, 0.0, 0.0, 0.0, 0.0, 0.0, 0.0, 0.0, 0.0, 0.0, 0.0, 0.0, 0.0, 0.0, 0.0, 0.0, 0.0, 0.0, 0.0, 0.0, 0.0, 0.0, 0.0, 0.0, 0.0, 0.0, 0.0, 0.0, 0.0, 0.0, 0.0, 0.0, 0.0, 0.0, 0.0, 0.0, 0.0, 0.0, 0.0, 0.0, 0.0, 0.0, 0.0, 0.0, 0.0, 0.0, 0.0, 0.0, 0.0, 0.0, 0.0, 0.0, 0.0, 0.0, 0.0, 0.0, 0.0, 0.0, 0.0, 0.0, 0.0, 0.0, 0.0, 0.0, 0.0, 0.0, 0.0, 0.0, 0.0, 0.0, 0.0, 0.0, 0.0, 0.0, 0.0, 0.0, 0.0, 0.0, 0.0, 0.0, 0.0, 0.0, 0.0, 0.0, 0.0, 0.0, 0.0, 0.0, 0.0, 0.0, 0.0, 0.0, 0.0, 0.0, 0.0, 0.0, 0.0, 0.0, 0.0, 0.0, 0.0, 0.0, 0.0, 0.0, 0.0, 0.0, 0.0, 0.0, 0.0, 0.0, 0.0, 0.0, 0.0, 0.0, 0.0, 0.0, 0.0, 0.0, 0.0, 0.0, 0.0, 0.0, 0.0, 0.0, 0.0, 0.0, 0.0, 0.0, 0.0, 0.0, 0.0, 0.0, 0.0, 0.0, 0.0, 0.0, 0.0, 0.0, 0.0, 0.0, 0.0, 0.0, 0.0, 0.0, 0.0, 0.0, 0.0, 0.0, 0.0, 0.0, 0.0, 0.0, 0.0, 0.0, 0.0, 0.0, 0.0, 0.0, 0.0, 0.0, 0.0, 0.0, 0.0, 0.0, 0.0, 0.0, 0.0, 0.0, 0.0, 0.0, 0.0, 0.0, 0.0, 0.0, 0.0, 0.0, 0.0, 0.0, 0.0, 0.0, 0.0, 0.0, 0.0, 0.0, 0.0, 0.0, 0.0, 0.0, 0.0, 0.0, 0.0, 0.0, 0.0, 0.0, 0.0, 0.0, 0.0, 0.0, 0.0, 0.0, 0.0, 0.0, 0.0, 0.0, 0.0, 0.0, 0.0, 0.0, 0.0, 0.0, 0.0, 0.0, 0.0, 0.0, 0.0, 0.0, 0.0, 0.0, 0.0, 0.0, 0.0, 0.0, 0.0, 0.0, 0.0, 0.0, 0.0, 0.0, 0.0, 0.0, 0.0, 0.0, 0.0, 0.0, 0.0, 0.0, 0.0, 0.0, 0.0, 0.0, 0.0, 0.0, 0.0, 0.0, 0.0, 0.0, 0.0, 0.0, 0.0, 0.0, 0.0, 0.0, 0.0, 0.0, 0.0, 0.0, 0.0, 0.0, 0.0, 0.0, 0.0, 0.0, 0.0, 0.0, 0.0, 0.0, 0.0, 0.0, 0.0, 0.0, 0.0, 0.0, 0.0, 0.0, 0.0, 0.0, 0.0, 0.0, 0.0, 0.0, 0.0, 0.0, 0.0, 0.0, 0.0, 0.0, 0.0, 0.0, 0.0, 0.0, 0.0, 0.0, 0.0, 0.0, 0.0, 0.0, 0.0, 0.0, 0.0, 0.0, 0.0, 0.0, 0.0, 0.0, 0.0, 0.0, 0.0, 0.0, 0.0, 0.0, 0.0, 0.0, 0.0, 0.0, 0.0, 0.0, 0.0, 0.0, 0.0, 0.0, 0.0, 0.0, 0.0, 0.0, 0.0, 0.0, 0.0, 0.0, 0.0, 0.0, 0.0, 0.0, 0.0, 0.0, 0.0, 0.0, 0.0, 0.0, 0.0, 0.0, 0.0, 0.0, 0.0, 0.0, 0.0, 0.0, 0.0, 0.0, 0.0, 0.0, 0.0, 0.0, 0.0, 0.0, 0.0, 0.0, 0.0, 0.0, 0.0, 0.0, 0.0, 0.0, 0.0, 0.0, 0.0, 0.0, 0.0, 0.0, 0.0, 0.0, 0.0, 0.0, 0.0, 0.0, 0.0, 0.0, 0.0, 0.0, 0.0, 0.0, 0.0, 0.0, 0.0, 0.0, 0.0, 0.0, 0.0, 0.0, 0.0, 0.0, 0.0, 0.0, 0.0, 0.0, 0.0, 0.0, 0.0, 0.0, 0.0, 0.0, 0.0, 0.0, 0.0, 0.0, 0.0, 0.0, 0.0, 0.0, 0.0, 0.0, 0.0, 0.0, 0.0, 0.0, 0.0, 0.0, 0.0, 0.0, 0.0, 0.0, 0.0, 0.0, 0.0, 0.0, 0.0, 0.0, 0.0, 0.0, 0.0, 0.0, 0.0, 0.0, 0.0, 0.0, 0.0, 0.0, 0.0, 0.0, 0.0, 0.0, 0.0, 0.0, 0.0, 0.0, 0.0, 0.0, 0.0, 0.0, 0.0, 0.0, 0.0, 0.0, 0.0, 0.0, 0.0, 0.0, 0.0, 0.0, 0.0, 0.0, 0.0, 0.0, 0.0, 0.0, 0.0, 0.0, 0.0, 0.0, 0.0, 0.0, 0.0, 0.0, 0.0, 0.0, 0.0, 0.0, 0.0, 0.0, 0.0, 0.0, 0.0, 0.0, 0.0, 0.0, 0.0, 0.0, 0.0, 0.0, 0.0, 0.0, 0.0, 0.0, 0.0, 0.0, 0.0, 0.0, 0.0, 0.0, 0.0, 0.0, 0.0, 0.0, 0.0, 0.0, 0.0, 0.0, 0.0, 0.0, 0.0, 0.0, 0.0, 0.0, 0.0, 0.0, 0.0, 0.0, 0.0, 0.0, 0.0, 0.0, 0.0, 0.0, 0.0, 0.0, 0.0, 0.0, 0.0, 0.0, 0.0, 0.0, 0.0, 0.0, 0.0, 0.0, 0.0, 0.0, 0.0, 0.0, 0.0, 0.0, 0.0, 0.0, 0.0, 0.0, 0.0, 0.0, 0.0, 0.0, 0.0, 0.0, 0.0, 0.0, 0.0, 0.0, 0.0, 0.0, 0.0, 0.0, 0.0, 0.0, 0.0, 0.0, 0.0, 0.0, 0.0, 0.0, 0.0, 0.0, 0.0, 0.0, 0.0, 0.0, 0.0, 0.0, 0.0, 0.0, 0.0, 0.0, 0.0, 0.0, 0.0, 0.0, 0.0, 0.0, 0.0, 0.0, 0.0, 0.0, 0.0, 0.0, 0.0, 0.0, 0.0, 0.0, 0.0, 0.0, 0.0, 0.0, 0.0, 0.0, 0.0, 0.0, 0.0, 0.0, 0.0, 0.0, 0.0, 0.0, 0.0, 0.0, 0.0, 0.0, 0.0, 0.0, 0.0, 0.0, 0.0, 0.0, 0.0, 0.0, 0.0, 0.0, 0.0, 0.0, 0.0, 0.0, 0.0, 0.0, 0.0, 0.0, 0.0, 0.0, 0.0, 0.0, 0.0, 0.0, 0.0, 0.0, 0.0, 0.0, 0.0, 0.0, 0.0, 0.0, 0.0, 0.0, 0.0, 0.0, 0.0, 0.0, 0.0, 0.0, 0.0, 0.0, 0.0, 0.0, 0.0, 0.0, 0.0, 0.0, 0.0, 0.0, 0.0, 0.0, 0.0, 0.0, 0.0, 0.0, 0.0, 0.0, 0.0, 0.0, 0.0, 0.0, 0.0, 0.0, 0.0, 0.0, 0.0, 0.0, 0.0, 0.0, 0.0, 0.0, 0.0, 0.0, 0.0, 0.0, 0.0, 0.0, 0.0, 0.0, 0.0, 0.0, 0.0, 0.0, 0.0, 0.0, 0.0, 0.0, 0.0, 0.0, 0.0, 0.0, 0.0, 0.0, 0.0, 0.0, 0.0, 0.0, 0.0, 0.0, 0.0, 0.0, 0.0, 0.0, 0.0, 0.0, 0.0, 0.0, 0.0, 0.0, 0.0, 0.0, 0.0, 0.0, 0.0, 0.0, 0.0, 0.0, 0.0, 0.0, 0.0, 0.0, 0.0, 0.0, 0.0, 0.0, 0.0, 0.0, 0.0, 0.0, 0.0, 0.0, 0.0, 0.0, 0.0, 0.0, 0.0, 0.0, 0.0, 0.0, 0.0, 0.0, 0.0, 0.0, 0.0, 0.0, 0.0, 0.0, 0.0, 0.0, 0.0, 0.0, 0.0, 0.0, 0.0, 0.0, 0.0, 0.0, 0.0, 0.0, 0.0, 0.0, 0.0, 0.0, 0.0, 0.0, 0.0, 0.0, 0.0, 0.0, 0.0, 0.0, 0.0, 0.0, 0.0, 0.0, 0.0, 0.0, 0.0, 0.0, 0.0, 0.0, 0.0, 0.0, 0.0, 0.0, 0.0, 0.0, 0.0, 0.0, 0.0, 0.0, 0.0, 0.0, 0.0, 0.0, 0.0, 0.0, 0.0, 0.0, 0.0, 0.0, 0.0, 0.0, 0.0, 0.0, 0.0, 0.0, 0.0, 0.0, 0.0, 0.0, 0.0, 0.0, 0.0, 0.0, 0.0, 0.0, 0.0, 0.0, 0.0, 0.0, 0.0, 0.0, 0.0, 0.0, 0.0, 0.0, 0.0, 0.0, 0.0, 0.0, 0.0, 0.0, 0.0, 0.0, 0.0, 0.0, 0.0, 0.0, 0.0, 0.0, 0.0, 0.0, 0.0, 0.0, 0.0, 0.0, 0.0, 0.0, 0.0, 0.0, 0.0, 0.0, 0.0, 0.0, 0.0, 0.0, 0.0, 0.0, 0.0, 0.0, 0.0, 0.0, 0.0, 0.0, 0.0, 0.0, 0.0, 0.0, 0.0, 0.0, 0.0, 0.0, 0.0, 0.0, 0.0, 0.0, 0.0, 0.0, 0.0, 0.0, 0.0, 0.0, 0.0, 0.0, 0.0, 0.0, 0.0, 0.0, 0.0, 0.0, 0.0, 0.0, 0.0, 0.0, 0.0, 0.0, 0.0, 0.0, 0.0, 0.0, 0.0, 0.0, 0.0, 0.0, 0.0, 0.0, 0.0, 0.0, 0.0, 0.0, 0.0, 0.0, 0.0, 0.0, 0.0, 0.0, 0.0, 0.0, 0.0, 0.0, 0.0, 0.0, 0.0, 0.0, 0.0, 0.0, 0.0, 0.0, 0.0, 0.0, 0.0, 0.0, 0.0, 0.0, 0.0, 0.0, 0.0, 0.0, 0.0, 0.0, 0.0, 0.0, 0.0, 0.0, 0.0, 0.0, 0.0, 0.0, 0.0, 0.0, 0.0, 0.0, 0.0, 0.0, 0.0, 0.0, 0.0, 0.0, 0.0, 0.0, 0.0, 0.0, 0.0, 0.0, 0.0, 0.0, 0.0, 0.0, 0.0, 0.0, 0.0, 0.0, 0.0, 0.0, 0.0, 0.0, 0.0, 0.0, 0.0, 0.0, 0.0, 0.0, 0.0, 0.0, 0.0, 0.0, 0.0, 0.0, 0.0, 0.0, 0.0, 0.0, 0.0, 0.0, 0.0, 0.0, 0.0, 0.0, 0.0, 0.0, 0.0, 0.0, 0.0, 0.0, 0.0, 0.0, 0.0, 0.0, 0.0, 0.0, 0.0, 0.0, 0.0, 0.0, 0.0, 0.0, 0.0, 0.0, 0.0, 0.0, 0.0, 0.0, 0.0, 0.0, 0.0, 0.0, 0.0, 0.0, 0.0, 0.0, 0.0, 0.0, 0.0, 0.0, 0.0, 0.0, 0.0, 0.0, 0.0, 0.0, 0.0, 0.0, 0.0, 0.0, 0.0, 0.0, 0.0, 0.0, 0.0, 0.0, 0.0, 0.0, 0.0, 0.0, 0.0, 0.0, 0.0, 0.0, 0.0, 0.0, 0.0, 0.0, 0.0, 0.0, 0.0, 0.0, 0.0, 0.0, 0.0, 0.0, 0.0, 0.0, 0.0, 0.0, 0.0, 0.0, 0.0, 0.0, 0.0, 0.0, 0.0, 0.0, 0.0, 0.0, 0.0, 0.0, 0.0, 0.0, 0.0, 0.0, 0.0, 0.0, 0.0, 0.0, 0.0, 0.0, 0.0, 0.0, 0.0, 0.0, 0.0, 0.0, 0.0, 0.0, 0.0, 0.0, 0.0, 0.0, 0.0, 0.0, 0.0, 0.0, 0.0, 0.0, 0.0, 0.0, 0.0, 0.0, 0.0, 0.0, 0.0, 0.0, 0.0, 0.0, 0.0, 0.0, 0.0, 0.0, 0.0, 0.0, 0.0, 0.0, 0.0, 0.0, 0.0, 0.0, 0.0, 0.0, 0.0, 0.0, 0.0, 0.0, 0.0, 0.0, 0.0, 0.0, 0.0, 0.0, 0.0, 0.0, 0.0, 0.0, 0.0, 0.0, 0.0, 0.0, 0.0, 0.0, 0.0, 0.0, 0.0, 0.0, 0.0, 0.0, 0.0, 0.0, 0.0, 0.0, 0.0, 0.0, 0.0, 0.0, 0.0, 0.0, 0.0, 0.0, 0.0, 0.0, 0.0, 0.0, 0.0, 0.0, 0.0, 0.0, 0.0, 0.0, 0.0, 0.0, 0.0, 0.0, 0.0, 0.0, 0.0, 0.0, 0.0, 0.0, 0.0, 0.0, 0.0, 0.0, 0.0, 0.0, 0.0, 0.0, 0.0, 0.0, 0.0, 0.0, 0.0, 0.0, 0.0, 0.0, 0.0, 0.0, 0.0, 0.0, 0.0, 0.0, 0.0, 0.0, 0.0, 0.0, 0.0, 0.0, 0.0, 0.0, 0.0, 0.0, 0.0, 0.0, 0.0, 0.0, 0.0, 0.0, 0.0, 0.0, 0.0, 0.0, 0.0, 0.0, 0.0, 0.0, 0.0, 0.0, 0.0, 0.0, 0.0, 0.0, 0.0, 0.0, 0.0, 0.0, 0.0, 0.0, 0.0, 0.0, 0.0, 0.0, 0.0, 0.0, 0.0, 0.0, 0.0, 0.0, 0.0, 0.0, 0.0, 0.0, 0.0, 0.0, 0.0, 0.0, 0.0, 0.0, 0.0, 0.0, 0.0, 0.0, 0.0, 0.0, 0.0, 0.0, 0.0, 0.0, 0.0, 0.0, 0.0, 0.0, 0.0, 0.0, 0.0, 0.0, 0.0, 0.0, 0.0, 0.0, 0.0, 0.0, 0.0, 0.0, 0.0, 0.0, 0.0, 0.0, 0.0, 0.0, 0.0, 0.0, 0.0, 0.0, 0.0, 0.0, 0.0, 0.0, 0.0, 0.0, 0.0, 0.0, 0.0, 0.0, 0.0, 0.0, 0.0, 0.0, 0.0, 0.0, 0.0, 0.0, 0.0, 0.0, 0.0, 0.0, 0.0, 0.0, 0.0, 0.0, 0.0, 0.0, 0.0, 0.0, 0.0, 0.0, 0.0, 0.0, 0.0, 0.0, 0.0, 0.0, 0.0, 0.0, 0.0, 0.0, 0.0, 0.0, 0.0, 0.0, 0.0, 0.0, 0.0, 0.0, 0.0, 0.0, 0.0, 0.0, 0.0, 0.0, 0.0, 0.0, 0.0, 0.0, 0.0, 0.0, 0.0, 0.0, 0.0, 0.0, 0.0, 0.0, 0.0, 0.0, 0.0, 0.0, 0.0, 0.0, 0.0, 0.0, 0.0, 0.0, 0.0, 0.0, 0.0, 0.0, 0.0, 0.0, 0.0, 0.0, 0.0, 0.0, 0.0, 0.0, 0.0, 0.0, 0.0, 0.0, 0.0, 0.0, 0.0, 0.0, 0.0, 0.0, 0.0, 0.0, 0.0, 0.0, 0.0, 0.0, 0.0, 0.0, 0.0, 0.0, 0.0, 0.0, 0.0, 0.0, 0.0, 0.0, 0.0, 0.0, 0.0, 0.0, 0.0, 0.0, 0.0, 0.0, 0.0, 0.0, 0.0, 0.0, 0.0, 0.0, 0.0, 0.0, 0.0, 0.0, 0.0, 0.0, 0.0, 0.0, 0.0, 0.0, 0.0, 0.0, 0.0, 0.0, 0.0, 0.0, 0.0, 0.0, 0.0, 0.0, 0.0, 0.0, 0.0, 0.0, 0.0, 0.0, 0.0, 0.0, 0.0, 0.0, 0.0, 0.0, 0.0, 0.0, 0.0, 0.0, 0.0, 0.0, 0.0, 0.0, 0.0, 0.0, 0.0, 0.0, 0.0, 0.0, 0.0, 0.0, 0.0, 0.0, 0.0, 0.0, 0.0, 0.0, 0.0, 0.0, 0.0, 0.0, 0.0, 0.0, 0.0, 0.0, 0.0, 0.0, 0.0, 0.0, 0.0, 0.0, 0.0, 0.0, 0.0, 0.0, 0.0, 0.0, 0.0, 0.0, 0.0, 0.0, 0.0, 0.0, 0.0, 0.0, 0.0, 0.0, 0.0, 0.0, 0.0, 0.0, 0.0, 0.0, 0.0, 0.0, 0.0, 0.0, 0.0, 0.0, 0.0, 0.0, 0.0, 0.0, 0.0, 0.0, 0.0, 0.0, 0.0, 0.0, 0.0, 0.0, 0.0, 0.0, 0.0, 0.0, 0.0, 0.0, 0.0, 0.0, 0.0, 0.0, 0.0, 0.0, 0.0, 0.0, 0.0, 0.0, 0.0, 0.0, 0.0, 0.0, 0.0, 0.0, 0.0, 0.0, 0.0, 0.0, 0.0, 0.0, 0.0, 0.0, 0.0, 0.0, 0.0, 0.0, 0.0, 0.0, 0.0, 0.0, 0.0, 0.0, 0.0, 0.0, 0.0, 0.0, 0.0, 0.0, 0.0, 0.0, 0.0, 0.0, 0.0, 0.0, 0.0, 0.0, 0.0, 0.0, 0.0, 0.0, 0.0, 0.0, 0.0, 0.0, 0.0, 0.0, 0.0, 0.0, 0.0, 0.0, 0.0, 0.0, 0.0, 0.0, 0.0, 0.0, 0.0, 0.0, 0.0, 0.0, 0.0, 0.0, 0.0, 0.0, 0.0, 0.0, 0.0, 0.0, 0.0, 0.0, 0.0, 0.0, 0.0, 0.0, 0.0, 0.0, 0.0, 0.0, 0.0, 0.0, 0.0, 0.0, 0.0, 0.0, 0.0, 0.0, 0.0, 0.0, 0.0, 0.0, 0.0, 0.0, 0.0, 0.0, 0.0, 0.0, 0.0, 0.0, 0.0, 0.0, 0.0, 0.0, 0.0, 0.0, 0.0, 0.0, 0.0, 0.0, 0.0, 0.0, 0.0, 0.0, 0.0, 0.0, 0.0, 0.0, 0.0, 0.0, 0.0, 0.0, 0.0, 0.0, 0.0, 0.0, 0.0, 0.0, 0.0, 0.0, 0.0, 0.0, 0.0, 0.0, 0.0, 0.0, 0.0, 0.0, 0.0, 0.0, 0.0, 0.0, 0.0, 0.0, 0.0, 0.0, 0.0, 0.0, 0.0, 0.0, 0.0, 0.0, 0.0, 0.0, 0.0, 0.0, 0.0, 0.0, 0.0, 0.0, 0.0, 0.0, 0.0, 0.0, 0.0, 0.0, 0.0, 0.0, 0.0, 0.0, 0.0, 0.0, 0.0, 0.0, 0.0, 0.0, 0.0, 0.0, 0.0, 0.0, 0.0, 0.0, 0.0, 0.0, 0.0, 0.0, 0.0, 0.0, 0.0, 0.0, 0.0, 0.0, 0.0, 0.0, 0.0, 0.0, 0.0, 0.0, 0.0, 0.0, 0.0, 0.0, 0.0, 0.0, 0.0, 0.0, 0.0, 0.0, 0.0, 0.0, 0.0, 0.0, 0.0, 0.0, 0.0, 0.0, 0.0, 0.0, 0.0, 0.0, 0.0, 0.0, 0.0, 0.0, 0.0, 0.0, 0.0, 0.0, 0.0, 0.0, 0.0, 0.0, 0.0, 0.0, 0.0, 0.0, 0.0, 0.0, 0.0, 0.0, 0.0, 0.0, 0.0, 0.0, 0.0, 0.0, 0.0, 0.0, 0.0, 0.0, 0.0, 0.0, 0.0, 0.0, 0.0, 0.0, 0.0, 0.0, 0.0, 0.0, 0.0, 0.0, 0.0, 0.0, 0.0, 0.0, 0.0, 0.0, 0.0, 0.0, 0.0, 0.0, 0.0, 0.0, 0.0, 0.0, 0.0, 0.0, 0.0, 0.0, 0.0, 0.0, 0.0, 0.0, 0.0, 0.0, 0.0, 0.0, 0.0, 0.0, 0.0, 0.0, 0.0, 0.0, 0.0, 0.0, 0.0, 0.0, 0.0, 0.0, 0.0, 0.0, 0.0, 0.0, 0.0, 0.0, 0.0, 0.0, 0.0, 0.0, 0.0, 0.0, 0.0, 0.0, 0.0, 0.0, 0.0, 0.0, 0.0, 0.0, 0.0, 0.0, 0.0, 0.0, 0.0, 0.0, 0.0, 0.0, 0.0, 0.0, 0.0, 0.0, 0.0, 0.0, 0.0, 0.0, 0.0, 0.0, 0.0, 0.0, 0.0, 0.0, 0.0, 0.0, 0.0, 0.0, 0.0, 0.0, 0.0, 0.0, 0.0, 0.0, 0.0, 0.0, 0.0, 0.0, 0.0, 0.0, 0.0, 0.0, 0.0, 0.0, 0.0, 0.0, 0.0, 0.0, 0.0, 0.0, 0.0, 0.0, 0.0, 0.0, 0.0, 0.0, 0.0, 0.0, 0.0, 0.0, 0.0, 0.0, 0.0, 0.0, 0.0, 0.0, 0.0, 0.0, 0.0, 0.0, 0.0, 0.0, 0.0, 0.0, 0.0, 0.0, 0.0, 0.0, 0.0, 0.0, 0.0, 0.0, 0.0, 0.0, 0.0, 0.0, 0.0, 0.0, 0.0, 0.0, 0.0, 0.0, 0.0, 0.0, 0.0, 0.0, 0.0, 0.0, 0.0, 0.0, 0.0, 0.0, 0.0, 0.0, 0.0, 0.0, 0.0, 0.0, 0.0, 0.0, 0.0, 0.0, 0.0, 0.0, 0.0, 0.0, 0.0, 0.0, 0.0, 0.0, 0.0, 0.0, 0.0, 0.0, 0.0, 0.0, 0.0, 0.0, 0.0, 0.0, 0.0, 0.0, 0.0, 0.0, 0.0, 0.0, 0.0, 0.0, 0.0, 0.0, 0.0, 0.0, 0.0, 0.0, 0.0, 0.0, 0.0, 0.0, 0.0, 0.0, 0.0, 0.0, 0.0, 0.0, 0.0, 0.0, 0.0, 0.0, 0.0, 0.0, 0.0, 0.0, 0.0, 0.0, 0.0, 0.0, 0.0, 0.0, 0.0, 0.0, 0.0, 0.0, 0.0, 0.0, 0.0]\n"
          ]
        }
      ]
    },
    {
      "cell_type": "code",
      "source": [
        "en_indices = np.where(np.array(fam_features['eng']) == 1.0)\n",
        "print([fam_features['CODE'][i] for i in en_indices[0]])\n",
        "es_indices = np.where(np.array(fam_features['spa']) == 1.0)\n",
        "print([fam_features['CODE'][i] for i in es_indices[0]])\n",
        "fra_indices = np.where(np.array(fam_features['ita']) == 1.0)\n",
        "print([fam_features['CODE'][i] for i in fra_indices[0]])\n"
      ],
      "metadata": {
        "colab": {
          "base_uri": "https://localhost:8080/"
        },
        "id": "-5T96RvdRYck",
        "outputId": "b84ef90d-5ff4-44b6-d025-7fb4330fa99a"
      },
      "execution_count": null,
      "outputs": [
        {
          "output_type": "stream",
          "name": "stdout",
          "text": [
            "['F_Indo-European', 'F_Germanic', 'F_Northwest_Germanic', 'F_West_Germanic', 'F_North_Sea_Germanic', 'F_Anglo-Frisian', 'F_Anglian', 'F_Mercian', 'F_Macro-English']\n",
            "['F_Indo-European', 'F_Italic', 'F_Latino-Faliscan', 'F_Latinic', 'F_Imperial_Latin', 'F_Romance', 'F_Italo-Western_Romance', 'F_Western_Romance', 'F_Shifted_Western_Romance', 'F_Southwestern_Shifted_Romance', 'F_West_Ibero-Romance', 'F_Castilic']\n",
            "['F_Indo-European', 'F_Italic', 'F_Latino-Faliscan', 'F_Latinic', 'F_Imperial_Latin', 'F_Romance', 'F_Italo-Western_Romance', 'F_Italo-Dalmatian', 'F_Italian_Romance']\n"
          ]
        }
      ]
    },
    {
      "cell_type": "markdown",
      "source": [
        "Syntactic table"
      ],
      "metadata": {
        "id": "At8qcU9JfF5G"
      }
    },
    {
      "cell_type": "code",
      "source": [
        "for i, prop in enumerate(syntax_features['CODE']):\n",
        "  print(i, prop)"
      ],
      "metadata": {
        "colab": {
          "base_uri": "https://localhost:8080/"
        },
        "id": "1LyICBjPdt-H",
        "outputId": "6362aa43-c5b5-48b8-950c-b7613ebd6fc1"
      },
      "execution_count": null,
      "outputs": [
        {
          "output_type": "stream",
          "name": "stdout",
          "text": [
            "0 S_SVO\n",
            "1 S_SOV\n",
            "2 S_VSO\n",
            "3 S_VOS\n",
            "4 S_OVS\n",
            "5 S_OSV\n",
            "6 S_SUBJECT_BEFORE_VERB\n",
            "7 S_SUBJECT_AFTER_VERB\n",
            "8 S_OBJECT_AFTER_VERB\n",
            "9 S_OBJECT_BEFORE_VERB\n",
            "10 S_SUBJECT_BEFORE_OBJECT\n",
            "11 S_SUBJECT_AFTER_OBJECT\n",
            "12 S_GENDER_MARK\n",
            "13 S_SEX_MARK\n",
            "14 S_DEFINITE_AFFIX\n",
            "15 S_DEFINITE_WORD\n",
            "16 S_INDEFINITE_AFFIX\n",
            "17 S_INDEFINITE_WORD\n",
            "18 S_POSSESSIVE_PREFIX\n",
            "19 S_POSSESSIVE_SUFFIX\n",
            "20 S_ADPOSITION_BEFORE_NOUN\n",
            "21 S_ADPOSITION_AFTER_NOUN\n",
            "22 S_POSSESSOR_BEFORE_NOUN\n",
            "23 S_POSSESSOR_AFTER_NOUN\n",
            "24 S_ADJECTIVE_BEFORE_NOUN\n",
            "25 S_ADJECTIVE_AFTER_NOUN\n",
            "26 S_DEMONSTRATIVE_WORD_BEFORE_NOUN\n",
            "27 S_DEMONSTRATIVE_WORD_AFTER_NOUN\n",
            "28 S_DEMONSTRATIVE_PREFIX\n",
            "29 S_DEMONSTRATIVE_SUFFIX\n",
            "30 S_NUMERAL_BEFORE_NOUN\n",
            "31 S_NUMERAL_AFTER_NOUN\n",
            "32 S_RELATIVE_BEFORE_NOUN\n",
            "33 S_RELATIVE_AFTER_NOUN\n",
            "34 S_RELATIVE_AROUND_NOUN\n",
            "35 S_NOMINATIVE_VS_ACCUSATIVE_MARK\n",
            "36 S_ERGATIVE_VS_ABSOLUTIVE_MARK\n",
            "37 S_NEGATIVE_WORD_BEFORE_VERB\n",
            "38 S_NEGATIVE_PREFIX\n",
            "39 S_NEGATIVE_WORD_AFTER_VERB\n",
            "40 S_NEGATIVE_SUFFIX\n",
            "41 S_NEGATIVE_WORD_BEFORE_SUBJECT\n",
            "42 S_NEGATIVE_WORD_AFTER_SUBJECT\n",
            "43 S_NEGATIVE_WORD_BEFORE_OBJECT\n",
            "44 S_NEGATIVE_WORD_AFTER_OBJECT\n",
            "45 S_NEGATIVE_WORD_INITIAL\n",
            "46 S_NEGATIVE_WORD_FINAL\n",
            "47 S_NEGATIVE_WORD_ADJACENT_BEFORE_VERB\n",
            "48 S_NEGATIVE_WORD_ADJACENT_AFTER_VERB\n",
            "49 S_PLURAL_PREFIX\n",
            "50 S_PLURAL_SUFFIX\n",
            "51 S_PLURAL_WORD\n",
            "52 S_OBJECT_HEADMARK\n",
            "53 S_OBJECT_DEPMARK\n",
            "54 S_POSSESSIVE_HEADMARK\n",
            "55 S_POSSESSIVE_DEPMARK\n",
            "56 S_TEND_HEADMARK\n",
            "57 S_TEND_DEPMARK\n",
            "58 S_TEND_PREFIX\n",
            "59 S_TEND_SUFFIX\n",
            "60 S_ANY_REDUP\n",
            "61 S_CASE_PREFIX\n",
            "62 S_CASE_SUFFIX\n",
            "63 S_CASE_PROCLITIC\n",
            "64 S_CASE_ENCLITIC\n",
            "65 S_CASE_MARK\n",
            "66 S_COMITATIVE_VS_INSTRUMENTAL_MARK\n",
            "67 S_NUMCLASS_MARK\n",
            "68 S_ADJECTIVE_WITHOUT_NOUN\n",
            "69 S_PERFECTIVE_VS_IMPERFECTIVE_MARK\n",
            "70 S_PAST_VS_PRESENT_MARK\n",
            "71 S_FUTURE_AFFIX\n",
            "72 S_TAM_PREFIX\n",
            "73 S_TAM_SUFFIX\n",
            "74 S_DEGREE_WORD_BEFORE_ADJECTIVE\n",
            "75 S_DEGREE_WORD_AFTER_ADJECTIVE\n",
            "76 S_POLARQ_MARK_INITIAL\n",
            "77 S_POLARQ_MARK_FINAL\n",
            "78 S_POLARQ_MARK_SECOND\n",
            "79 S_POLARQ_WORD\n",
            "80 S_POLARQ_AFFIX\n",
            "81 S_SUBORDINATOR_WORD_BEFORE_CLAUSE\n",
            "82 S_SUBORDINATOR_WORD_AFTER_CLAUSE\n",
            "83 S_SUBORDINATOR_SUFFIX\n",
            "84 S_PROSUBJECT_WORD\n",
            "85 S_PROSUBJECT_AFFIX\n",
            "86 S_PROSUBJECT_CLITIC\n",
            "87 S_NEGATIVE_AFFIX\n",
            "88 S_NEGATIVE_WORD\n",
            "89 S_ANY_AGREEMENT_ON_ADJECTIVES\n",
            "90 S_COMPLEMENTIZER_WORD_BEFORE_CLAUSE\n",
            "91 S_COMPLEMENTIZER_WORD_AFTER_CLAUSE\n",
            "92 S_VOX\n",
            "93 S_XVO\n",
            "94 S_XOV\n",
            "95 S_OXV\n",
            "96 S_OVX\n",
            "97 S_OBLIQUE_AFTER_VERB\n",
            "98 S_OBLIQUE_AFTER_OBJECT\n",
            "99 S_OBLIQUE_BEFORE_VERB\n",
            "100 S_OBLIQUE_BEFORE_OBJECT\n",
            "101 S_ARTICLE_WORD_BEFORE_NOUN\n",
            "102 S_ARTICLE_WORD_AFTER_NOUN\n"
          ]
        }
      ]
    },
    {
      "cell_type": "code",
      "source": [
        "properties_indices = [6, 7, 0, 51, 68, 2]"
      ],
      "metadata": {
        "id": "i5shy2l6efKJ"
      },
      "execution_count": null,
      "outputs": []
    },
    {
      "cell_type": "code",
      "source": [
        "print([syntax_features['CODE'][i] for i in properties_indices])\n",
        "print([syntax_features['eng'][i] for i in properties_indices])\n",
        "print([syntax_features['spa'][i] for i in properties_indices])\n",
        "print([syntax_features['ron'][i] for i in properties_indices])\n",
        "print([syntax_features['hun'][i] for i in properties_indices])\n",
        "print([syntax_features['ben'][i] for i in properties_indices])\n",
        "print([syntax_features['arb'][i] for i in properties_indices])"
      ],
      "metadata": {
        "colab": {
          "base_uri": "https://localhost:8080/"
        },
        "id": "Odl9jVspKn4L",
        "outputId": "87de9de1-9214-4c9b-dd31-7d4744dda1b9"
      },
      "execution_count": null,
      "outputs": [
        {
          "output_type": "stream",
          "name": "stdout",
          "text": [
            "['S_SUBJECT_BEFORE_VERB', 'S_SUBJECT_AFTER_VERB', 'S_SVO', 'S_PLURAL_WORD', 'S_ADJECTIVE_WITHOUT_NOUN', 'S_VSO']\n",
            "[1.0, 0.0, 1.0, 0.0, 0.0, 0.0]\n",
            "[1.0, 1.0, 1.0, 0.0, 1.0, 0.0]\n",
            "[1.0, 0.0, 1.0, 0.0, 1.0, 0.0]\n",
            "[1.0, 0.0, 1.0, 0.0, 1.0, 0.0]\n",
            "[1.0, 0.0, 0.0, 0.0, 1.0, 0.0]\n",
            "[0.0, 1.0, 0.0, 0.0, 1.0, 1.0]\n"
          ]
        }
      ]
    },
    {
      "cell_type": "code",
      "source": [
        "for i, prop in enumerate(phonology_features['CODE']):\n",
        "  print(i, prop)"
      ],
      "metadata": {
        "colab": {
          "base_uri": "https://localhost:8080/"
        },
        "id": "0vuhR3WRm8MR",
        "outputId": "a30e8cb6-7efd-4be0-8df3-668907767b23"
      },
      "execution_count": null,
      "outputs": [
        {
          "output_type": "stream",
          "name": "stdout",
          "text": [
            "0 P_VOICE\n",
            "1 P_VOICED_PLOSIVES\n",
            "2 P_VOICED_FRICATIVES\n",
            "3 P_EJECTIVES\n",
            "4 P_IMPLOSIVES\n",
            "5 P_GLOTTALIZED_RESONANTS\n",
            "6 P_UVULARS\n",
            "7 P_UVULAR_STOPS\n",
            "8 P_UVULAR_CONTINUANTS\n",
            "9 P_LATERALS\n",
            "10 P_LATERAL_L\n",
            "11 P_LATERAL_OBSTRUENTS\n",
            "12 P_NASAL_VOWELS\n",
            "13 P_FRONT_ROUND_VOWELS\n",
            "14 P_BILABIALS\n",
            "15 P_FRICATIVES\n",
            "16 P_NASALS\n",
            "17 P_LABIAL_VELARS\n",
            "18 P_CLICKS\n",
            "19 P_TH\n",
            "20 P_PHARYNGEALS\n",
            "21 P_COMPLEX_ONSETS\n",
            "22 P_TONE\n",
            "23 P_VELAR_NASAL\n",
            "24 P_VELAR_NASAL_INITIAL\n",
            "25 P_CODAS\n",
            "26 P_COMPLEX_CODAS\n",
            "27 P_LONG_VOWELS\n"
          ]
        }
      ]
    },
    {
      "cell_type": "code",
      "source": [
        "properties_indices = [i for i in range(len(phonology_features['CODE']))][10:]"
      ],
      "metadata": {
        "id": "XkwRk4yfwRZS"
      },
      "execution_count": null,
      "outputs": []
    },
    {
      "cell_type": "code",
      "source": [
        "properties_indices = [20]"
      ],
      "metadata": {
        "id": "xRN_c-dkw50t"
      },
      "execution_count": null,
      "outputs": []
    },
    {
      "cell_type": "code",
      "source": [
        "print([phonology_features['CODE'][i] for i in properties_indices])\n",
        "print([phonology_features['eng'][i] for i in properties_indices])\n",
        "print([phonology_features['spa'][i] for i in properties_indices])\n",
        "#print([phonology_features['ron'][i] for i in properties_indices])\n",
        "#print([phonology_features['hun'][i] for i in properties_indices])\n",
        "#print([phonology_features['ben'][i] for i in properties_indices])\n",
        "print([phonology_features['arb'][i] for i in properties_indices])"
      ],
      "metadata": {
        "colab": {
          "base_uri": "https://localhost:8080/"
        },
        "id": "2qXUdElAwKmj",
        "outputId": "aa412632-d793-4359-9414-c61126b51557"
      },
      "execution_count": null,
      "outputs": [
        {
          "output_type": "stream",
          "name": "stdout",
          "text": [
            "['P_LATERAL_L', 'P_LATERAL_OBSTRUENTS', 'P_NASAL_VOWELS', 'P_FRONT_ROUND_VOWELS', 'P_BILABIALS', 'P_FRICATIVES', 'P_NASALS', 'P_LABIAL_VELARS', 'P_CLICKS', 'P_TH', 'P_PHARYNGEALS', 'P_COMPLEX_ONSETS', 'P_TONE', 'P_VELAR_NASAL', 'P_VELAR_NASAL_INITIAL', 'P_CODAS', 'P_COMPLEX_CODAS', 'P_LONG_VOWELS']\n",
            "[1.0, 0.0, 0.0, 0.0, 1.0, 1.0, 1.0, 0.0, 0.0, 1.0, 0.0, 1.0, 0.0, 1.0, 0.0, 0.0, 0.0, 0.0]\n",
            "[1.0, 0.0, 0.0, 0.0, 1.0, 1.0, 1.0, 0.0, 0.0, 1.0, 0.0, 1.0, 0.0, 0.0, 0.0, 1.0, 0.0, 0.0]\n",
            "[1.0, 0.0, 0.0, 0.0, 1.0, 1.0, 1.0, 0.0, 0.0, 0.0, 1.0, 1.0, 0.0, 0.0, 0.0, 1.0, 0.0, 0.0]\n"
          ]
        }
      ]
    }
  ]
}